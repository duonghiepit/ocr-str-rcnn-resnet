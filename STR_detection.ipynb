{
 "cells": [
  {
   "cell_type": "markdown",
   "id": "2edf9523-da70-4fef-9534-738410b56d43",
   "metadata": {},
   "source": [
    "# 1. Import libraries"
   ]
  },
  {
   "cell_type": "code",
   "execution_count": 1,
   "id": "9ec4f4e3-e203-4f03-ab84-d5863c7189cb",
   "metadata": {},
   "outputs": [
    {
     "name": "stdout",
     "output_type": "stream",
     "text": [
      "Requirement already satisfied: scikit-learn in c:\\users\\admin\\anaconda3\\envs\\gpu_env\\lib\\site-packages (1.4.2)\n",
      "Requirement already satisfied: numpy>=1.19.5 in c:\\users\\admin\\anaconda3\\envs\\gpu_env\\lib\\site-packages (from scikit-learn) (1.26.4)\n",
      "Requirement already satisfied: scipy>=1.6.0 in c:\\users\\admin\\anaconda3\\envs\\gpu_env\\lib\\site-packages (from scikit-learn) (1.13.0)\n",
      "Requirement already satisfied: joblib>=1.2.0 in c:\\users\\admin\\anaconda3\\envs\\gpu_env\\lib\\site-packages (from scikit-learn) (1.4.0)\n",
      "Requirement already satisfied: threadpoolctl>=2.0.0 in c:\\users\\admin\\anaconda3\\envs\\gpu_env\\lib\\site-packages (from scikit-learn) (3.5.0)\n",
      "Note: you may need to restart the kernel to use updated packages.\n"
     ]
    }
   ],
   "source": [
    "pip install -U scikit-learn"
   ]
  },
  {
   "cell_type": "code",
   "execution_count": 2,
   "id": "80d256d8-1c28-4311-9899-beb1d538b932",
   "metadata": {},
   "outputs": [
    {
     "name": "stdout",
     "output_type": "stream",
     "text": [
      "Requirement already satisfied: ultralytics in c:\\users\\admin\\anaconda3\\envs\\gpu_env\\lib\\site-packages (8.2.5)\n",
      "Requirement already satisfied: matplotlib>=3.3.0 in c:\\users\\admin\\anaconda3\\envs\\gpu_env\\lib\\site-packages (from ultralytics) (3.8.0)\n",
      "Requirement already satisfied: opencv-python>=4.6.0 in c:\\users\\admin\\anaconda3\\envs\\gpu_env\\lib\\site-packages (from ultralytics) (4.9.0.80)\n",
      "Requirement already satisfied: pillow>=7.1.2 in c:\\users\\admin\\anaconda3\\envs\\gpu_env\\lib\\site-packages (from ultralytics) (10.2.0)\n",
      "Requirement already satisfied: pyyaml>=5.3.1 in c:\\users\\admin\\anaconda3\\envs\\gpu_env\\lib\\site-packages (from ultralytics) (6.0.1)\n",
      "Requirement already satisfied: requests>=2.23.0 in c:\\users\\admin\\anaconda3\\envs\\gpu_env\\lib\\site-packages (from ultralytics) (2.31.0)\n",
      "Requirement already satisfied: scipy>=1.4.1 in c:\\users\\admin\\anaconda3\\envs\\gpu_env\\lib\\site-packages (from ultralytics) (1.13.0)\n",
      "Requirement already satisfied: torch>=1.8.0 in c:\\users\\admin\\anaconda3\\envs\\gpu_env\\lib\\site-packages (from ultralytics) (2.2.2)\n",
      "Requirement already satisfied: torchvision>=0.9.0 in c:\\users\\admin\\anaconda3\\envs\\gpu_env\\lib\\site-packages (from ultralytics) (0.17.2)\n",
      "Requirement already satisfied: tqdm>=4.64.0 in c:\\users\\admin\\anaconda3\\envs\\gpu_env\\lib\\site-packages (from ultralytics) (4.66.2)\n",
      "Requirement already satisfied: psutil in c:\\users\\admin\\anaconda3\\envs\\gpu_env\\lib\\site-packages (from ultralytics) (5.9.0)\n",
      "Requirement already satisfied: py-cpuinfo in c:\\users\\admin\\anaconda3\\envs\\gpu_env\\lib\\site-packages (from ultralytics) (9.0.0)\n",
      "Requirement already satisfied: thop>=0.1.1 in c:\\users\\admin\\anaconda3\\envs\\gpu_env\\lib\\site-packages (from ultralytics) (0.1.1.post2209072238)\n",
      "Requirement already satisfied: pandas>=1.1.4 in c:\\users\\admin\\anaconda3\\envs\\gpu_env\\lib\\site-packages (from ultralytics) (2.2.1)\n",
      "Requirement already satisfied: seaborn>=0.11.0 in c:\\users\\admin\\anaconda3\\envs\\gpu_env\\lib\\site-packages (from ultralytics) (0.13.2)\n",
      "Requirement already satisfied: contourpy>=1.0.1 in c:\\users\\admin\\anaconda3\\envs\\gpu_env\\lib\\site-packages (from matplotlib>=3.3.0->ultralytics) (1.2.0)\n",
      "Requirement already satisfied: cycler>=0.10 in c:\\users\\admin\\anaconda3\\envs\\gpu_env\\lib\\site-packages (from matplotlib>=3.3.0->ultralytics) (0.11.0)\n",
      "Requirement already satisfied: fonttools>=4.22.0 in c:\\users\\admin\\anaconda3\\envs\\gpu_env\\lib\\site-packages (from matplotlib>=3.3.0->ultralytics) (4.25.0)\n",
      "Requirement already satisfied: kiwisolver>=1.0.1 in c:\\users\\admin\\anaconda3\\envs\\gpu_env\\lib\\site-packages (from matplotlib>=3.3.0->ultralytics) (1.4.4)\n",
      "Requirement already satisfied: numpy<2,>=1.21 in c:\\users\\admin\\anaconda3\\envs\\gpu_env\\lib\\site-packages (from matplotlib>=3.3.0->ultralytics) (1.26.4)\n",
      "Requirement already satisfied: packaging>=20.0 in c:\\users\\admin\\anaconda3\\envs\\gpu_env\\lib\\site-packages (from matplotlib>=3.3.0->ultralytics) (23.2)\n",
      "Requirement already satisfied: pyparsing>=2.3.1 in c:\\users\\admin\\anaconda3\\envs\\gpu_env\\lib\\site-packages (from matplotlib>=3.3.0->ultralytics) (3.0.9)\n",
      "Requirement already satisfied: python-dateutil>=2.7 in c:\\users\\admin\\anaconda3\\envs\\gpu_env\\lib\\site-packages (from matplotlib>=3.3.0->ultralytics) (2.8.2)\n",
      "Requirement already satisfied: pytz>=2020.1 in c:\\users\\admin\\anaconda3\\envs\\gpu_env\\lib\\site-packages (from pandas>=1.1.4->ultralytics) (2023.3.post1)\n",
      "Requirement already satisfied: tzdata>=2022.7 in c:\\users\\admin\\anaconda3\\envs\\gpu_env\\lib\\site-packages (from pandas>=1.1.4->ultralytics) (2023.3)\n",
      "Requirement already satisfied: charset-normalizer<4,>=2 in c:\\users\\admin\\anaconda3\\envs\\gpu_env\\lib\\site-packages (from requests>=2.23.0->ultralytics) (2.0.4)\n",
      "Requirement already satisfied: idna<4,>=2.5 in c:\\users\\admin\\anaconda3\\envs\\gpu_env\\lib\\site-packages (from requests>=2.23.0->ultralytics) (3.4)\n",
      "Requirement already satisfied: urllib3<3,>=1.21.1 in c:\\users\\admin\\anaconda3\\envs\\gpu_env\\lib\\site-packages (from requests>=2.23.0->ultralytics) (2.1.0)\n",
      "Requirement already satisfied: certifi>=2017.4.17 in c:\\users\\admin\\anaconda3\\envs\\gpu_env\\lib\\site-packages (from requests>=2.23.0->ultralytics) (2024.2.2)\n",
      "Requirement already satisfied: filelock in c:\\users\\admin\\anaconda3\\envs\\gpu_env\\lib\\site-packages (from torch>=1.8.0->ultralytics) (3.13.1)\n",
      "Requirement already satisfied: typing-extensions>=4.8.0 in c:\\users\\admin\\anaconda3\\envs\\gpu_env\\lib\\site-packages (from torch>=1.8.0->ultralytics) (4.9.0)\n",
      "Requirement already satisfied: sympy in c:\\users\\admin\\anaconda3\\envs\\gpu_env\\lib\\site-packages (from torch>=1.8.0->ultralytics) (1.12)\n",
      "Requirement already satisfied: networkx in c:\\users\\admin\\anaconda3\\envs\\gpu_env\\lib\\site-packages (from torch>=1.8.0->ultralytics) (3.1)\n",
      "Requirement already satisfied: jinja2 in c:\\users\\admin\\anaconda3\\envs\\gpu_env\\lib\\site-packages (from torch>=1.8.0->ultralytics) (3.1.3)\n",
      "Requirement already satisfied: fsspec in c:\\users\\admin\\anaconda3\\envs\\gpu_env\\lib\\site-packages (from torch>=1.8.0->ultralytics) (2024.3.1)\n",
      "Requirement already satisfied: colorama in c:\\users\\admin\\anaconda3\\envs\\gpu_env\\lib\\site-packages (from tqdm>=4.64.0->ultralytics) (0.4.6)\n",
      "Requirement already satisfied: six>=1.5 in c:\\users\\admin\\anaconda3\\envs\\gpu_env\\lib\\site-packages (from python-dateutil>=2.7->matplotlib>=3.3.0->ultralytics) (1.16.0)\n",
      "Requirement already satisfied: MarkupSafe>=2.0 in c:\\users\\admin\\anaconda3\\envs\\gpu_env\\lib\\site-packages (from jinja2->torch>=1.8.0->ultralytics) (2.1.3)\n",
      "Requirement already satisfied: mpmath>=0.19 in c:\\users\\admin\\anaconda3\\envs\\gpu_env\\lib\\site-packages (from sympy->torch>=1.8.0->ultralytics) (1.3.0)\n",
      "Note: you may need to restart the kernel to use updated packages.\n"
     ]
    }
   ],
   "source": [
    "%pip install ultralytics"
   ]
  },
  {
   "cell_type": "code",
   "execution_count": 3,
   "id": "989aad05-a277-4333-b644-3fb7370e9a7d",
   "metadata": {},
   "outputs": [
    {
     "name": "stdout",
     "output_type": "stream",
     "text": [
      "Ultralytics YOLOv8.2.5  Python-3.12.2 torch-2.2.2 CUDA:0 (NVIDIA GeForce RTX 2060, 6144MiB)\n",
      "Setup complete  (12 CPUs, 15.8 GB RAM, 188.0/237.8 GB disk)\n"
     ]
    }
   ],
   "source": [
    "import ultralytics\n",
    "ultralytics.checks()"
   ]
  },
  {
   "cell_type": "code",
   "execution_count": 4,
   "id": "1c8f9464-5001-4fe5-bd37-0f3484880303",
   "metadata": {},
   "outputs": [],
   "source": [
    "import os\n",
    "import shutil\n",
    "import yaml\n",
    "import xml.etree.ElementTree as ET\n",
    "\n",
    "from sklearn.model_selection import train_test_split"
   ]
  },
  {
   "cell_type": "markdown",
   "id": "ce56d03f-350d-424e-b83a-dcba32040cce",
   "metadata": {},
   "source": [
    "# 2. Extract Data from XML and store in YOLOv8 format"
   ]
  },
  {
   "cell_type": "code",
   "execution_count": 5,
   "id": "41d00c44-79d7-4f50-854a-57ce7d5a5a38",
   "metadata": {},
   "outputs": [],
   "source": [
    "def extract_data_from_xml(root_dir):\n",
    "    xml_path = os.path.join(root_dir, 'words.xml')\n",
    "    # Parse file xml\n",
    "    tree = ET.parse(xml_path)\n",
    "    # Đọc thẻ root của file\n",
    "    root = tree.getroot()\n",
    "\n",
    "    # Khai bao cac list rong de luu tru du lieu\n",
    "    img_paths = []\n",
    "    img_sizes = []\n",
    "    img_labels = []\n",
    "    bboxes = []\n",
    "\n",
    "    # Duyet qua tung the anh <image>\n",
    "    for img in root:\n",
    "        bbs_of_img = []\n",
    "        labels_of_img = []\n",
    "\n",
    "        for bbs in img.findall('taggedRectangles'):\n",
    "            for bb in bbs:\n",
    "                # Bo qua truong hop label khoong phai ky tu alphabet hoac so\n",
    "                if not bb[0].text.isalnum():\n",
    "                    continue\n",
    "\n",
    "                # Bo qua truong hop label la cac ky tu khong thuoc unicode\n",
    "                if 'é' in bb[0].text.lower() or 'ñ' in bb[0].text.lower():\n",
    "                    continue\n",
    "\n",
    "                # Dua thong tin toa do bbox vao list bbs_of_img\n",
    "                # format bbox: (xmin, ymin, bbox_width, bbox_height)\n",
    "                bbs_of_img.append(\n",
    "                    [\n",
    "                        float(bb.attrib['x']),\n",
    "                        float(bb.attrib['y']),\n",
    "                        float(bb.attrib['width']),\n",
    "                        float(bb.attrib['height'])\n",
    "                    ]\n",
    "                )\n",
    "                # Dua label vao list labels_of_img\n",
    "                labels_of_img.append(bb[0].text.lower())\n",
    "\n",
    "        # Dua thong tin path img dang xet vao list img_paths\n",
    "        img_paths.append(os.path.join(root_dir, img[0].text))\n",
    "        # Dua thong tin img resolution vao list img_sizes\n",
    "        img_sizes.append(\n",
    "            (\n",
    "                int(img[1].attrib['x']),\n",
    "                int(img[1].attrib['y'])\n",
    "            )\n",
    "        )\n",
    "        # Dua list bbox vao list bboxes\n",
    "        bboxes.append(bbs_of_img)\n",
    "        # Dua list labels vaoo list img_labels\n",
    "        img_labels.append(labels_of_img)\n",
    "\n",
    "    return img_paths, img_sizes, img_labels, bboxes"
   ]
  },
  {
   "cell_type": "code",
   "execution_count": 6,
   "id": "66bc897c-8ce9-471e-b6b5-8000a401188d",
   "metadata": {},
   "outputs": [],
   "source": [
    "os.chdir(f'{os.getcwd()}\\\\icdar2003\\\\SceneTrialTrain')"
   ]
  },
  {
   "cell_type": "code",
   "execution_count": 7,
   "id": "b0643eb5-6429-4044-ab83-70685364f270",
   "metadata": {},
   "outputs": [],
   "source": [
    "# Thuc hien loi goi ham extract_data_from_xml\n",
    "dataset_dir = os.getcwd()\n",
    "img_paths, img_sizes, img_labels, bboxes = extract_data_from_xml(dataset_dir)"
   ]
  },
  {
   "cell_type": "code",
   "execution_count": 8,
   "id": "1d10c892-20ac-4ad9-8d03-05b388ffe3d3",
   "metadata": {},
   "outputs": [
    {
     "name": "stdout",
     "output_type": "stream",
     "text": [
      "[[432.0, 635.0, 847.0, 172.0]]\n"
     ]
    }
   ],
   "source": [
    "print(bboxes[1])"
   ]
  },
  {
   "cell_type": "code",
   "execution_count": 9,
   "id": "e7bf553d-de29-4366-bbd0-a477b85c99a1",
   "metadata": {},
   "outputs": [
    {
     "name": "stdout",
     "output_type": "stream",
     "text": [
      "Total image: 250\n",
      "Total bounding boxes: 1097\n"
     ]
    }
   ],
   "source": [
    "print(f\"Total image: {len(img_paths)}\")\n",
    "print(f\"Total bounding boxes: {sum([len(bbs) for bbs in bboxes])}\")"
   ]
  },
  {
   "cell_type": "markdown",
   "id": "501cd7ff-b971-451f-bb1a-570c6905afca",
   "metadata": {},
   "source": [
    "# 3. Convert to YOLOv8 format"
   ]
  },
  {
   "cell_type": "code",
   "execution_count": 10,
   "id": "096f53cc-96cd-4247-8be6-636cbbd3cc4b",
   "metadata": {},
   "outputs": [],
   "source": [
    "def convert_to_yolov8_format(image_paths, image_sizes, bounding_boxes):\n",
    "    \"\"\"\n",
    "    Thực hiện normalize bounding box\n",
    "\n",
    "    Parameters:\n",
    "        image_paths (list): Danh sách chứa các path ảnh;\n",
    "        image_sizes (list): Danh sách chứa độ phân giải ảnh;\n",
    "        bounding_boxes (list): Danh sách chứa danh sách bbox.\n",
    "\n",
    "    Returns:\n",
    "        yolov8_data (list): Danh sách gồm (image_path, image_size, bboxes)\n",
    "    \"\"\"\n",
    "    # Khai bao list rong de chua ket qua\n",
    "    yolov8_data = []\n",
    "\n",
    "    # Duyet qua tung bo path, resolution va bboxes anh.\n",
    "    for image_path, image_size, bboxes in zip(image_paths, image_sizes, bounding_boxes):\n",
    "        image_width, image_height = image_size\n",
    "\n",
    "        # Khai baoo list rong de chua label (format yolov8)\n",
    "        yolov8_labels = []\n",
    "\n",
    "        for bbox in bboxes:\n",
    "            x, y, w, h = bbox\n",
    "\n",
    "            # Current format: (x_min, y_min, width, height)\n",
    "            # New format: (x_center, y_center, width, height)\n",
    "            center_x = (x + w / 2) / image_width\n",
    "            center_y = (y + h / 2) / image_height\n",
    "            normalized_width = w / image_width\n",
    "            normalized_height = h / image_height\n",
    "\n",
    "            # Ma class, mac dinh = 0 vi chi co 1 class 'text'\n",
    "            class_id = 0\n",
    "\n",
    "            # Doi format label\n",
    "            # Format: \"class_id x_center y_center width height\"\n",
    "            yolov8_label = f\"{class_id} {center_x} {center_y} {normalized_width} {normalized_height}\"\n",
    "            yolov8_labels.append(yolov8_label)\n",
    "\n",
    "        yolov8_data.append((image_path, yolov8_labels))\n",
    "\n",
    "    return yolov8_data"
   ]
  },
  {
   "cell_type": "code",
   "execution_count": 11,
   "id": "39d7ed7b-73f6-4497-923b-4fceed199b9d",
   "metadata": {},
   "outputs": [],
   "source": [
    "# Dinh nghia class\n",
    "class_labels = ['text']\n",
    "\n",
    "# Thuc hien loi goi ham\n",
    "yolov8_data = convert_to_yolov8_format(\n",
    "    img_paths,\n",
    "    img_sizes,\n",
    "    bboxes\n",
    ")"
   ]
  },
  {
   "cell_type": "code",
   "execution_count": 12,
   "id": "533b557b-fc38-40d7-b6fd-ac51f9e56a39",
   "metadata": {
    "scrolled": true
   },
   "outputs": [
    {
     "data": {
      "text/plain": [
       "[('C:\\\\Users\\\\Admin\\\\AIO\\\\OCR_STR(Yolov8+CNN)\\\\icdar2003\\\\SceneTrialTrain\\\\apanar_06.08.2002/IMG_1261.JPG',\n",
       "  ['0 0.194375 0.40791666666666665 0.17125 0.1625',\n",
       "   '0 0.5321875 0.40208333333333335 0.424375 0.1525',\n",
       "   '0 0.309375 0.5825 0.38875 0.145',\n",
       "   '0 0.67875 0.5770833333333333 0.27875 0.15583333333333332',\n",
       "   '0 0.0746875 0.04125 0.059375 0.0725',\n",
       "   '0 0.2159375 0.03833333333333333 0.123125 0.07333333333333333',\n",
       "   '0 0.5309375 0.03375 0.071875 0.0675',\n",
       "   '0 0.19625 0.7645833333333333 0.1425 0.11583333333333333',\n",
       "   '0 0.3471875 0.7770833333333333 0.103125 0.09083333333333334',\n",
       "   '0 0.4496875 0.7758333333333334 0.044375 0.08833333333333333',\n",
       "   '0 0.571875 0.7620833333333333 0.13625 0.1175']),\n",
       " ('C:\\\\Users\\\\Admin\\\\AIO\\\\OCR_STR(Yolov8+CNN)\\\\icdar2003\\\\SceneTrialTrain\\\\apanar_06.08.2002/IMG_1263.JPG',\n",
       "  ['0 0.5346875 0.6008333333333333 0.529375 0.14333333333333334']),\n",
       " ('C:\\\\Users\\\\Admin\\\\AIO\\\\OCR_STR(Yolov8+CNN)\\\\icdar2003\\\\SceneTrialTrain\\\\apanar_06.08.2002/IMG_1265.JPG',\n",
       "  ['0 0.566875 0.21875 0.31375 0.0675',\n",
       "   '0 0.56 0.22375 0.3375 0.025833333333333333',\n",
       "   '0 0.5709375 0.28458333333333335 0.255625 0.0575',\n",
       "   '0 0.5771875 0.33708333333333335 0.165625 0.060833333333333336',\n",
       "   '0 0.7378125 0.8020833333333334 0.035625 0.015833333333333335',\n",
       "   '0 0.4278125 0.8445833333333334 0.039375 0.0125',\n",
       "   '0 0.7228125 0.8175 0.069375 0.011666666666666667',\n",
       "   '0 0.6875 0.84 0.04375 0.013333333333333334',\n",
       "   '0 0.734375 0.8395833333333333 0.04625 0.0125',\n",
       "   '0 0.7121875 0.8616666666666667 0.090625 0.015']),\n",
       " ('C:\\\\Users\\\\Admin\\\\AIO\\\\OCR_STR(Yolov8+CNN)\\\\icdar2003\\\\SceneTrialTrain\\\\apanar_06.08.2002/IMG_1269.JPG',\n",
       "  ['0 0.44625 0.64625 0.04 0.035833333333333335',\n",
       "   '0 0.5165625 0.6491666666666667 0.038125 0.03333333333333333',\n",
       "   '0 0.40125 0.4725 0.08625 0.043333333333333335',\n",
       "   '0 0.57375 0.46875 0.21875 0.050833333333333335',\n",
       "   '0 0.733125 0.47125 0.04 0.0625',\n",
       "   '0 0.4334375 0.5508333333333333 0.064375 0.043333333333333335',\n",
       "   '0 0.6059375 0.5454166666666667 0.226875 0.049166666666666664',\n",
       "   '0 0.573125 0.23458333333333334 0.23375 0.06416666666666666',\n",
       "   '0 0.561875 0.32083333333333336 0.4025 0.085',\n",
       "   '0 0.4128125 0.3925 0.061875 0.021666666666666667',\n",
       "   '0 0.4728125 0.3904166666666667 0.053125 0.0225',\n",
       "   '0 0.523125 0.38666666666666666 0.03375 0.021666666666666667',\n",
       "   '0 0.585625 0.3854166666666667 0.0825 0.020833333333333332',\n",
       "   '0 0.6440625 0.3825 0.026875 0.02',\n",
       "   '0 0.683125 0.38333333333333336 0.04375 0.023333333333333334',\n",
       "   '0 0.7334375 0.3804166666666667 0.048125 0.0175',\n",
       "   '0 0.5365625 0.41583333333333333 0.054375 0.021666666666666667',\n",
       "   '0 0.59875 0.41291666666666665 0.0625 0.019166666666666665']),\n",
       " ('C:\\\\Users\\\\Admin\\\\AIO\\\\OCR_STR(Yolov8+CNN)\\\\icdar2003\\\\SceneTrialTrain\\\\apanar_06.08.2002/IMG_1281.JPG',\n",
       "  ['0 0.5178125 0.2775 0.245625 0.07166666666666667',\n",
       "   '0 0.6278125 0.33708333333333335 0.160625 0.030833333333333334',\n",
       "   '0 0.438125 0.7508333333333334 0.05125 0.02',\n",
       "   '0 0.6028125 0.6595833333333333 0.033125 0.020833333333333332',\n",
       "   '0 0.65375 0.65875 0.0575 0.020833333333333332',\n",
       "   '0 0.69875 0.6579166666666667 0.02125 0.014166666666666666',\n",
       "   '0 0.6040625 0.6870833333333334 0.036875 0.019166666666666665',\n",
       "   '0 0.6559375 0.685 0.056875 0.02']),\n",
       " ('C:\\\\Users\\\\Admin\\\\AIO\\\\OCR_STR(Yolov8+CNN)\\\\icdar2003\\\\SceneTrialTrain\\\\apanar_06.08.2002/IMG_1282.JPG',\n",
       "  ['0 0.565 0.1375 0.2275 0.058333333333333334',\n",
       "   '0 0.5378125 0.25125 0.175625 0.0725',\n",
       "   '0 0.4853125 0.35 0.075625 0.058333333333333334',\n",
       "   '0 0.548125 0.5716666666666667 0.2025 0.07166666666666667',\n",
       "   '0 0.4559375 0.8791666666666667 0.028125 0.056666666666666664',\n",
       "   '0 0.5053125 0.8791666666666667 0.029375 0.05333333333333334',\n",
       "   '0 0.67 0.8766666666666667 0.25 0.05333333333333334']),\n",
       " ('C:\\\\Users\\\\Admin\\\\AIO\\\\OCR_STR(Yolov8+CNN)\\\\icdar2003\\\\SceneTrialTrain\\\\apanar_06.08.2002/IMG_1283.JPG',\n",
       "  ['0 0.5209375 0.21333333333333335 0.395625 0.09333333333333334',\n",
       "   '0 0.49125 0.3095833333333333 0.08875 0.034166666666666665',\n",
       "   '0 0.57375 0.30791666666666667 0.06 0.0325',\n",
       "   '0 0.6346875 0.30833333333333335 0.041875 0.03',\n",
       "   '0 0.68125 0.3095833333333333 0.0275 0.029166666666666667',\n",
       "   '0 0.414375 0.4345833333333333 0.08 0.0275',\n",
       "   '0 0.3965625 0.4970833333333333 0.043125 0.020833333333333332',\n",
       "   '0 0.3934375 0.5379166666666667 0.039375 0.020833333333333332',\n",
       "   '0 0.389375 0.5775 0.03375 0.02',\n",
       "   '0 0.423125 0.57875 0.02 0.019166666666666665',\n",
       "   '0 0.4553125 0.58 0.035625 0.018333333333333333',\n",
       "   '0 0.4996875 0.5825 0.044375 0.021666666666666667']),\n",
       " ('C:\\\\Users\\\\Admin\\\\AIO\\\\OCR_STR(Yolov8+CNN)\\\\icdar2003\\\\SceneTrialTrain\\\\apanar_06.08.2002/IMG_1284.JPG',\n",
       "  ['0 0.474375 0.33208333333333334 0.18125 0.0425',\n",
       "   '0 0.4321875 0.37958333333333333 0.096875 0.04083333333333333',\n",
       "   '0 0.50125 0.37958333333333333 0.0275 0.04083333333333333',\n",
       "   '0 0.4528125 0.4270833333333333 0.138125 0.0425',\n",
       "   '0 0.473125 0.47791666666666666 0.17625 0.04416666666666667',\n",
       "   '0 0.3884375 0.5341666666666667 0.024375 0.015',\n",
       "   '0 0.4125 0.53375 0.01875 0.015833333333333335',\n",
       "   '0 0.4425 0.5333333333333333 0.03 0.013333333333333334',\n",
       "   '0 0.48 0.5333333333333333 0.03875 0.013333333333333334',\n",
       "   '0 0.5153125 0.5325 0.019375 0.015',\n",
       "   '0 0.5403125 0.5304166666666666 0.025625 0.014166666666666666',\n",
       "   '0 0.571875 0.5295833333333333 0.025 0.014166666666666666',\n",
       "   '0 0.6053125 0.5279166666666667 0.036875 0.014166666666666666',\n",
       "   '0 0.389375 0.7958333333333333 0.02125 0.01',\n",
       "   '0 0.415 0.795 0.02625 0.011666666666666667']),\n",
       " ('C:\\\\Users\\\\Admin\\\\AIO\\\\OCR_STR(Yolov8+CNN)\\\\icdar2003\\\\SceneTrialTrain\\\\apanar_06.08.2002/IMG_1285.JPG',\n",
       "  ['0 0.56875 0.7395833333333334 0.23 0.03916666666666667',\n",
       "   '0 0.5690625 0.7783333333333333 0.135625 0.035',\n",
       "   '0 0.53875 0.21291666666666667 0.26375 0.04416666666666667',\n",
       "   '0 0.5415625 0.26416666666666666 0.175625 0.043333333333333335',\n",
       "   '0 0.540625 0.31666666666666665 0.22375 0.043333333333333335',\n",
       "   '0 0.5178125 0.36666666666666664 0.026875 0.018333333333333333',\n",
       "   '0 0.5578125 0.36666666666666664 0.041875 0.016666666666666666']),\n",
       " ('C:\\\\Users\\\\Admin\\\\AIO\\\\OCR_STR(Yolov8+CNN)\\\\icdar2003\\\\SceneTrialTrain\\\\apanar_06.08.2002/IMG_1286.JPG',\n",
       "  ['0 0.5128125 0.12166666666666667 0.101875 0.02666666666666667',\n",
       "   '0 0.6090625 0.12166666666666667 0.078125 0.025',\n",
       "   '0 0.375 0.2075 0.1475 0.04833333333333333',\n",
       "   '0 0.5290625 0.20458333333333334 0.144375 0.04416666666666667',\n",
       "   '0 0.516875 0.2575 0.11625 0.045',\n",
       "   '0 0.396875 0.25625 0.105 0.034166666666666665',\n",
       "   '0 0.374375 0.33875 0.02875 0.025833333333333333',\n",
       "   '0 0.44625 0.33708333333333335 0.09875 0.029166666666666667',\n",
       "   '0 0.585625 0.33666666666666667 0.095 0.02666666666666667',\n",
       "   '0 0.72375 0.3358333333333333 0.16125 0.028333333333333332',\n",
       "   '0 0.4809375 0.8383333333333334 0.124375 0.03333333333333333',\n",
       "   '0 0.48125 0.8820833333333333 0.13125 0.030833333333333334',\n",
       "   '0 0.4128125 0.9733333333333334 0.026875 0.028333333333333332',\n",
       "   '0 0.4990625 0.9704166666666667 0.130625 0.030833333333333334',\n",
       "   '0 0.3759375 0.105 0.159375 0.058333333333333334']),\n",
       " ('C:\\\\Users\\\\Admin\\\\AIO\\\\OCR_STR(Yolov8+CNN)\\\\icdar2003\\\\SceneTrialTrain\\\\apanar_06.08.2002/IMG_1288.JPG',\n",
       "  ['0 0.5771875 0.2175 0.208125 0.07666666666666666',\n",
       "   '0 0.7796875 0.21541666666666667 0.180625 0.08083333333333333',\n",
       "   '0 0.2975 0.22583333333333333 0.05 0.1']),\n",
       " ('C:\\\\Users\\\\Admin\\\\AIO\\\\OCR_STR(Yolov8+CNN)\\\\icdar2003\\\\SceneTrialTrain\\\\apanar_06.08.2002/IMG_1289.JPG',\n",
       "  ['0 0.479375 0.10833333333333334 0.085 0.035',\n",
       "   '0 0.613125 0.11 0.1625 0.03666666666666667',\n",
       "   '0 0.3809375 0.23958333333333334 0.034375 0.04583333333333333',\n",
       "   '0 0.6078125 0.24458333333333335 0.205625 0.0625',\n",
       "   '0 0.74875 0.23541666666666666 0.04375 0.050833333333333335',\n",
       "   '0 0.58625 0.31375 0.19 0.0625',\n",
       "   '0 0.56875 0.37125 0.2275 0.0475',\n",
       "   '0 0.5128125 0.48083333333333333 0.096875 0.025',\n",
       "   '0 0.61875 0.48 0.1 0.02666666666666667']),\n",
       " ('C:\\\\Users\\\\Admin\\\\AIO\\\\OCR_STR(Yolov8+CNN)\\\\icdar2003\\\\SceneTrialTrain\\\\apanar_06.08.2002/IMG_1290.JPG',\n",
       "  ['0 0.533125 0.24833333333333332 0.59625 0.17833333333333334',\n",
       "   '0 0.531875 0.40208333333333335 0.59125 0.13083333333333333',\n",
       "   '0 0.4625 0.48875 0.065 0.050833333333333335',\n",
       "   '0 0.631875 0.48791666666666667 0.2475 0.050833333333333335']),\n",
       " ('C:\\\\Users\\\\Admin\\\\AIO\\\\OCR_STR(Yolov8+CNN)\\\\icdar2003\\\\SceneTrialTrain\\\\apanar_06.08.2002/IMG_1291.JPG',\n",
       "  ['0 0.1665625 0.17208333333333334 0.125625 0.04083333333333333',\n",
       "   '0 0.4659375 0.22916666666666666 0.151875 0.13833333333333334',\n",
       "   '0 0.7621875 0.20625 0.373125 0.12083333333333333',\n",
       "   '0 0.775625 0.39416666666666667 0.33 0.09']),\n",
       " ('C:\\\\Users\\\\Admin\\\\AIO\\\\OCR_STR(Yolov8+CNN)\\\\icdar2003\\\\SceneTrialTrain\\\\apanar_06.08.2002/IMG_1292.JPG',\n",
       "  ['0 0.5897997496871089 0.4202819956616052 0.6964956195244055 0.23752711496746204']),\n",
       " ('C:\\\\Users\\\\Admin\\\\AIO\\\\OCR_STR(Yolov8+CNN)\\\\icdar2003\\\\SceneTrialTrain\\\\apanar_06.08.2002/IMG_1293.JPG',\n",
       "  ['0 0.3462151394422311 0.39755351681957185 0.33705179282868525 0.10805300713557595',\n",
       "   '0 0.6442231075697211 0.40672782874617736 0.1952191235059761 0.1019367991845056',\n",
       "   '0 0.8832669322709163 0.41743119266055045 0.20318725099601595 0.08664627930682976',\n",
       "   '0 0.08406374501992032 0.8786952089704383 0.16334661354581673 0.0672782874617737',\n",
       "   '0 0.2597609561752988 0.8751274209989807 0.1450199203187251 0.047910295616717634',\n",
       "   '0 0.3713147410358566 0.8741080530071356 0.04780876494023904 0.05402650356778797',\n",
       "   '0 0.5103585657370517 0.8751274209989807 0.15697211155378485 0.05402650356778797',\n",
       "   '0 0.7366533864541832 0.8837920489296636 0.26055776892430277 0.0672782874617737',\n",
       "   '0 0.9211155378486056 0.8746177370030581 0.07171314741035857 0.05504587155963303',\n",
       "   '0 0.1398406374501992 0.9627930682976554 0.24940239043824702 0.05402650356778797',\n",
       "   '0 0.35179282868525896 0.9638124362895005 0.12031872509960159 0.05198776758409786',\n",
       "   '0 0.48366533864541833 0.9648318042813455 0.09721115537848606 0.05198776758409786',\n",
       "   '0 0.6426294820717131 0.9627930682976554 0.15856573705179283 0.05606523955147808',\n",
       "   '0 0.8442231075697211 0.9668705402650357 0.21115537848605578 0.06625891946992865']),\n",
       " ('C:\\\\Users\\\\Admin\\\\AIO\\\\OCR_STR(Yolov8+CNN)\\\\icdar2003\\\\SceneTrialTrain\\\\apanar_06.08.2002/IMG_1294.JPG',\n",
       "  ['0 0.4123665480427046 0.5209302325581395 0.5756227758007118 0.46511627906976744']),\n",
       " ('C:\\\\Users\\\\Admin\\\\AIO\\\\OCR_STR(Yolov8+CNN)\\\\icdar2003\\\\SceneTrialTrain\\\\apanar_06.08.2002/IMG_1298.JPG',\n",
       "  ['0 0.7025 0.9658333333333333 0.29125 0.025',\n",
       "   '0 0.568125 0.25375 0.3775 0.06916666666666667',\n",
       "   '0 0.56875 0.15208333333333332 0.37 0.07083333333333333',\n",
       "   '0 0.4003125 0.08541666666666667 0.044375 0.029166666666666667',\n",
       "   '0 0.5696875 0.08375 0.259375 0.029166666666666667',\n",
       "   '0 0.734375 0.0825 0.0425 0.028333333333333332',\n",
       "   '0 0.66125 0.7179166666666666 0.17 0.05416666666666667',\n",
       "   '0 0.3846875 0.9670833333333333 0.199375 0.025833333333333333']),\n",
       " ('C:\\\\Users\\\\Admin\\\\AIO\\\\OCR_STR(Yolov8+CNN)\\\\icdar2003\\\\SceneTrialTrain\\\\apanar_06.08.2002/IMG_1299.JPG',\n",
       "  ['0 0.1378125 0.5870833333333333 0.114375 0.0325',\n",
       "   '0 0.14 0.62625 0.1175 0.034166666666666665',\n",
       "   '0 0.123125 0.6808333333333333 0.0825 0.03333333333333333',\n",
       "   '0 0.136875 0.7195833333333334 0.11125 0.034166666666666665',\n",
       "   '0 0.56125 0.39416666666666667 0.4275 0.07',\n",
       "   '0 0.58625 0.31666666666666665 0.28375 0.065',\n",
       "   '0 0.419375 0.46166666666666667 0.02 0.03166666666666667',\n",
       "   '0 0.49625 0.46166666666666667 0.1175 0.03333333333333333',\n",
       "   '0 0.6365625 0.4633333333333333 0.149375 0.03166666666666667']),\n",
       " ('C:\\\\Users\\\\Admin\\\\AIO\\\\OCR_STR(Yolov8+CNN)\\\\icdar2003\\\\SceneTrialTrain\\\\apanar_06.08.2002/IMG_1300.JPG',\n",
       "  ['0 0.565 0.08958333333333333 0.1025 0.0225',\n",
       "   '0 0.64625 0.07125 0.02875 0.0775',\n",
       "   '0 0.685 0.1525 0.17875 0.041666666666666664',\n",
       "   '0 0.2740625 0.31916666666666665 0.079375 0.03833333333333333',\n",
       "   '0 0.42875 0.31708333333333333 0.18375 0.0375',\n",
       "   '0 0.5703125 0.31375 0.050625 0.0375',\n",
       "   '0 0.5659375 0.42291666666666666 0.330625 0.050833333333333335',\n",
       "   '0 0.56625 0.5129166666666667 0.3925 0.04416666666666667']),\n",
       " ('C:\\\\Users\\\\Admin\\\\AIO\\\\OCR_STR(Yolov8+CNN)\\\\icdar2003\\\\SceneTrialTrain\\\\apanar_06.08.2002/IMG_1301.JPG',\n",
       "  ['0 0.6863874345549739 0.877 0.36544502617801045 0.158',\n",
       "   '0 0.569109947643979 0.712 0.7528795811518325 0.22',\n",
       "   '0 0.3219895287958115 0.552 0.12041884816753927 0.16',\n",
       "   '0 0.5005235602094241 0.39 0.8984293193717278 0.168']),\n",
       " ('C:\\\\Users\\\\Admin\\\\AIO\\\\OCR_STR(Yolov8+CNN)\\\\icdar2003\\\\SceneTrialTrain\\\\apanar_06.08.2002/IMG_1302.JPG',\n",
       "  ['0 0.5240625 0.12958333333333333 0.015625 0.020833333333333332',\n",
       "   '0 0.519375 0.12958333333333333 0.0275 0.0425',\n",
       "   '0 0.5009375 0.12916666666666668 0.010625 0.045',\n",
       "   '0 0.419375 0.1725 0.10875 0.016666666666666666',\n",
       "   '0 0.5140625 0.17041666666666666 0.075625 0.019166666666666665',\n",
       "   '0 0.5846875 0.16916666666666666 0.058125 0.02',\n",
       "   '0 0.6409375 0.1675 0.046875 0.02',\n",
       "   '0 0.33375 0.25708333333333333 0.22875 0.07083333333333333',\n",
       "   '0 0.64 0.25083333333333335 0.3475 0.07833333333333334',\n",
       "   '0 0.36375 0.415 0.26125 0.07666666666666666',\n",
       "   '0 0.5171875 0.33541666666666664 0.086875 0.06416666666666666',\n",
       "   '0 0.6625 0.40958333333333335 0.28125 0.06583333333333333']),\n",
       " ('C:\\\\Users\\\\Admin\\\\AIO\\\\OCR_STR(Yolov8+CNN)\\\\icdar2003\\\\SceneTrialTrain\\\\apanar_06.08.2002/IMG_1303.JPG',\n",
       "  ['0 0.605 0.6120833333333333 0.06375 0.024166666666666666',\n",
       "   '0 0.6515625 0.6125 0.020625 0.025',\n",
       "   '0 0.69875 0.60875 0.03 0.020833333333333332',\n",
       "   '0 0.7353125 0.6116666666666667 0.033125 0.023333333333333334',\n",
       "   '0 0.3640625 0.6945833333333333 0.036875 0.015833333333333335',\n",
       "   '0 0.4090625 0.6945833333333333 0.048125 0.0175',\n",
       "   '0 0.4471875 0.6941666666666667 0.020625 0.016666666666666666',\n",
       "   '0 0.4765625 0.695 0.030625 0.02',\n",
       "   '0 0.520625 0.6933333333333334 0.05 0.02',\n",
       "   '0 0.3809375 0.7795833333333333 0.039375 0.010833333333333334',\n",
       "   '0 0.541875 0.7408333333333333 0.02625 0.011666666666666667',\n",
       "   '0 0.5796875 0.74 0.044375 0.015',\n",
       "   '0 0.6221875 0.74125 0.035625 0.015833333333333335',\n",
       "   '0 0.6471875 0.74125 0.009375 0.0125',\n",
       "   '0 0.68375 0.74 0.03875 0.015',\n",
       "   '0 0.73875 0.73875 0.0475 0.0125',\n",
       "   '0 0.56125 0.7616666666666667 0.03875 0.018333333333333333',\n",
       "   '0 0.5925 0.76125 0.0175 0.0125',\n",
       "   '0 0.6196875 0.76125 0.030625 0.0125',\n",
       "   '0 0.6496875 0.76 0.023125 0.011666666666666667',\n",
       "   '0 0.6690625 0.7604166666666666 0.009375 0.0125',\n",
       "   '0 0.7 0.7595833333333334 0.025 0.010833333333333334',\n",
       "   '0 0.73875 0.7595833333333334 0.0475 0.0125',\n",
       "   '0 0.73875 0.7795833333333333 0.0475 0.0125',\n",
       "   '0 0.60625 0.7804166666666666 0.02125 0.015833333333333335',\n",
       "   '0 0.643125 0.7808333333333334 0.04625 0.011666666666666667',\n",
       "   '0 0.6746875 0.7808333333333334 0.010625 0.011666666666666667',\n",
       "   '0 0.701875 0.7808333333333334 0.02 0.018333333333333333',\n",
       "   '0 0.635 0.019583333333333335 0.07 0.015833333333333335',\n",
       "   '0 0.6790625 0.019166666666666665 0.011875 0.013333333333333334',\n",
       "   '0 0.724375 0.01875 0.07 0.015833333333333335',\n",
       "   '0 0.4378125 0.3925 0.199375 0.065',\n",
       "   '0 0.6525 0.3908333333333333 0.2025 0.056666666666666664',\n",
       "   '0 0.5096875 0.46708333333333335 0.336875 0.0675',\n",
       "   '0 0.394375 0.5291666666666667 0.105 0.03',\n",
       "   '0 0.5403125 0.5283333333333333 0.089375 0.03333333333333333',\n",
       "   '0 0.6871875 0.5225 0.105625 0.028333333333333332',\n",
       "   '0 0.37375 0.61625 0.06 0.020833333333333332',\n",
       "   '0 0.4240625 0.6158333333333333 0.030625 0.018333333333333333',\n",
       "   '0 0.47125 0.6154166666666666 0.05375 0.020833333333333332',\n",
       "   '0 0.5153125 0.6141666666666666 0.025625 0.023333333333333334',\n",
       "   '0 0.5509375 0.6120833333333333 0.038125 0.025833333333333333']),\n",
       " ('C:\\\\Users\\\\Admin\\\\AIO\\\\OCR_STR(Yolov8+CNN)\\\\icdar2003\\\\SceneTrialTrain\\\\apanar_06.08.2002/IMG_1304.JPG',\n",
       "  ['0 0.48875 0.3129166666666667 0.18875 0.0325',\n",
       "   '0 0.7109375 0.30583333333333335 0.188125 0.03',\n",
       "   '0 0.38625 0.3904166666666667 0.1375 0.06916666666666667',\n",
       "   '0 0.575625 0.3829166666666667 0.07625 0.06583333333333333',\n",
       "   '0 0.4590625 0.4575 0.283125 0.06833333333333333',\n",
       "   '0 0.41 0.5391666666666667 0.1825 0.07166666666666667']),\n",
       " ('C:\\\\Users\\\\Admin\\\\AIO\\\\OCR_STR(Yolov8+CNN)\\\\icdar2003\\\\SceneTrialTrain\\\\apanar_06.08.2002/Img_1305.jpg',\n",
       "  ['0 0.4946025515210991 0.7831423895253683 0.4847890088321884 0.14893617021276595',\n",
       "   '0 0.486261040235525 0.38379705400981995 0.8390578999018645 0.5842880523731587']),\n",
       " ('C:\\\\Users\\\\Admin\\\\AIO\\\\OCR_STR(Yolov8+CNN)\\\\icdar2003\\\\SceneTrialTrain\\\\apanar_06.08.2002/IMG_1306.JPG',\n",
       "  ['0 0.4221875 0.14375 0.248125 0.09583333333333334',\n",
       "   '0 0.6721875 0.14708333333333334 0.201875 0.09583333333333334',\n",
       "   '0 0.86375 0.14625 0.13875 0.09583333333333334']),\n",
       " ('C:\\\\Users\\\\Admin\\\\AIO\\\\OCR_STR(Yolov8+CNN)\\\\icdar2003\\\\SceneTrialTrain\\\\apanar_06.08.2002/IMG_1307.JPG',\n",
       "  ['0 0.6140625 0.11083333333333334 0.385625 0.22']),\n",
       " ('C:\\\\Users\\\\Admin\\\\AIO\\\\OCR_STR(Yolov8+CNN)\\\\icdar2003\\\\SceneTrialTrain\\\\apanar_06.08.2002/IMG_1308.JPG',\n",
       "  ['0 0.4459375 0.06583333333333333 0.235625 0.11166666666666666',\n",
       "   '0 0.67 0.05291666666666667 0.155 0.09083333333333334',\n",
       "   '0 0.8765625 0.06125 0.183125 0.09416666666666666']),\n",
       " ('C:\\\\Users\\\\Admin\\\\AIO\\\\OCR_STR(Yolov8+CNN)\\\\icdar2003\\\\SceneTrialTrain\\\\apanar_06.08.2002/IMG_1311.JPG',\n",
       "  ['0 0.519375 0.27708333333333335 0.47625 0.18083333333333335',\n",
       "   '0 0.6803125 0.43666666666666665 0.436875 0.11333333333333333',\n",
       "   '0 0.69625 0.5225 0.0375 0.023333333333333334',\n",
       "   '0 0.7809375 0.5220833333333333 0.113125 0.0325',\n",
       "   '0 0.8896875 0.52 0.093125 0.03',\n",
       "   '0 0.97 0.5204166666666666 0.055 0.025833333333333333']),\n",
       " ('C:\\\\Users\\\\Admin\\\\AIO\\\\OCR_STR(Yolov8+CNN)\\\\icdar2003\\\\SceneTrialTrain\\\\apanar_06.08.2002/IMG_1312.JPG',\n",
       "  ['0 0.6153125 0.5408333333333334 0.746875 0.23',\n",
       "   '0 0.180625 0.8220833333333334 0.1175 0.03916666666666667',\n",
       "   '0 0.26125 0.82 0.0325 0.03166666666666667',\n",
       "   '0 0.345 0.8183333333333334 0.11875 0.03333333333333333',\n",
       "   '0 0.4384375 0.82 0.051875 0.03166666666666667',\n",
       "   '0 0.5153125 0.8233333333333334 0.085625 0.04',\n",
       "   '0 0.576875 0.8241666666666667 0.01625 0.02666666666666667',\n",
       "   '0 0.609375 0.8241666666666667 0.04 0.021666666666666667',\n",
       "   '0 0.649375 0.8279166666666666 0.035 0.0225',\n",
       "   '0 0.686875 0.82375 0.03375 0.0225',\n",
       "   '0 0.7178125 0.825 0.019375 0.018333333333333333',\n",
       "   '0 0.760625 0.8245833333333333 0.05625 0.025833333333333333',\n",
       "   '0 0.8225 0.8254166666666667 0.0525 0.0275',\n",
       "   '0 0.8671875 0.8220833333333334 0.026875 0.0225',\n",
       "   '0 0.9 0.8208333333333333 0.025 0.021666666666666667',\n",
       "   '0 0.9303125 0.82125 0.029375 0.0225',\n",
       "   '0 0.969375 0.8216666666666667 0.04125 0.02666666666666667',\n",
       "   '0 0.0634375 0.8216666666666667 0.060625 0.02666666666666667']),\n",
       " ('C:\\\\Users\\\\Admin\\\\AIO\\\\OCR_STR(Yolov8+CNN)\\\\icdar2003\\\\SceneTrialTrain\\\\apanar_06.08.2002/IMG_1315.JPG',\n",
       "  ['0 0.516875 0.16083333333333333 0.16125 0.04666666666666667',\n",
       "   '0 0.683125 0.16291666666666665 0.1075 0.0525']),\n",
       " ('C:\\\\Users\\\\Admin\\\\AIO\\\\OCR_STR(Yolov8+CNN)\\\\icdar2003\\\\SceneTrialTrain\\\\apanar_06.08.2002/IMG_1316.JPG',\n",
       "  ['0 0.888125 0.86125 0.065 0.025833333333333333',\n",
       "   '0 0.344375 0.3425 0.27375 0.07666666666666666',\n",
       "   '0 0.5396875 0.34291666666666665 0.085625 0.07083333333333333',\n",
       "   '0 0.7271875 0.3433333333333333 0.260625 0.07166666666666667',\n",
       "   '0 0.6140625 0.39958333333333335 0.049375 0.019166666666666665',\n",
       "   '0 0.5640625 0.3983333333333333 0.044375 0.018333333333333333',\n",
       "   '0 0.5265625 0.3975 0.023125 0.021666666666666667',\n",
       "   '0 0.494375 0.39708333333333334 0.03375 0.020833333333333332',\n",
       "   '0 0.22375 0.39666666666666667 0.03 0.021666666666666667',\n",
       "   '0 0.2515625 0.39875 0.015625 0.019166666666666665']),\n",
       " ('C:\\\\Users\\\\Admin\\\\AIO\\\\OCR_STR(Yolov8+CNN)\\\\icdar2003\\\\SceneTrialTrain\\\\apanar_06.08.2002/IMG_1317.JPG',\n",
       "  ['0 0.5096875 0.31166666666666665 0.283125 0.11166666666666666',\n",
       "   '0 0.7559375 0.3 0.158125 0.08333333333333333',\n",
       "   '0 0.415625 0.4270833333333333 0.28125 0.08583333333333333',\n",
       "   '0 0.65625 0.42583333333333334 0.1525 0.08333333333333333',\n",
       "   '0 0.8290625 0.4379166666666667 0.136875 0.0975',\n",
       "   '0 0.9109375 0.41333333333333333 0.021875 0.02',\n",
       "   '0 0.3578125 0.5345833333333333 0.094375 0.04083333333333333',\n",
       "   '0 0.445 0.53125 0.06875 0.034166666666666665',\n",
       "   '0 0.4996875 0.5308333333333334 0.026875 0.035',\n",
       "   '0 0.5496875 0.5304166666666666 0.060625 0.0325',\n",
       "   '0 0.6284375 0.5316666666666666 0.066875 0.03',\n",
       "   '0 0.71125 0.5320833333333334 0.075 0.030833333333333334',\n",
       "   '0 0.7871875 0.5316666666666666 0.046875 0.03',\n",
       "   '0 0.8534375 0.5320833333333334 0.069375 0.029166666666666667']),\n",
       " ('C:\\\\Users\\\\Admin\\\\AIO\\\\OCR_STR(Yolov8+CNN)\\\\icdar2003\\\\SceneTrialTrain\\\\lfsosa_12.08.2002/IMG_2013.jpg',\n",
       "  ['0 0.6629297458893871 0.6951923076923077 0.11210762331838565 0.04807692307692308',\n",
       "   '0 0.43647234678624813 0.6846153846153846 0.053811659192825115 0.05',\n",
       "   '0 0.3041853512705531 0.7423076923076923 0.08221225710014948 0.05',\n",
       "   '0 0.3834080717488789 0.7471153846153846 0.05829596412556054 0.04807692307692308',\n",
       "   '0 0.4581464872944694 0.7490384615384615 0.07623318385650224 0.051923076923076926',\n",
       "   '0 0.5366218236173393 0.6884615384615385 0.12855007473841554 0.05',\n",
       "   '0 0.3602391629297459 0.6807692307692308 0.08669656203288491 0.05384615384615385',\n",
       "   '0 0.6659192825112108 0.7557692307692307 0.07623318385650224 0.05',\n",
       "   '0 0.27802690582959644 0.6778846153846154 0.06278026905829596 0.051923076923076926',\n",
       "   '0 0.5627802690582959 0.7548076923076923 0.11808669656203288 0.051923076923076926']),\n",
       " ('C:\\\\Users\\\\Admin\\\\AIO\\\\OCR_STR(Yolov8+CNN)\\\\icdar2003\\\\SceneTrialTrain\\\\lfsosa_12.08.2002/IMG_2460.JPG',\n",
       "  ['0 0.48515625 0.47604166666666664 0.6703125 0.12291666666666666',\n",
       "   '0 0.503125 0.3104166666666667 0.496875 0.11666666666666667',\n",
       "   '0 0.5078125 0.6510416666666666 0.384375 0.12291666666666666']),\n",
       " ('C:\\\\Users\\\\Admin\\\\AIO\\\\OCR_STR(Yolov8+CNN)\\\\icdar2003\\\\SceneTrialTrain\\\\lfsosa_12.08.2002/IMG_2461.JPG',\n",
       "  ['0 0.30390625 0.6958333333333333 0.2515625 0.08333333333333333',\n",
       "   '0 0.525 0.37395833333333334 0.265625 0.08125',\n",
       "   '0 0.44296875 0.471875 0.2390625 0.09375',\n",
       "   '0 0.44453125 0.2875 0.2796875 0.075',\n",
       "   '0 0.559375 0.5729166666666666 0.228125 0.07916666666666666',\n",
       "   '0 0.31171875 0.5854166666666667 0.1890625 0.075',\n",
       "   '0 0.28359375 0.38645833333333335 0.1453125 0.07291666666666667']),\n",
       " ('C:\\\\Users\\\\Admin\\\\AIO\\\\OCR_STR(Yolov8+CNN)\\\\icdar2003\\\\SceneTrialTrain\\\\lfsosa_12.08.2002/IMG_2462.JPG',\n",
       "  ['0 0.49296875 0.421875 0.7390625 0.14791666666666667',\n",
       "   '0 0.15859375 0.7583333333333333 0.2515625 0.05',\n",
       "   '0 0.346875 0.559375 0.453125 0.08958333333333333',\n",
       "   '0 0.734375 0.5708333333333333 0.2625 0.09166666666666666',\n",
       "   '0 0.815625 0.7739583333333333 0.275 0.052083333333333336',\n",
       "   '0 0.484375 0.7645833333333333 0.296875 0.05416666666666667']),\n",
       " ('C:\\\\Users\\\\Admin\\\\AIO\\\\OCR_STR(Yolov8+CNN)\\\\icdar2003\\\\SceneTrialTrain\\\\lfsosa_12.08.2002/IMG_2463.JPG',\n",
       "  []),\n",
       " ('C:\\\\Users\\\\Admin\\\\AIO\\\\OCR_STR(Yolov8+CNN)\\\\icdar2003\\\\SceneTrialTrain\\\\lfsosa_12.08.2002/IMG_2464.JPG',\n",
       "  ['0 0.36640625 0.4625 0.5203125 0.13333333333333333',\n",
       "   '0 0.79375 0.446875 0.278125 0.11458333333333333']),\n",
       " ('C:\\\\Users\\\\Admin\\\\AIO\\\\OCR_STR(Yolov8+CNN)\\\\icdar2003\\\\SceneTrialTrain\\\\lfsosa_12.08.2002/IMG_2466.JPG',\n",
       "  ['0 0.49140625 0.49375 0.8984375 0.5875']),\n",
       " ('C:\\\\Users\\\\Admin\\\\AIO\\\\OCR_STR(Yolov8+CNN)\\\\icdar2003\\\\SceneTrialTrain\\\\lfsosa_12.08.2002/IMG_2468.JPG',\n",
       "  ['0 0.47705078125 0.2571614583333333 0.5908203125 0.15234375',\n",
       "   '0 0.47900390625 0.4498697916666667 0.8271484375 0.16536458333333334',\n",
       "   '0 0.48388671875 0.6647135416666666 0.8701171875 0.13151041666666666']),\n",
       " ('C:\\\\Users\\\\Admin\\\\AIO\\\\OCR_STR(Yolov8+CNN)\\\\icdar2003\\\\SceneTrialTrain\\\\lfsosa_12.08.2002/IMG_2469.JPG',\n",
       "  ['0 0.8115234375 0.6328125 0.29296875 0.09635416666666667',\n",
       "   '0 0.48779296875 0.630859375 0.2822265625 0.11328125',\n",
       "   '0 0.19140625 0.6106770833333334 0.23828125 0.09375',\n",
       "   '0 0.50732421875 0.7473958333333334 0.2705078125 0.0859375']),\n",
       " ('C:\\\\Users\\\\Admin\\\\AIO\\\\OCR_STR(Yolov8+CNN)\\\\icdar2003\\\\SceneTrialTrain\\\\lfsosa_12.08.2002/IMG_2471.JPG',\n",
       "  ['0 0.625 0.81875 0.121875 0.10833333333333334',\n",
       "   '0 0.828125 0.815625 0.215625 0.11041666666666666',\n",
       "   '0 0.3046875 0.8166666666666667 0.4625 0.10833333333333334',\n",
       "   '0 0.22109375 0.421875 0.3328125 0.11875',\n",
       "   '0 0.753125 0.42291666666666666 0.425 0.125',\n",
       "   '0 0.76171875 0.203125 0.1328125 0.10208333333333333',\n",
       "   '0 0.4234375 0.203125 0.478125 0.09791666666666667']),\n",
       " ('C:\\\\Users\\\\Admin\\\\AIO\\\\OCR_STR(Yolov8+CNN)\\\\icdar2003\\\\SceneTrialTrain\\\\lfsosa_12.08.2002/IMG_2472.JPG',\n",
       "  ['0 0.30390625 0.5395833333333333 0.1859375 0.21666666666666667',\n",
       "   '0 0.6859375 0.534375 0.5625 0.22291666666666668',\n",
       "   '0 0.1140625 0.5375 0.19375 0.2125',\n",
       "   '0 0.225 0.953125 0.115625 0.035416666666666666']),\n",
       " ('C:\\\\Users\\\\Admin\\\\AIO\\\\OCR_STR(Yolov8+CNN)\\\\icdar2003\\\\SceneTrialTrain\\\\lfsosa_12.08.2002/IMG_2473.JPG',\n",
       "  ['0 0.39140625 0.678125 0.1609375 0.06041666666666667',\n",
       "   '0 0.35390625 0.5166666666666667 0.1828125 0.0875',\n",
       "   '0 0.16171875 0.515625 0.1546875 0.08125',\n",
       "   '0 0.83828125 0.5197916666666667 0.2546875 0.08541666666666667',\n",
       "   '0 0.6078125 0.6822916666666666 0.2375 0.06041666666666667',\n",
       "   '0 0.5828125 0.5197916666666667 0.215625 0.08541666666666667']),\n",
       " ('C:\\\\Users\\\\Admin\\\\AIO\\\\OCR_STR(Yolov8+CNN)\\\\icdar2003\\\\SceneTrialTrain\\\\lfsosa_12.08.2002/IMG_2474.JPG',\n",
       "  ['0 0.49453125 0.33125 0.8015625 0.1875',\n",
       "   '0 0.7875 0.5083333333333333 0.1875 0.1',\n",
       "   '0 0.49140625 0.6916666666666667 0.7984375 0.1875',\n",
       "   '0 0.37265625 0.5197916666666667 0.5734375 0.10625']),\n",
       " ('C:\\\\Users\\\\Admin\\\\AIO\\\\OCR_STR(Yolov8+CNN)\\\\icdar2003\\\\SceneTrialTrain\\\\lfsosa_12.08.2002/IMG_2476.JPG',\n",
       "  ['0 0.67109375 0.7875 0.4296875 0.20833333333333334',\n",
       "   '0 0.4765625 0.21458333333333332 0.196875 0.22083333333333333',\n",
       "   '0 0.59140625 0.2989583333333333 0.0296875 0.04791666666666667']),\n",
       " ('C:\\\\Users\\\\Admin\\\\AIO\\\\OCR_STR(Yolov8+CNN)\\\\icdar2003\\\\SceneTrialTrain\\\\lfsosa_12.08.2002/IMG_2477.JPG',\n",
       "  ['0 0.08984375 0.9541666666666667 0.1609375 0.08333333333333333',\n",
       "   '0 0.5890625 0.8229166666666666 0.675 0.24583333333333332',\n",
       "   '0 0.0203125 0.31666666666666665 0.03125 0.06666666666666667',\n",
       "   '0 0.3859375 0.31979166666666664 0.1875 0.06458333333333334',\n",
       "   '0 0.19375 0.9572916666666667 0.028125 0.06875',\n",
       "   '0 0.35703125 0.9625 0.2296875 0.07083333333333333',\n",
       "   '0 0.615625 0.96875 0.140625 0.058333333333333334',\n",
       "   '0 0.16171875 0.31979166666666664 0.2046875 0.06458333333333334',\n",
       "   '0 0.4828125 0.5447916666666667 0.88125 0.28958333333333336']),\n",
       " ('C:\\\\Users\\\\Admin\\\\AIO\\\\OCR_STR(Yolov8+CNN)\\\\icdar2003\\\\SceneTrialTrain\\\\lfsosa_12.08.2002/IMG_2478.JPG',\n",
       "  ['0 0.60234375 0.8947916666666667 0.1515625 0.07291666666666667',\n",
       "   '0 0.44375 0.903125 0.13125 0.06875',\n",
       "   '0 0.23828125 0.565625 0.4171875 0.22291666666666668',\n",
       "   '0 0.51796875 0.3302083333333333 0.5453125 0.07708333333333334',\n",
       "   '0 0.73203125 0.5333333333333333 0.4734375 0.18333333333333332',\n",
       "   '0 0.09140625 0.9260416666666667 0.0859375 0.03125']),\n",
       " ('C:\\\\Users\\\\Admin\\\\AIO\\\\OCR_STR(Yolov8+CNN)\\\\icdar2003\\\\SceneTrialTrain\\\\lfsosa_12.08.2002/IMG_2480.JPG',\n",
       "  ['0 0.21640625 0.9052083333333333 0.4328125 0.18541666666666667',\n",
       "   '0 0.4796875 0.4354166666666667 0.9 0.4',\n",
       "   '0 0.89296875 0.9020833333333333 0.2109375 0.19166666666666668']),\n",
       " ('C:\\\\Users\\\\Admin\\\\AIO\\\\OCR_STR(Yolov8+CNN)\\\\icdar2003\\\\SceneTrialTrain\\\\lfsosa_12.08.2002/IMG_2481.JPG',\n",
       "  ['0 0.53359375 0.35520833333333335 0.2578125 0.06875',\n",
       "   '0 0.53828125 0.5958333333333333 0.3640625 0.1125',\n",
       "   '0 0.53984375 0.46875 0.2640625 0.10833333333333334']),\n",
       " ('C:\\\\Users\\\\Admin\\\\AIO\\\\OCR_STR(Yolov8+CNN)\\\\icdar2003\\\\SceneTrialTrain\\\\lfsosa_12.08.2002/IMG_2482.JPG',\n",
       "  ['0 0.48671875 0.36354166666666665 0.3015625 0.14375',\n",
       "   '0 0.49375 0.5635416666666667 0.5625 0.14791666666666667']),\n",
       " ('C:\\\\Users\\\\Admin\\\\AIO\\\\OCR_STR(Yolov8+CNN)\\\\icdar2003\\\\SceneTrialTrain\\\\lfsosa_12.08.2002/IMG_2483.JPG',\n",
       "  ['0 0.55625 0.6354166666666666 0.215625 0.12916666666666668',\n",
       "   '0 0.46171875 0.475 0.2078125 0.1125',\n",
       "   '0 0.46328125 0.321875 0.3421875 0.11458333333333333',\n",
       "   '0 0.3421875 0.625 0.159375 0.10416666666666667']),\n",
       " ('C:\\\\Users\\\\Admin\\\\AIO\\\\OCR_STR(Yolov8+CNN)\\\\icdar2003\\\\SceneTrialTrain\\\\lfsosa_12.08.2002/IMG_2484.JPG',\n",
       "  ['0 0.5015625 0.534375 0.61875 0.15625']),\n",
       " ('C:\\\\Users\\\\Admin\\\\AIO\\\\OCR_STR(Yolov8+CNN)\\\\icdar2003\\\\SceneTrialTrain\\\\lfsosa_12.08.2002/IMG_2485.JPG',\n",
       "  ['0 0.50546875 0.35625 0.8046875 0.19583333333333333',\n",
       "   '0 0.50078125 0.653125 0.9140625 0.21041666666666667']),\n",
       " ('C:\\\\Users\\\\Admin\\\\AIO\\\\OCR_STR(Yolov8+CNN)\\\\icdar2003\\\\SceneTrialTrain\\\\lfsosa_12.08.2002/IMG_2486.JPG',\n",
       "  ['0 0.51875 0.32395833333333335 0.040625 0.06458333333333334',\n",
       "   '0 0.509375 0.5416666666666666 0.784375 0.1875',\n",
       "   '0 0.6046875 0.7114583333333333 0.109375 0.06041666666666667',\n",
       "   '0 0.48984375 0.7125 0.0953125 0.05416666666666667']),\n",
       " ('C:\\\\Users\\\\Admin\\\\AIO\\\\OCR_STR(Yolov8+CNN)\\\\icdar2003\\\\SceneTrialTrain\\\\lfsosa_12.08.2002/IMG_2487.JPG',\n",
       "  ['0 0.728125 0.6739583333333333 0.3625 0.08541666666666667',\n",
       "   '0 0.440625 0.6760416666666667 0.1625 0.07291666666666667',\n",
       "   '0 0.68046875 0.46979166666666666 0.4578125 0.27291666666666664',\n",
       "   '0 0.2171875 0.68125 0.225 0.07916666666666666']),\n",
       " ('C:\\\\Users\\\\Admin\\\\AIO\\\\OCR_STR(Yolov8+CNN)\\\\icdar2003\\\\SceneTrialTrain\\\\lfsosa_12.08.2002/IMG_2488.JPG',\n",
       "  ['0 0.50625 0.5072916666666667 0.865625 0.12708333333333333']),\n",
       " ('C:\\\\Users\\\\Admin\\\\AIO\\\\OCR_STR(Yolov8+CNN)\\\\icdar2003\\\\SceneTrialTrain\\\\lfsosa_12.08.2002/IMG_2489.JPG',\n",
       "  ['0 0.46328125 0.6927083333333334 0.7671875 0.23958333333333334',\n",
       "   '0 0.63828125 0.44479166666666664 0.6078125 0.3104166666666667']),\n",
       " ('C:\\\\Users\\\\Admin\\\\AIO\\\\OCR_STR(Yolov8+CNN)\\\\icdar2003\\\\SceneTrialTrain\\\\lfsosa_12.08.2002/IMG_2490.JPG',\n",
       "  ['0 0.471875 0.4395833333333333 0.74375 0.38333333333333336']),\n",
       " ('C:\\\\Users\\\\Admin\\\\AIO\\\\OCR_STR(Yolov8+CNN)\\\\icdar2003\\\\SceneTrialTrain\\\\lfsosa_12.08.2002/IMG_2491.JPG',\n",
       "  ['0 0.48359375 0.5708333333333333 0.9453125 0.26666666666666666']),\n",
       " ('C:\\\\Users\\\\Admin\\\\AIO\\\\OCR_STR(Yolov8+CNN)\\\\icdar2003\\\\SceneTrialTrain\\\\lfsosa_12.08.2002/IMG_2493.JPG',\n",
       "  ['0 0.84765625 0.5854166666666667 0.1921875 0.0875',\n",
       "   '0 0.3296875 0.353125 0.565625 0.22291666666666668',\n",
       "   '0 0.63203125 0.584375 0.1890625 0.09375',\n",
       "   '0 0.13046875 0.5729166666666666 0.1546875 0.09166666666666666']),\n",
       " ('C:\\\\Users\\\\Admin\\\\AIO\\\\OCR_STR(Yolov8+CNN)\\\\icdar2003\\\\SceneTrialTrain\\\\lfsosa_12.08.2002/IMG_2495.JPG',\n",
       "  ['0 0.5625 0.484375 0.415625 0.06041666666666667',\n",
       "   '0 0.68828125 0.303125 0.2796875 0.10208333333333333',\n",
       "   '0 0.81953125 0.48854166666666665 0.0640625 0.052083333333333336',\n",
       "   '0 0.6015625 0.7333333333333333 0.115625 0.05',\n",
       "   '0 0.4171875 0.7364583333333333 0.221875 0.06041666666666667',\n",
       "   '0 0.23046875 0.4791666666666667 0.2296875 0.0625',\n",
       "   '0 0.3234375 0.29791666666666666 0.396875 0.10416666666666667']),\n",
       " ('C:\\\\Users\\\\Admin\\\\AIO\\\\OCR_STR(Yolov8+CNN)\\\\icdar2003\\\\SceneTrialTrain\\\\lfsosa_12.08.2002/IMG_2498.JPG',\n",
       "  ['0 0.76640625 0.5635416666666667 0.0671875 0.03958333333333333',\n",
       "   '0 0.4140625 0.5614583333333333 0.05 0.04791666666666667',\n",
       "   '0 0.384375 0.35833333333333334 0.034375 0.05416666666666667',\n",
       "   '0 0.2734375 0.465625 0.0375 0.05625',\n",
       "   '0 0.70234375 0.5635416666666667 0.0421875 0.035416666666666666',\n",
       "   '0 0.77890625 0.35833333333333334 0.0953125 0.05416666666666667',\n",
       "   '0 0.7046875 0.2520833333333333 0.20625 0.075',\n",
       "   '0 0.6640625 0.459375 0.26875 0.06458333333333334',\n",
       "   '0 0.60390625 0.8354166666666667 0.1171875 0.05',\n",
       "   '0 0.484375 0.8427083333333333 0.109375 0.04791666666666667',\n",
       "   '0 0.409375 0.4552083333333333 0.2 0.06458333333333334',\n",
       "   '0 0.60546875 0.5614583333333333 0.1296875 0.035416666666666666',\n",
       "   '0 0.37421875 0.8385416666666666 0.0984375 0.052083333333333336',\n",
       "   '0 0.90234375 0.3541666666666667 0.1109375 0.06666666666666667',\n",
       "   '0 0.4296875 0.9 0.128125 0.04583333333333333',\n",
       "   '0 0.1453125 0.35 0.2375 0.07083333333333333',\n",
       "   '0 0.4625 0.5614583333333333 0.028125 0.04375',\n",
       "   '0 0.315625 0.3572916666666667 0.06875 0.05625',\n",
       "   '0 0.55078125 0.253125 0.0578125 0.052083333333333336',\n",
       "   '0 0.509375 0.3489583333333333 0.18125 0.06458333333333334',\n",
       "   '0 0.32734375 0.5583333333333333 0.1015625 0.04583333333333333',\n",
       "   '0 0.55859375 0.8947916666666667 0.1171875 0.04791666666666667',\n",
       "   '0 0.665625 0.35208333333333336 0.096875 0.06666666666666667',\n",
       "   '0 0.5078125 0.5625 0.04375 0.041666666666666664',\n",
       "   '0 0.21171875 0.4583333333333333 0.0546875 0.06666666666666667',\n",
       "   '0 0.340625 0.24791666666666667 0.321875 0.07083333333333333',\n",
       "   '0 0.22578125 0.5583333333333333 0.0859375 0.04583333333333333',\n",
       "   '0 0.49375 0.1125 0.325 0.07916666666666666']),\n",
       " ('C:\\\\Users\\\\Admin\\\\AIO\\\\OCR_STR(Yolov8+CNN)\\\\icdar2003\\\\SceneTrialTrain\\\\lfsosa_12.08.2002/IMG_2499.JPG',\n",
       "  ['0 0.575 0.10208333333333333 0.44375 0.11666666666666667',\n",
       "   '0 0.8 0.8697916666666666 0.26875 0.11875',\n",
       "   '0 0.390625 0.8635416666666667 0.45 0.12708333333333333',\n",
       "   '0 0.246875 0.078125 0.115625 0.08958333333333333',\n",
       "   '0 0.403125 0.5072916666666667 0.459375 0.11875',\n",
       "   '0 0.38046875 0.19583333333333333 0.3984375 0.125']),\n",
       " ('C:\\\\Users\\\\Admin\\\\AIO\\\\OCR_STR(Yolov8+CNN)\\\\icdar2003\\\\SceneTrialTrain\\\\lfsosa_12.08.2002/IMG_2500.JPG',\n",
       "  ['0 0.43046875 0.5 0.4765625 0.35']),\n",
       " ('C:\\\\Users\\\\Admin\\\\AIO\\\\OCR_STR(Yolov8+CNN)\\\\icdar2003\\\\SceneTrialTrain\\\\lfsosa_12.08.2002/IMG_2501.JPG',\n",
       "  ['0 0.1859375 0.8427083333333333 0.021875 0.03125',\n",
       "   '0 0.1890625 0.8072916666666666 0.021875 0.03125',\n",
       "   '0 0.4234375 0.365625 0.403125 0.07708333333333334',\n",
       "   '0 0.34921875 0.271875 0.2421875 0.07291666666666667',\n",
       "   '0 0.18984375 0.765625 0.0265625 0.035416666666666666']),\n",
       " ('C:\\\\Users\\\\Admin\\\\AIO\\\\OCR_STR(Yolov8+CNN)\\\\icdar2003\\\\SceneTrialTrain\\\\lfsosa_12.08.2002/IMG_2502.JPG',\n",
       "  ['0 0.49296875 0.578125 0.8421875 0.19791666666666666']),\n",
       " ('C:\\\\Users\\\\Admin\\\\AIO\\\\OCR_STR(Yolov8+CNN)\\\\icdar2003\\\\SceneTrialTrain\\\\lfsosa_12.08.2002/IMG_2503.JPG',\n",
       "  ['0 0.47708333333333336 0.71171875 0.42916666666666664 0.1203125',\n",
       "   '0 0.2375 0.60625 0.175 0.05625',\n",
       "   '0 0.5802083333333333 0.60859375 0.46458333333333335 0.0546875',\n",
       "   '0 0.478125 0.42578125 0.60625 0.1640625',\n",
       "   '0 0.47291666666666665 0.890625 0.5416666666666666 0.096875',\n",
       "   '0 0.48125 0.13515625 0.6125 0.1671875',\n",
       "   '0 0.309375 0.2796875 0.29791666666666666 0.08125',\n",
       "   '0 0.6510416666666666 0.28203125 0.3020833333333333 0.0765625']),\n",
       " ('C:\\\\Users\\\\Admin\\\\AIO\\\\OCR_STR(Yolov8+CNN)\\\\icdar2003\\\\SceneTrialTrain\\\\lfsosa_12.08.2002/IMG_2504.JPG',\n",
       "  ['0 0.49375 0.7552083333333334 0.4625 0.13541666666666666',\n",
       "   '0 0.509375 0.23229166666666667 0.30625 0.13958333333333334',\n",
       "   '0 0.5 0.5802083333333333 0.578125 0.15208333333333332',\n",
       "   '0 0.49765625 0.4083333333333333 0.5484375 0.1375']),\n",
       " ('C:\\\\Users\\\\Admin\\\\AIO\\\\OCR_STR(Yolov8+CNN)\\\\icdar2003\\\\SceneTrialTrain\\\\lfsosa_12.08.2002/IMG_2505.JPG',\n",
       "  ['0 0.35 0.5604166666666667 0.3125 0.12916666666666668',\n",
       "   '0 0.71796875 0.4239583333333333 0.3734375 0.12291666666666666',\n",
       "   '0 0.34921875 0.4166666666666667 0.2984375 0.12083333333333333']),\n",
       " ('C:\\\\Users\\\\Admin\\\\AIO\\\\OCR_STR(Yolov8+CNN)\\\\icdar2003\\\\SceneTrialTrain\\\\lfsosa_12.08.2002/IMG_2506.JPG',\n",
       "  ['0 0.46953125 0.521875 0.7921875 0.29791666666666666']),\n",
       " ('C:\\\\Users\\\\Admin\\\\AIO\\\\OCR_STR(Yolov8+CNN)\\\\icdar2003\\\\SceneTrialTrain\\\\lfsosa_12.08.2002/IMG_2507.JPG',\n",
       "  ['0 0.49765625 0.465625 0.4265625 0.20625']),\n",
       " ('C:\\\\Users\\\\Admin\\\\AIO\\\\OCR_STR(Yolov8+CNN)\\\\icdar2003\\\\SceneTrialTrain\\\\lfsosa_12.08.2002/IMG_2508.JPG',\n",
       "  ['0 0.521875 0.50625 0.671875 0.3333333333333333',\n",
       "   '0 0.52109375 0.7958333333333333 0.6734375 0.225',\n",
       "   '0 0.515625 0.21458333333333332 0.671875 0.22916666666666666']),\n",
       " ('C:\\\\Users\\\\Admin\\\\AIO\\\\OCR_STR(Yolov8+CNN)\\\\icdar2003\\\\SceneTrialTrain\\\\lfsosa_12.08.2002/IMG_2509.JPG',\n",
       "  ['0 0.75 0.634375 0.2125 0.12708333333333333',\n",
       "   '0 0.196875 0.5510416666666667 0.134375 0.21041666666666667',\n",
       "   '0 0.4484375 0.48125 0.23125 0.09583333333333334',\n",
       "   '0 0.81875 0.484375 0.221875 0.10208333333333333',\n",
       "   '0 0.4515625 0.6208333333333333 0.240625 0.10833333333333334']),\n",
       " ('C:\\\\Users\\\\Admin\\\\AIO\\\\OCR_STR(Yolov8+CNN)\\\\icdar2003\\\\SceneTrialTrain\\\\lfsosa_12.08.2002/IMG_2510.JPG',\n",
       "  ['0 0.2234375 0.6354166666666666 0.24375 0.125',\n",
       "   '0 0.55625 0.6291666666666667 0.3375 0.19583333333333333',\n",
       "   '0 0.41484375 0.403125 0.5453125 0.16041666666666668']),\n",
       " ('C:\\\\Users\\\\Admin\\\\AIO\\\\OCR_STR(Yolov8+CNN)\\\\icdar2003\\\\SceneTrialTrain\\\\lfsosa_12.08.2002/IMG_2511.JPG',\n",
       "  ['0 0.5265625 0.396875 0.440625 0.07291666666666667',\n",
       "   '0 0.6109375 0.5197916666666667 0.303125 0.08125',\n",
       "   '0 0.640625 0.65625 0.25625 0.0875']),\n",
       " ('C:\\\\Users\\\\Admin\\\\AIO\\\\OCR_STR(Yolov8+CNN)\\\\icdar2003\\\\SceneTrialTrain\\\\lfsosa_12.08.2002/IMG_2512.JPG',\n",
       "  ['0 0.513916015625 0.65625 0.45556640625 0.15885416666666666',\n",
       "   '0 0.515380859375 0.4466145833333333 0.47998046875 0.15885416666666666',\n",
       "   '0 0.37255859375 0.2604166666666667 0.3837890625 0.16666666666666666',\n",
       "   '0 0.70361328125 0.2913411458333333 0.275390625 0.134765625']),\n",
       " ('C:\\\\Users\\\\Admin\\\\AIO\\\\OCR_STR(Yolov8+CNN)\\\\icdar2003\\\\SceneTrialTrain\\\\lfsosa_12.08.2002/IMG_2513.JPG',\n",
       "  ['0 0.50341796875 0.40625 0.2529296875 0.06510416666666667']),\n",
       " ('C:\\\\Users\\\\Admin\\\\AIO\\\\OCR_STR(Yolov8+CNN)\\\\icdar2003\\\\SceneTrialTrain\\\\lfsosa_12.08.2002/IMG_2514.JPG',\n",
       "  ['0 0.384375 0.390625 0.34375 0.06458333333333334',\n",
       "   '0 0.35859375 0.559375 0.3046875 0.06875',\n",
       "   '0 0.33125 0.47604166666666664 0.2375 0.06041666666666667']),\n",
       " ('C:\\\\Users\\\\Admin\\\\AIO\\\\OCR_STR(Yolov8+CNN)\\\\icdar2003\\\\SceneTrialTrain\\\\lfsosa_12.08.2002/IMG_2516.JPG',\n",
       "  ['0 0.1453125 0.8354166666666667 0.103125 0.05416666666666667',\n",
       "   '0 0.63515625 0.8385416666666666 0.2390625 0.06458333333333334',\n",
       "   '0 0.39140625 0.48541666666666666 0.5953125 0.09583333333333334',\n",
       "   '0 0.49140625 0.359375 0.5546875 0.11041666666666666',\n",
       "   '0 0.734375 0.6229166666666667 0.165625 0.10416666666666667',\n",
       "   '0 0.2796875 0.8395833333333333 0.128125 0.0625',\n",
       "   '0 0.37109375 0.7375 0.2703125 0.09583333333333334',\n",
       "   '0 0.353125 0.6166666666666667 0.059375 0.09583333333333334',\n",
       "   '0 0.65234375 0.7416666666666667 0.2046875 0.09166666666666666',\n",
       "   '0 0.23984375 0.6135416666666667 0.1203125 0.09375',\n",
       "   '0 0.51796875 0.6145833333333334 0.2171875 0.09583333333333334',\n",
       "   '0 0.8078125 0.490625 0.1625 0.09375',\n",
       "   '0 0.42734375 0.8385416666666666 0.1359375 0.06458333333333334']),\n",
       " ('C:\\\\Users\\\\Admin\\\\AIO\\\\OCR_STR(Yolov8+CNN)\\\\icdar2003\\\\SceneTrialTrain\\\\lfsosa_12.08.2002/IMG_2518.JPG',\n",
       "  ['0 0.19873046875 0.5963541666666666 0.0419921875 0.0234375']),\n",
       " ('C:\\\\Users\\\\Admin\\\\AIO\\\\OCR_STR(Yolov8+CNN)\\\\icdar2003\\\\SceneTrialTrain\\\\lfsosa_12.08.2002/IMG_2519.JPG',\n",
       "  ['0 0.39765625 0.41458333333333336 0.0578125 0.03333333333333333',\n",
       "   '0 0.3890625 0.36770833333333336 0.10625 0.04375',\n",
       "   '0 0.5546875 0.3697916666666667 0.065625 0.03125',\n",
       "   '0 0.54375 0.46041666666666664 0.08125 0.0375',\n",
       "   '0 0.47890625 0.42083333333333334 0.0890625 0.041666666666666664',\n",
       "   '0 0.4828125 0.37083333333333335 0.0625 0.0375',\n",
       "   '0 0.54375 0.4166666666666667 0.025 0.041666666666666664',\n",
       "   '0 0.4109375 0.4625 0.165625 0.0375']),\n",
       " ('C:\\\\Users\\\\Admin\\\\AIO\\\\OCR_STR(Yolov8+CNN)\\\\icdar2003\\\\SceneTrialTrain\\\\lfsosa_12.08.2002/IMG_2520.JPG',\n",
       "  ['0 0.49609375 0.3541666666666667 0.0734375 0.0875',\n",
       "   '0 0.29765625 0.5302083333333333 0.2328125 0.14375',\n",
       "   '0 0.2609375 0.334375 0.3125 0.12291666666666666']),\n",
       " ('C:\\\\Users\\\\Admin\\\\AIO\\\\OCR_STR(Yolov8+CNN)\\\\icdar2003\\\\SceneTrialTrain\\\\lfsosa_12.08.2002/IMG_2521.JPG',\n",
       "  ['0 0.48984375 0.50625 0.7109375 0.30833333333333335']),\n",
       " ('C:\\\\Users\\\\Admin\\\\AIO\\\\OCR_STR(Yolov8+CNN)\\\\icdar2003\\\\SceneTrialTrain\\\\lfsosa_12.08.2002/IMG_2522.JPG',\n",
       "  ['0 0.49375 0.478125 0.6583333333333333 0.0875',\n",
       "   '0 0.5072916666666667 0.228125 0.3729166666666667 0.0875',\n",
       "   '0 0.5072916666666667 0.86484375 0.46041666666666664 0.0796875',\n",
       "   '0 0.3458333333333333 0.75078125 0.20416666666666666 0.0765625',\n",
       "   '0 0.49895833333333334 0.646875 0.7270833333333333 0.1125',\n",
       "   '0 0.49375 0.35078125 0.42083333333333334 0.1640625',\n",
       "   '0 0.6333333333333333 0.74921875 0.325 0.0796875']),\n",
       " ('C:\\\\Users\\\\Admin\\\\AIO\\\\OCR_STR(Yolov8+CNN)\\\\icdar2003\\\\SceneTrialTrain\\\\lfsosa_12.08.2002/IMG_2523.JPG',\n",
       "  ['0 0.46458333333333335 0.67421875 0.07916666666666666 0.0328125',\n",
       "   '0 0.5729166666666666 0.20859375 0.1625 0.0390625',\n",
       "   '0 0.38333333333333336 0.2078125 0.19166666666666668 0.0375']),\n",
       " ('C:\\\\Users\\\\Admin\\\\AIO\\\\OCR_STR(Yolov8+CNN)\\\\icdar2003\\\\SceneTrialTrain\\\\lfsosa_12.08.2002/IMG_2524.JPG',\n",
       "  ['0 0.49453125 0.5541666666666667 0.1359375 0.058333333333333334',\n",
       "   '0 0.4359375 0.69375 0.28125 0.041666666666666664',\n",
       "   '0 0.6359375 0.703125 0.103125 0.04375',\n",
       "   '0 0.41796875 0.6083333333333333 0.5296875 0.1125',\n",
       "   '0 0.18046875 0.6864583333333333 0.0640625 0.035416666666666666',\n",
       "   '0 0.2546875 0.6885416666666667 0.06875 0.03958333333333333']),\n",
       " ('C:\\\\Users\\\\Admin\\\\AIO\\\\OCR_STR(Yolov8+CNN)\\\\icdar2003\\\\SceneTrialTrain\\\\lfsosa_12.08.2002/IMG_2525.JPG',\n",
       "  ['0 0.5375 0.38645833333333335 0.0875 0.14375',\n",
       "   '0 0.53671875 0.39375 0.2296875 0.2916666666666667',\n",
       "   '0 0.94609375 0.6177083333333333 0.0265625 0.035416666666666666']),\n",
       " ('C:\\\\Users\\\\Admin\\\\AIO\\\\OCR_STR(Yolov8+CNN)\\\\icdar2003\\\\SceneTrialTrain\\\\lfsosa_12.08.2002/IMG_2526.JPG',\n",
       "  ['0 0.40859375 0.4 0.0328125 0.05',\n",
       "   '0 0.56796875 0.40208333333333335 0.0390625 0.04583333333333333',\n",
       "   '0 0.49453125 0.7635416666666667 0.3078125 0.05625',\n",
       "   '0 0.48125 0.5989583333333334 0.696875 0.21458333333333332',\n",
       "   '0 0.5328125 0.46041666666666664 0.025 0.041666666666666664']),\n",
       " ('C:\\\\Users\\\\Admin\\\\AIO\\\\OCR_STR(Yolov8+CNN)\\\\icdar2003\\\\SceneTrialTrain\\\\lfsosa_12.08.2002/IMG_2528.JPG',\n",
       "  ['0 0.48828125 0.390625 0.8703125 0.25625',\n",
       "   '0 0.496875 0.6270833333333333 0.484375 0.15416666666666667',\n",
       "   '0 0.9296875 0.5166666666666667 0.025 0.041666666666666664']),\n",
       " ('C:\\\\Users\\\\Admin\\\\AIO\\\\OCR_STR(Yolov8+CNN)\\\\icdar2003\\\\SceneTrialTrain\\\\lfsosa_12.08.2002/IMG_2530.JPG',\n",
       "  ['0 0.540625 0.5520833333333334 0.14375 0.09583333333333334',\n",
       "   '0 0.73125 0.5677083333333334 0.171875 0.09375',\n",
       "   '0 0.653125 0.459375 0.31875 0.10625',\n",
       "   '0 0.640625 0.65625 0.221875 0.09583333333333334']),\n",
       " ('C:\\\\Users\\\\Admin\\\\AIO\\\\OCR_STR(Yolov8+CNN)\\\\icdar2003\\\\SceneTrialTrain\\\\lfsosa_12.08.2002/IMG_2531.JPG',\n",
       "  ['0 0.48828125 0.21041666666666667 0.5421875 0.12916666666666668',\n",
       "   '0 0.4890625 0.39895833333333336 0.590625 0.15208333333333332',\n",
       "   '0 0.69375 0.5677083333333334 0.234375 0.13958333333333334',\n",
       "   '0 0.35 0.5677083333333334 0.3625 0.13541666666666666',\n",
       "   '0 0.48046875 0.75625 0.4203125 0.15']),\n",
       " ('C:\\\\Users\\\\Admin\\\\AIO\\\\OCR_STR(Yolov8+CNN)\\\\icdar2003\\\\SceneTrialTrain\\\\lfsosa_12.08.2002/IMG_2532.JPG',\n",
       "  ['0 0.45625 0.28541666666666665 0.659375 0.10833333333333334']),\n",
       " ('C:\\\\Users\\\\Admin\\\\AIO\\\\OCR_STR(Yolov8+CNN)\\\\icdar2003\\\\SceneTrialTrain\\\\lfsosa_12.08.2002/IMG_2533.JPG',\n",
       "  ['0 0.3671875 0.6239583333333333 0.134375 0.14375',\n",
       "   '0 0.54921875 0.6229166666666667 0.0953125 0.14166666666666666']),\n",
       " ('C:\\\\Users\\\\Admin\\\\AIO\\\\OCR_STR(Yolov8+CNN)\\\\icdar2003\\\\SceneTrialTrain\\\\lfsosa_12.08.2002/IMG_2534.JPG',\n",
       "  ['0 0.41484375 0.434375 0.2078125 0.10625',\n",
       "   '0 0.715625 0.45208333333333334 0.09375 0.125']),\n",
       " ('C:\\\\Users\\\\Admin\\\\AIO\\\\OCR_STR(Yolov8+CNN)\\\\icdar2003\\\\SceneTrialTrain\\\\lfsosa_12.08.2002/IMG_2535.JPG',\n",
       "  ['0 0.39765625 0.328125 0.0921875 0.05625',\n",
       "   '0 0.3140625 0.328125 0.040625 0.05625',\n",
       "   '0 0.6046875 0.165625 0.171875 0.05625',\n",
       "   '0 0.790625 0.55 0.31875 0.06666666666666667',\n",
       "   '0 0.178125 0.328125 0.209375 0.06458333333333334',\n",
       "   '0 0.0875 0.5520833333333334 0.06875 0.058333333333333334',\n",
       "   '0 0.15546875 0.725 0.2390625 0.06666666666666667',\n",
       "   '0 0.1609375 0.48020833333333335 0.2125 0.06875',\n",
       "   '0 0.1703125 0.228125 0.09375 0.03125',\n",
       "   '0 0.72890625 0.47708333333333336 0.2015625 0.06666666666666667',\n",
       "   '0 0.20078125 0.26875 0.1515625 0.03333333333333333',\n",
       "   '0 0.43671875 0.16354166666666667 0.1328125 0.052083333333333336',\n",
       "   '0 0.265625 0.22395833333333334 0.08125 0.03958333333333333',\n",
       "   '0 0.2828125 0.5520833333333334 0.2625 0.0625']),\n",
       " ('C:\\\\Users\\\\Admin\\\\AIO\\\\OCR_STR(Yolov8+CNN)\\\\icdar2003\\\\SceneTrialTrain\\\\lfsosa_12.08.2002/IMG_2536.JPG',\n",
       "  ['0 0.596875 0.32916666666666666 0.228125 0.07916666666666666',\n",
       "   '0 0.4109375 0.5125 0.4 0.08333333333333333',\n",
       "   '0 0.34140625 0.421875 0.2578125 0.08958333333333333',\n",
       "   '0 0.33671875 0.3260416666666667 0.2390625 0.07291666666666667',\n",
       "   '0 0.57734375 0.42083333333333334 0.1671875 0.07916666666666666']),\n",
       " ('C:\\\\Users\\\\Admin\\\\AIO\\\\OCR_STR(Yolov8+CNN)\\\\icdar2003\\\\SceneTrialTrain\\\\lfsosa_12.08.2002/IMG_2537.JPG',\n",
       "  ['0 0.49296875 0.4864583333333333 0.4515625 0.18958333333333333',\n",
       "   '0 0.61875 0.8291666666666667 0.303125 0.12916666666666668',\n",
       "   '0 0.49140625 0.225 0.2546875 0.18333333333333332']),\n",
       " ('C:\\\\Users\\\\Admin\\\\AIO\\\\OCR_STR(Yolov8+CNN)\\\\icdar2003\\\\SceneTrialTrain\\\\lfsosa_12.08.2002/IMG_2538.JPG',\n",
       "  ['0 0.69921875 0.6125 0.3734375 0.09583333333333334',\n",
       "   '0 0.2875 0.6010416666666667 0.371875 0.07708333333333334']),\n",
       " ('C:\\\\Users\\\\Admin\\\\AIO\\\\OCR_STR(Yolov8+CNN)\\\\icdar2003\\\\SceneTrialTrain\\\\lfsosa_12.08.2002/IMG_2539.JPG',\n",
       "  ['0 0.52109375 0.3260416666666667 0.6578125 0.17291666666666666',\n",
       "   '0 0.38359375 0.6697916666666667 0.2484375 0.13541666666666666',\n",
       "   '0 0.6359375 0.6666666666666666 0.203125 0.125']),\n",
       " ('C:\\\\Users\\\\Admin\\\\AIO\\\\OCR_STR(Yolov8+CNN)\\\\icdar2003\\\\SceneTrialTrain\\\\lfsosa_12.08.2002/IMG_2540.JPG',\n",
       "  ['0 0.38046875 0.4270833333333333 0.4609375 0.12083333333333333',\n",
       "   '0 0.7546875 0.5166666666666667 0.075 0.09583333333333334',\n",
       "   '0 0.834375 0.5166666666666667 0.059375 0.09583333333333334',\n",
       "   '0 0.89765625 0.51875 0.0515625 0.09166666666666666',\n",
       "   '0 0.37109375 0.5791666666666667 0.2828125 0.15833333333333333']),\n",
       " ('C:\\\\Users\\\\Admin\\\\AIO\\\\OCR_STR(Yolov8+CNN)\\\\icdar2003\\\\SceneTrialTrain\\\\lfsosa_12.08.2002/IMG_2541.JPG',\n",
       "  ['0 0.51796875 0.7510416666666667 0.4078125 0.11875']),\n",
       " ('C:\\\\Users\\\\Admin\\\\AIO\\\\OCR_STR(Yolov8+CNN)\\\\icdar2003\\\\SceneTrialTrain\\\\lfsosa_12.08.2002/IMG_2542.JPG',\n",
       "  ['0 0.26328125 0.4895833333333333 0.4015625 0.12916666666666668',\n",
       "   '0 0.746875 0.509375 0.396875 0.12708333333333333']),\n",
       " ('C:\\\\Users\\\\Admin\\\\AIO\\\\OCR_STR(Yolov8+CNN)\\\\icdar2003\\\\SceneTrialTrain\\\\lfsosa_12.08.2002/IMG_2543.JPG',\n",
       "  ['0 0.234375 0.4197916666666667 0.140625 0.07708333333333334',\n",
       "   '0 0.621875 0.41770833333333335 0.45625 0.08541666666666667',\n",
       "   '0 0.13203125 0.940625 0.0453125 0.04791666666666667',\n",
       "   '0 0.44140625 0.7104166666666667 0.0265625 0.0375',\n",
       "   '0 0.87578125 0.9385416666666667 0.0578125 0.052083333333333336']),\n",
       " ('C:\\\\Users\\\\Admin\\\\AIO\\\\OCR_STR(Yolov8+CNN)\\\\icdar2003\\\\SceneTrialTrain\\\\lfsosa_12.08.2002/IMG_2544.JPG',\n",
       "  ['0 0.49921875 0.5114583333333333 0.9078125 0.23958333333333334']),\n",
       " ('C:\\\\Users\\\\Admin\\\\AIO\\\\OCR_STR(Yolov8+CNN)\\\\icdar2003\\\\SceneTrialTrain\\\\lfsosa_12.08.2002/IMG_2545.JPG',\n",
       "  ['0 0.49765625 0.63125 0.8765625 0.35833333333333334']),\n",
       " ('C:\\\\Users\\\\Admin\\\\AIO\\\\OCR_STR(Yolov8+CNN)\\\\icdar2003\\\\SceneTrialTrain\\\\lfsosa_12.08.2002/IMG_2546.JPG',\n",
       "  ['0 0.48828125 0.5447916666666667 0.8578125 0.45208333333333334']),\n",
       " ('C:\\\\Users\\\\Admin\\\\AIO\\\\OCR_STR(Yolov8+CNN)\\\\icdar2003\\\\SceneTrialTrain\\\\lfsosa_12.08.2002/IMG_2547.JPG',\n",
       "  ['0 0.68515625 0.5552083333333333 0.5453125 0.15625',\n",
       "   '0 0.19765625 0.540625 0.3140625 0.15625']),\n",
       " ('C:\\\\Users\\\\Admin\\\\AIO\\\\OCR_STR(Yolov8+CNN)\\\\icdar2003\\\\SceneTrialTrain\\\\lfsosa_12.08.2002/IMG_2548.JPG',\n",
       "  ['0 0.46484375 0.7666666666666667 0.7265625 0.1625']),\n",
       " ('C:\\\\Users\\\\Admin\\\\AIO\\\\OCR_STR(Yolov8+CNN)\\\\icdar2003\\\\SceneTrialTrain\\\\lfsosa_12.08.2002/IMG_2549.JPG',\n",
       "  ['0 0.4875 0.740625 0.840625 0.2520833333333333']),\n",
       " ('C:\\\\Users\\\\Admin\\\\AIO\\\\OCR_STR(Yolov8+CNN)\\\\icdar2003\\\\SceneTrialTrain\\\\lfsosa_12.08.2002/IMG_2550.JPG',\n",
       "  ['0 0.42421875 0.4510416666666667 0.6328125 0.23125',\n",
       "   '0 0.4421875 0.6354166666666666 0.35 0.17916666666666667']),\n",
       " ('C:\\\\Users\\\\Admin\\\\AIO\\\\OCR_STR(Yolov8+CNN)\\\\icdar2003\\\\SceneTrialTrain\\\\lfsosa_12.08.2002/IMG_2552.JPG',\n",
       "  ['0 0.6578125 0.5166666666666667 0.165625 0.08333333333333333',\n",
       "   '0 0.2328125 0.50625 0.30625 0.07916666666666666',\n",
       "   '0 0.846875 0.5208333333333334 0.14375 0.08333333333333333',\n",
       "   '0 0.48125 0.5114583333333333 0.125 0.08541666666666667']),\n",
       " ('C:\\\\Users\\\\Admin\\\\AIO\\\\OCR_STR(Yolov8+CNN)\\\\icdar2003\\\\SceneTrialTrain\\\\lfsosa_12.08.2002/IMG_2553.JPG',\n",
       "  ['0 0.36354166666666665 0.128125 0.26875 0.04375',\n",
       "   '0 0.659375 0.14140625 0.28541666666666665 0.0515625']),\n",
       " ('C:\\\\Users\\\\Admin\\\\AIO\\\\OCR_STR(Yolov8+CNN)\\\\icdar2003\\\\SceneTrialTrain\\\\lfsosa_12.08.2002/IMG_2554.JPG',\n",
       "  ['0 0.728125 0.8166666666666667 0.315625 0.1125',\n",
       "   '0 0.3390625 0.8145833333333333 0.403125 0.1125']),\n",
       " ('C:\\\\Users\\\\Admin\\\\AIO\\\\OCR_STR(Yolov8+CNN)\\\\icdar2003\\\\SceneTrialTrain\\\\lfsosa_12.08.2002/IMG_2555.JPG',\n",
       "  ['0 0.3375 0.55625 0.228125 0.09166666666666666',\n",
       "   '0 0.73828125 0.5666666666666667 0.4609375 0.1125',\n",
       "   '0 0.10390625 0.5572916666666666 0.1546875 0.08541666666666667']),\n",
       " ('C:\\\\Users\\\\Admin\\\\AIO\\\\OCR_STR(Yolov8+CNN)\\\\icdar2003\\\\SceneTrialTrain\\\\lfsosa_12.08.2002/IMG_2556.JPG',\n",
       "  ['0 0.3234375 0.509375 0.18125 0.052083333333333336',\n",
       "   '0 0.61328125 0.5135416666666667 0.1265625 0.052083333333333336',\n",
       "   '0 0.48046875 0.5114583333333333 0.0953125 0.04375',\n",
       "   '0 0.75 0.5197916666666667 0.1125 0.05625']),\n",
       " ('C:\\\\Users\\\\Admin\\\\AIO\\\\OCR_STR(Yolov8+CNN)\\\\icdar2003\\\\SceneTrialTrain\\\\lfsosa_12.08.2002/IMG_2557.JPG',\n",
       "  ['0 0.60859375 0.50625 0.2515625 0.10833333333333334',\n",
       "   '0 0.36328125 0.503125 0.1828125 0.10625',\n",
       "   '0 0.22890625 0.4947916666666667 0.0765625 0.10625']),\n",
       " ('C:\\\\Users\\\\Admin\\\\AIO\\\\OCR_STR(Yolov8+CNN)\\\\icdar2003\\\\SceneTrialTrain\\\\lfsosa_12.08.2002/IMG_2558.JPG',\n",
       "  ['0 0.68515625 0.81875 0.1453125 0.041666666666666664',\n",
       "   '0 0.665625 0.39166666666666666 0.359375 0.09583333333333334',\n",
       "   '0 0.5265625 0.8125 0.140625 0.041666666666666664',\n",
       "   '0 0.27109375 0.375 0.3265625 0.10416666666666667',\n",
       "   '0 0.36953125 0.8125 0.1484375 0.041666666666666664',\n",
       "   '0 0.540625 0.5510416666666667 0.29375 0.07708333333333334']),\n",
       " ('C:\\\\Users\\\\Admin\\\\AIO\\\\OCR_STR(Yolov8+CNN)\\\\icdar2003\\\\SceneTrialTrain\\\\lfsosa_12.08.2002/IMG_2559.JPG',\n",
       "  ['0 0.55703125 0.43854166666666666 0.4921875 0.16875']),\n",
       " ('C:\\\\Users\\\\Admin\\\\AIO\\\\OCR_STR(Yolov8+CNN)\\\\icdar2003\\\\SceneTrialTrain\\\\lfsosa_12.08.2002/IMG_2560.JPG',\n",
       "  ['0 0.81015625 0.5333333333333333 0.2265625 0.13333333333333333',\n",
       "   '0 0.37421875 0.546875 0.5859375 0.16458333333333333']),\n",
       " ('C:\\\\Users\\\\Admin\\\\AIO\\\\OCR_STR(Yolov8+CNN)\\\\icdar2003\\\\SceneTrialTrain\\\\lfsosa_12.08.2002/IMG_2561.JPG',\n",
       "  ['0 0.49453125 0.48020833333333335 0.4453125 0.18125']),\n",
       " ('C:\\\\Users\\\\Admin\\\\AIO\\\\OCR_STR(Yolov8+CNN)\\\\icdar2003\\\\SceneTrialTrain\\\\lfsosa_12.08.2002/IMG_2564.JPG',\n",
       "  ['0 0.7734375 0.6364583333333333 0.15625 0.05625',\n",
       "   '0 0.48828125 0.30104166666666665 0.3015625 0.11875',\n",
       "   '0 0.38984375 0.6395833333333333 0.4640625 0.06666666666666667']),\n",
       " ('C:\\\\Users\\\\Admin\\\\AIO\\\\OCR_STR(Yolov8+CNN)\\\\icdar2003\\\\SceneTrialTrain\\\\lfsosa_12.08.2002/IMG_2565.JPG',\n",
       "  []),\n",
       " ('C:\\\\Users\\\\Admin\\\\AIO\\\\OCR_STR(Yolov8+CNN)\\\\icdar2003\\\\SceneTrialTrain\\\\lfsosa_12.08.2002/IMG_2566.JPG',\n",
       "  ['0 0.10546875 0.5041666666666667 0.1328125 0.08333333333333333',\n",
       "   '0 0.59609375 0.5645833333333333 0.7390625 0.43333333333333335',\n",
       "   '0 0.39765625 0.503125 0.1296875 0.05625',\n",
       "   '0 0.28828125 0.515625 0.0671875 0.05625',\n",
       "   '0 0.21484375 0.5104166666666666 0.0515625 0.05']),\n",
       " ('C:\\\\Users\\\\Admin\\\\AIO\\\\OCR_STR(Yolov8+CNN)\\\\icdar2003\\\\SceneTrialTrain\\\\lfsosa_12.08.2002/IMG_2567.JPG',\n",
       "  ['0 0.66875 0.4979166666666667 0.178125 0.05',\n",
       "   '0 0.49609375 0.3416666666666667 0.3015625 0.10833333333333334',\n",
       "   '0 0.32421875 0.496875 0.1921875 0.052083333333333336',\n",
       "   '0 0.49921875 0.49895833333333334 0.1421875 0.052083333333333336']),\n",
       " ('C:\\\\Users\\\\Admin\\\\AIO\\\\OCR_STR(Yolov8+CNN)\\\\icdar2003\\\\SceneTrialTrain\\\\lfsosa_12.08.2002/IMG_2569.JPG',\n",
       "  ['0 0.53984375 0.38645833333333335 0.1828125 0.06041666666666667',\n",
       "   '0 0.53359375 0.484375 0.4171875 0.10625']),\n",
       " ('C:\\\\Users\\\\Admin\\\\AIO\\\\OCR_STR(Yolov8+CNN)\\\\icdar2003\\\\SceneTrialTrain\\\\lfsosa_12.08.2002/IMG_2571.JPG',\n",
       "  ['0 0.303125 0.66875 0.240625 0.08333333333333333',\n",
       "   '0 0.49921875 0.16666666666666666 0.8078125 0.11666666666666667',\n",
       "   '0 0.63203125 0.6802083333333333 0.2890625 0.08541666666666667',\n",
       "   '0 0.43359375 0.459375 0.1890625 0.04375',\n",
       "   '0 0.47578125 0.775 0.5546875 0.075',\n",
       "   '0 0.68203125 0.46875 0.1921875 0.041666666666666664',\n",
       "   '0 0.2328125 0.45416666666666666 0.08125 0.04583333333333333',\n",
       "   '0 0.4859375 0.3125 0.8375 0.17916666666666667']),\n",
       " ('C:\\\\Users\\\\Admin\\\\AIO\\\\OCR_STR(Yolov8+CNN)\\\\icdar2003\\\\SceneTrialTrain\\\\lfsosa_12.08.2002/IMG_2572.JPG',\n",
       "  ['0 0.24609375 0.565625 0.2046875 0.09791666666666667',\n",
       "   '0 0.64140625 0.5739583333333333 0.4953125 0.08541666666666667']),\n",
       " ('C:\\\\Users\\\\Admin\\\\AIO\\\\OCR_STR(Yolov8+CNN)\\\\icdar2003\\\\SceneTrialTrain\\\\lfsosa_12.08.2002/IMG_2573.JPG',\n",
       "  ['0 0.29765625 0.44479166666666664 0.0328125 0.035416666666666666',\n",
       "   '0 0.55390625 0.6291666666666667 0.1734375 0.06666666666666667',\n",
       "   '0 0.66328125 0.440625 0.0953125 0.035416666666666666',\n",
       "   '0 0.2921875 0.6364583333333333 0.30625 0.08125',\n",
       "   '0 0.46171875 0.5552083333333333 0.1140625 0.06458333333333334',\n",
       "   '0 0.91484375 0.44479166666666664 0.0953125 0.035416666666666666',\n",
       "   '0 0.746875 0.31979166666666664 0.4 0.12708333333333333',\n",
       "   '0 0.5625 0.44166666666666665 0.090625 0.0375',\n",
       "   '0 0.4578125 0.4427083333333333 0.025 0.03125',\n",
       "   '0 0.228125 0.55625 0.3125 0.075',\n",
       "   '0 0.3765625 0.44479166666666664 0.125 0.035416666666666666',\n",
       "   '0 0.4890625 0.44479166666666664 0.040625 0.03125',\n",
       "   '0 0.76328125 0.44166666666666665 0.0359375 0.0375',\n",
       "   '0 0.72734375 0.44479166666666664 0.0234375 0.035416666666666666',\n",
       "   '0 0.821875 0.44583333333333336 0.071875 0.03333333333333333',\n",
       "   '0 0.50859375 0.29375 0.6234375 0.17083333333333334',\n",
       "   '0 0.61953125 0.553125 0.1796875 0.06875']),\n",
       " ('C:\\\\Users\\\\Admin\\\\AIO\\\\OCR_STR(Yolov8+CNN)\\\\icdar2003\\\\SceneTrialTrain\\\\lfsosa_12.08.2002/IMG_2575.JPG',\n",
       "  ['0 0.35078125 0.5416666666666666 0.0296875 0.041666666666666664',\n",
       "   '0 0.36171875 0.453125 0.0265625 0.04375',\n",
       "   '0 0.15078125 0.7125 0.2203125 0.0875',\n",
       "   '0 0.9015625 0.44479166666666664 0.071875 0.06458333333333334',\n",
       "   '0 0.434375 0.4427083333333333 0.09375 0.06458333333333334',\n",
       "   '0 0.38359375 0.7072916666666667 0.1984375 0.06875',\n",
       "   '0 0.2140625 0.43854166666666666 0.11875 0.06458333333333334',\n",
       "   '0 0.86875 0.53125 0.1125 0.0625',\n",
       "   '0 0.7640625 0.5291666666666667 0.065625 0.07083333333333333',\n",
       "   '0 0.64453125 0.4427083333333333 0.0734375 0.06875',\n",
       "   '0 0.571875 0.44375 0.04375 0.06666666666666667',\n",
       "   '0 0.6921875 0.5333333333333333 0.046875 0.058333333333333334',\n",
       "   '0 0.634375 0.5354166666666667 0.040625 0.0625',\n",
       "   '0 0.51875 0.44166666666666665 0.040625 0.058333333333333334',\n",
       "   '0 0.54921875 0.5395833333333333 0.0984375 0.05416666666666667',\n",
       "   '0 0.76640625 0.44583333333333336 0.1484375 0.058333333333333334',\n",
       "   '0 0.1859375 0.5333333333333333 0.15 0.058333333333333334',\n",
       "   '0 0.30234375 0.534375 0.0515625 0.06458333333333334',\n",
       "   '0 0.3140625 0.44375 0.05625 0.07083333333333333',\n",
       "   '0 0.06015625 0.5302083333333333 0.0671875 0.07291666666666667',\n",
       "   '0 0.0984375 0.4395833333333333 0.0875 0.0625',\n",
       "   '0 0.43203125 0.53125 0.1078125 0.0625']),\n",
       " ('C:\\\\Users\\\\Admin\\\\AIO\\\\OCR_STR(Yolov8+CNN)\\\\icdar2003\\\\SceneTrialTrain\\\\lfsosa_12.08.2002/IMG_2583.JPG',\n",
       "  ['0 0.9109375 0.24791666666666667 0.084375 0.06666666666666667',\n",
       "   '0 0.4671875 0.68125 0.315625 0.0875',\n",
       "   '0 0.409375 0.821875 0.221875 0.08958333333333333',\n",
       "   '0 0.31484375 0.5 0.4453125 0.09166666666666666',\n",
       "   '0 0.15625 0.8322916666666667 0.234375 0.10625',\n",
       "   '0 0.15546875 0.68125 0.2484375 0.09166666666666666',\n",
       "   '0 0.71171875 0.503125 0.2859375 0.09375']),\n",
       " ('C:\\\\Users\\\\Admin\\\\AIO\\\\OCR_STR(Yolov8+CNN)\\\\icdar2003\\\\SceneTrialTrain\\\\lfsosa_12.08.2002/IMG_2584.JPG',\n",
       "  ['0 0.51875 0.40625 0.709375 0.3333333333333333']),\n",
       " ('C:\\\\Users\\\\Admin\\\\AIO\\\\OCR_STR(Yolov8+CNN)\\\\icdar2003\\\\SceneTrialTrain\\\\lfsosa_12.08.2002/IMG_2585.JPG',\n",
       "  ['0 0.47265625 0.71875 0.3859375 0.1']),\n",
       " ('C:\\\\Users\\\\Admin\\\\AIO\\\\OCR_STR(Yolov8+CNN)\\\\icdar2003\\\\SceneTrialTrain\\\\lfsosa_12.08.2002/IMG_2586.JPG',\n",
       "  ['0 0.68125 0.8333333333333334 0.240625 0.075',\n",
       "   '0 0.415625 0.8375 0.246875 0.07083333333333333']),\n",
       " ('C:\\\\Users\\\\Admin\\\\AIO\\\\OCR_STR(Yolov8+CNN)\\\\icdar2003\\\\SceneTrialTrain\\\\lfsosa_12.08.2002/IMG_2588.JPG',\n",
       "  ['0 0.4015625 0.8208333333333333 0.234375 0.041666666666666664',\n",
       "   '0 0.403125 0.7333333333333333 0.246875 0.11666666666666667',\n",
       "   '0 0.634375 0.8229166666666666 0.2125 0.041666666666666664',\n",
       "   '0 0.5234375 0.175 0.490625 0.16666666666666666',\n",
       "   '0 0.71328125 0.75 0.0640625 0.0875',\n",
       "   '0 0.60625 0.7614583333333333 0.13125 0.06041666666666667']),\n",
       " ('C:\\\\Users\\\\Admin\\\\AIO\\\\OCR_STR(Yolov8+CNN)\\\\icdar2003\\\\SceneTrialTrain\\\\lfsosa_12.08.2002/IMG_2591.JPG',\n",
       "  ['0 0.47604166666666664 0.41583333333333333 0.13541666666666666 0.10833333333333334',\n",
       "   '0 0.340625 0.7933333333333333 0.5854166666666667 0.05333333333333334',\n",
       "   '0 0.7916666666666666 0.8891666666666667 0.25416666666666665 0.051666666666666666',\n",
       "   '0 0.48020833333333335 0.5516666666666666 0.14375 0.13666666666666666',\n",
       "   '0 0.7989583333333333 0.8066666666666666 0.2604166666666667 0.06333333333333334',\n",
       "   '0 0.7197916666666667 0.365 0.45625 0.6433333333333333',\n",
       "   '0 0.2635416666666667 0.37666666666666665 0.4395833333333333 0.6466666666666666',\n",
       "   '0 0.715625 0.7316666666666667 0.41875 0.06333333333333334',\n",
       "   '0 0.2552083333333333 0.735 0.42291666666666666 0.07666666666666666',\n",
       "   '0 0.59375 0.8833333333333333 0.09583333333333334 0.06',\n",
       "   '0 0.28229166666666666 0.8875 0.45625 0.07166666666666667']),\n",
       " ('C:\\\\Users\\\\Admin\\\\AIO\\\\OCR_STR(Yolov8+CNN)\\\\icdar2003\\\\SceneTrialTrain\\\\lfsosa_12.08.2002/IMG_2593.JPG',\n",
       "  ['0 0.47734375 0.6291666666666667 0.3234375 0.075',\n",
       "   '0 0.8078125 0.615625 0.26875 0.08958333333333333',\n",
       "   '0 0.63828125 0.47291666666666665 0.6390625 0.20833333333333334']),\n",
       " ('C:\\\\Users\\\\Admin\\\\AIO\\\\OCR_STR(Yolov8+CNN)\\\\icdar2003\\\\SceneTrialTrain\\\\lfsosa_12.08.2002/IMG_2594.JPG',\n",
       "  ['0 0.4859375 0.40625 0.28125 0.5958333333333333',\n",
       "   '0 0.4859375 0.8729166666666667 0.64375 0.12083333333333333',\n",
       "   '0 0.91015625 0.140625 0.0265625 0.052083333333333336']),\n",
       " ('C:\\\\Users\\\\Admin\\\\AIO\\\\OCR_STR(Yolov8+CNN)\\\\icdar2003\\\\SceneTrialTrain\\\\lfsosa_12.08.2002/IMG_2595.JPG',\n",
       "  ['0 0.66328125 0.5010416666666667 0.2390625 0.07708333333333334',\n",
       "   '0 0.47265625 0.496875 0.0953125 0.07708333333333334',\n",
       "   '0 0.6015625 0.6229166666666667 0.259375 0.09583333333333334']),\n",
       " ('C:\\\\Users\\\\Admin\\\\AIO\\\\OCR_STR(Yolov8+CNN)\\\\icdar2003\\\\SceneTrialTrain\\\\lfsosa_12.08.2002/IMG_2597.JPG',\n",
       "  ['0 0.53046875 0.7427083333333333 0.2078125 0.06041666666666667']),\n",
       " ('C:\\\\Users\\\\Admin\\\\AIO\\\\OCR_STR(Yolov8+CNN)\\\\icdar2003\\\\SceneTrialTrain\\\\lfsosa_12.08.2002/IMG_2598.JPG',\n",
       "  ['0 0.10625 0.5166666666666667 0.209375 0.175',\n",
       "   '0 0.5671875 0.521875 0.646875 0.19375',\n",
       "   '0 0.05 0.05416666666666667 0.06875 0.08333333333333333',\n",
       "   '0 0.4875 0.7697916666666667 0.93125 0.26875',\n",
       "   '0 0.17421875 0.040625 0.1359375 0.08125',\n",
       "   '0 0.45078125 0.020833333333333332 0.0828125 0.05']),\n",
       " ('C:\\\\Users\\\\Admin\\\\AIO\\\\OCR_STR(Yolov8+CNN)\\\\icdar2003\\\\SceneTrialTrain\\\\lfsosa_12.08.2002/IMG_2599.JPG',\n",
       "  []),\n",
       " ('C:\\\\Users\\\\Admin\\\\AIO\\\\OCR_STR(Yolov8+CNN)\\\\icdar2003\\\\SceneTrialTrain\\\\lfsosa_12.08.2002/IMG_2600.JPG',\n",
       "  ['0 0.52109375 0.5791666666666667 0.1015625 0.05',\n",
       "   '0 0.90625 0.625 0.078125 0.05416666666666667',\n",
       "   '0 0.52109375 0.6364583333333333 0.0890625 0.04375',\n",
       "   '0 0.103125 0.646875 0.09375 0.04791666666666667',\n",
       "   '0 0.103125 0.5833333333333334 0.09375 0.05',\n",
       "   '0 0.90859375 0.565625 0.0984375 0.04791666666666667',\n",
       "   '0 0.521875 0.7947916666666667 0.30625 0.16041666666666668']),\n",
       " ('C:\\\\Users\\\\Admin\\\\AIO\\\\OCR_STR(Yolov8+CNN)\\\\icdar2003\\\\SceneTrialTrain\\\\lfsosa_12.08.2002/IMG_2604.JPG',\n",
       "  ['0 0.60703125 0.5083333333333333 0.5265625 0.07083333333333333',\n",
       "   '0 0.20078125 0.5104166666666666 0.2109375 0.075']),\n",
       " ('C:\\\\Users\\\\Admin\\\\AIO\\\\OCR_STR(Yolov8+CNN)\\\\icdar2003\\\\SceneTrialTrain\\\\lfsosa_12.08.2002/IMG_2605.JPG',\n",
       "  ['0 0.80625 0.5458333333333333 0.078125 0.058333333333333334',\n",
       "   '0 0.69609375 0.5416666666666666 0.1015625 0.0625',\n",
       "   '0 0.3890625 0.5 0.465625 0.13333333333333333']),\n",
       " ('C:\\\\Users\\\\Admin\\\\AIO\\\\OCR_STR(Yolov8+CNN)\\\\icdar2003\\\\SceneTrialTrain\\\\lfsosa_12.08.2002/IMG_2606.JPG',\n",
       "  ['0 0.8828125 0.11041666666666666 0.18125 0.09583333333333334',\n",
       "   '0 0.6609375 0.11145833333333334 0.228125 0.09791666666666667']),\n",
       " ('C:\\\\Users\\\\Admin\\\\AIO\\\\OCR_STR(Yolov8+CNN)\\\\icdar2003\\\\SceneTrialTrain\\\\lfsosa_12.08.2002/IMG_2607.JPG',\n",
       "  ['0 0.47109375 0.45625 0.3546875 0.225']),\n",
       " ('C:\\\\Users\\\\Admin\\\\AIO\\\\OCR_STR(Yolov8+CNN)\\\\icdar2003\\\\SceneTrialTrain\\\\lfsosa_12.08.2002/IMG_2612.JPG',\n",
       "  ['0 0.4125 0.34791666666666665 0.040625 0.05416666666666667',\n",
       "   '0 0.36171875 0.225 0.0984375 0.0875',\n",
       "   '0 0.3234375 0.17708333333333334 0.075 0.09583333333333334',\n",
       "   '0 0.31953125 0.3458333333333333 0.1140625 0.04583333333333333']),\n",
       " ('C:\\\\Users\\\\Admin\\\\AIO\\\\OCR_STR(Yolov8+CNN)\\\\icdar2003\\\\SceneTrialTrain\\\\lfsosa_12.08.2002/IMG_2613.JPG',\n",
       "  ['0 0.8353080568720379 0.803921568627451 0.23933649289099526 0.2549019607843137',\n",
       "   '0 0.6563981042654028 0.8186274509803921 0.07109004739336493 0.2647058823529412',\n",
       "   '0 0.29739336492890994 0.7941176470588235 0.14928909952606634 0.27450980392156865',\n",
       "   '0 0.12322274881516587 0.7892156862745098 0.14218009478672985 0.28431372549019607',\n",
       "   '0 0.49170616113744076 0.7941176470588235 0.2014218009478673 0.2549019607843137']),\n",
       " ('C:\\\\Users\\\\Admin\\\\AIO\\\\OCR_STR(Yolov8+CNN)\\\\icdar2003\\\\SceneTrialTrain\\\\lfsosa_12.08.2002/IMG_2614.JPG',\n",
       "  ['0 0.50703125 0.4625 0.3078125 0.5125']),\n",
       " ('C:\\\\Users\\\\Admin\\\\AIO\\\\OCR_STR(Yolov8+CNN)\\\\icdar2003\\\\SceneTrialTrain\\\\lfsosa_12.08.2002/IMG_2615.JPG',\n",
       "  ['0 0.528125 0.4583333333333333 0.346875 0.07916666666666666']),\n",
       " ('C:\\\\Users\\\\Admin\\\\AIO\\\\OCR_STR(Yolov8+CNN)\\\\icdar2003\\\\SceneTrialTrain\\\\lfsosa_12.08.2002/IMG_2616.JPG',\n",
       "  ['0 0.496875 0.5625 0.3 0.12083333333333333']),\n",
       " ('C:\\\\Users\\\\Admin\\\\AIO\\\\OCR_STR(Yolov8+CNN)\\\\icdar2003\\\\SceneTrialTrain\\\\lfsosa_12.08.2002/IMG_2617.JPG',\n",
       "  ['0 0.48984375 0.46770833333333334 0.4578125 0.10625']),\n",
       " ('C:\\\\Users\\\\Admin\\\\AIO\\\\OCR_STR(Yolov8+CNN)\\\\icdar2003\\\\SceneTrialTrain\\\\lfsosa_12.08.2002/IMG_2618.JPG',\n",
       "  ['0 0.13359375 0.14516129032258066 0.2046875 0.23297491039426524',\n",
       "   '0 0.18203125 0.7634408602150538 0.2953125 0.32974910394265233',\n",
       "   '0 0.66796875 0.7724014336917563 0.5703125 0.34767025089605735']),\n",
       " ('C:\\\\Users\\\\Admin\\\\AIO\\\\OCR_STR(Yolov8+CNN)\\\\icdar2003\\\\SceneTrialTrain\\\\lfsosa_12.08.2002/IMG_2619.JPG',\n",
       "  ['0 0.4234375 0.7072916666666667 0.5125 0.19791666666666666',\n",
       "   '0 0.28515625 0.48854166666666665 0.1640625 0.18125',\n",
       "   '0 0.33125 0.925 0.0375 0.05',\n",
       "   '0 0.5296875 0.5 0.246875 0.18333333333333332',\n",
       "   '0 0.43203125 0.28125 0.4421875 0.19166666666666668']),\n",
       " ('C:\\\\Users\\\\Admin\\\\AIO\\\\OCR_STR(Yolov8+CNN)\\\\icdar2003\\\\SceneTrialTrain\\\\lfsosa_12.08.2002/IMG_2620.JPG',\n",
       "  ['0 0.50859375 0.540625 0.8703125 0.3104166666666667']),\n",
       " ('C:\\\\Users\\\\Admin\\\\AIO\\\\OCR_STR(Yolov8+CNN)\\\\icdar2003\\\\SceneTrialTrain\\\\lfsosa_12.08.2002/IMG_2622.JPG',\n",
       "  ['0 0.5177083333333333 0.3453125 0.9145833333333333 0.103125',\n",
       "   '0 0.4979166666666667 0.78203125 0.6083333333333333 0.1671875',\n",
       "   '0 0.68125 0.48359375 0.19166666666666668 0.0671875',\n",
       "   '0 0.4041666666666667 0.48515625 0.29583333333333334 0.0703125',\n",
       "   '0 0.5229166666666667 0.61171875 0.9416666666666667 0.1390625',\n",
       "   '0 0.7177083333333333 0.21953125 0.05625 0.0421875',\n",
       "   '0 0.48541666666666666 0.2203125 0.4041666666666667 0.0625']),\n",
       " ('C:\\\\Users\\\\Admin\\\\AIO\\\\OCR_STR(Yolov8+CNN)\\\\icdar2003\\\\SceneTrialTrain\\\\lfsosa_12.08.2002/IMG_2624.JPG',\n",
       "  ['0 0.32734375 0.284375 0.2015625 0.09791666666666667',\n",
       "   '0 0.20703125 0.8979166666666667 0.1890625 0.0625',\n",
       "   '0 0.440625 0.68125 0.071875 0.09583333333333334',\n",
       "   '0 0.5234375 0.26875 0.15625 0.09166666666666666',\n",
       "   '0 0.48125 0.9052083333333333 0.33125 0.07291666666666667',\n",
       "   '0 0.20859375 0.14583333333333334 0.1078125 0.0875',\n",
       "   '0 0.68046875 0.6916666666666667 0.3703125 0.10416666666666667',\n",
       "   '0 0.31640625 0.565625 0.2546875 0.09375',\n",
       "   '0 0.75703125 0.8947916666666667 0.1953125 0.06041666666666667',\n",
       "   '0 0.24140625 0.696875 0.2796875 0.10208333333333333',\n",
       "   '0 0.696875 0.26979166666666665 0.14375 0.09375',\n",
       "   '0 0.5015625 0.5666666666666667 0.078125 0.0875',\n",
       "   '0 0.5515625 0.14583333333333334 0.528125 0.0875',\n",
       "   '0 0.66171875 0.5625 0.1859375 0.0875']),\n",
       " ('C:\\\\Users\\\\Admin\\\\AIO\\\\OCR_STR(Yolov8+CNN)\\\\icdar2003\\\\SceneTrialTrain\\\\lfsosa_12.08.2002/IMG_2626.JPG',\n",
       "  ['0 0.4296875 0.5458333333333333 0.56875 0.20833333333333334']),\n",
       " ('C:\\\\Users\\\\Admin\\\\AIO\\\\OCR_STR(Yolov8+CNN)\\\\icdar2003\\\\SceneTrialTrain\\\\lfsosa_12.08.2002/IMG_2627.JPG',\n",
       "  ['0 0.35703125 0.4354166666666667 0.5046875 0.075',\n",
       "   '0 0.24609375 0.5854166666666667 0.2578125 0.0875',\n",
       "   '0 0.72265625 0.43020833333333336 0.1859375 0.07708333333333334']),\n",
       " ('C:\\\\Users\\\\Admin\\\\AIO\\\\OCR_STR(Yolov8+CNN)\\\\icdar2003\\\\SceneTrialTrain\\\\lfsosa_12.08.2002/IMG_2628.JPG',\n",
       "  ['0 0.68671875 0.4583333333333333 0.1546875 0.09583333333333334',\n",
       "   '0 0.33359375 0.46145833333333336 0.4765625 0.09375',\n",
       "   '0 0.44375 0.32395833333333335 0.40625 0.11458333333333333',\n",
       "   '0 0.3546875 0.6104166666666667 0.49375 0.09166666666666666',\n",
       "   '0 0.73515625 0.30833333333333335 0.0984375 0.09166666666666666']),\n",
       " ('C:\\\\Users\\\\Admin\\\\AIO\\\\OCR_STR(Yolov8+CNN)\\\\icdar2003\\\\SceneTrialTrain\\\\lfsosa_12.08.2002/IMG_2629.JPG',\n",
       "  ['0 0.49148211243611584 0.5129198966408268 0.8534923339011925 0.34366925064599485']),\n",
       " ('C:\\\\Users\\\\Admin\\\\AIO\\\\OCR_STR(Yolov8+CNN)\\\\icdar2003\\\\SceneTrialTrain\\\\lfsosa_12.08.2002/IMG_2630.JPG',\n",
       "  ['0 0.546875 0.7510416666666667 0.065625 0.035416666666666666',\n",
       "   '0 0.34140625 0.7385416666666667 0.1203125 0.03958333333333333',\n",
       "   '0 0.46328125 0.7447916666666666 0.0984375 0.035416666666666666',\n",
       "   '0 0.475 0.42604166666666665 0.034375 0.03958333333333333',\n",
       "   '0 0.640625 0.753125 0.109375 0.03125',\n",
       "   '0 0.29453125 0.4166666666666667 0.0484375 0.04583333333333333',\n",
       "   '0 0.4890625 0.5927083333333333 0.709375 0.22708333333333333',\n",
       "   '0 0.390625 0.42083333333333334 0.11875 0.041666666666666664',\n",
       "   '0 0.60546875 0.428125 0.1890625 0.04375',\n",
       "   '0 0.2484375 0.26875 0.25 0.17916666666666667',\n",
       "   '0 0.6359375 0.2864583333333333 0.421875 0.18958333333333333']),\n",
       " ('C:\\\\Users\\\\Admin\\\\AIO\\\\OCR_STR(Yolov8+CNN)\\\\icdar2003\\\\SceneTrialTrain\\\\lfsosa_12.08.2002/IMG_2631.JPG',\n",
       "  ['0 0.50546875 0.49270833333333336 0.7203125 0.3145833333333333']),\n",
       " ('C:\\\\Users\\\\Admin\\\\AIO\\\\OCR_STR(Yolov8+CNN)\\\\icdar2003\\\\SceneTrialTrain\\\\lfsosa_12.08.2002/IMG_2633.JPG',\n",
       "  ['0 0.492845786963434 0.5843137254901961 0.9697933227344993 0.7137254901960784']),\n",
       " ('C:\\\\Users\\\\Admin\\\\AIO\\\\OCR_STR(Yolov8+CNN)\\\\icdar2003\\\\SceneTrialTrain\\\\lfsosa_12.08.2002/IMG_2634.JPG',\n",
       "  ['0 0.4875 0.25625 0.88125 0.25416666666666665',\n",
       "   '0 0.13203125 0.7302083333333333 0.0578125 0.08125',\n",
       "   '0 0.49453125 0.50625 0.8078125 0.12916666666666668',\n",
       "   '0 0.39765625 0.70625 0.1765625 0.09166666666666666',\n",
       "   '0 0.5421875 0.6916666666666667 0.078125 0.09166666666666666',\n",
       "   '0 0.65546875 0.6770833333333334 0.1078125 0.10416666666666667',\n",
       "   '0 0.234375 0.7229166666666667 0.10625 0.08333333333333333']),\n",
       " ('C:\\\\Users\\\\Admin\\\\AIO\\\\OCR_STR(Yolov8+CNN)\\\\icdar2003\\\\SceneTrialTrain\\\\lfsosa_12.08.2002/IMG_2635.JPG',\n",
       "  ['0 0.49296875 0.571875 0.7890625 0.17291666666666666']),\n",
       " ('C:\\\\Users\\\\Admin\\\\AIO\\\\OCR_STR(Yolov8+CNN)\\\\icdar2003\\\\SceneTrialTrain\\\\lfsosa_12.08.2002/IMG_2637.JPG',\n",
       "  ['0 0.50859375 0.5177083333333333 0.8765625 0.19375']),\n",
       " ('C:\\\\Users\\\\Admin\\\\AIO\\\\OCR_STR(Yolov8+CNN)\\\\icdar2003\\\\SceneTrialTrain\\\\lfsosa_12.08.2002/IMG_2638.JPG',\n",
       "  ['0 0.5078125 0.49583333333333335 0.646875 0.225']),\n",
       " ('C:\\\\Users\\\\Admin\\\\AIO\\\\OCR_STR(Yolov8+CNN)\\\\icdar2003\\\\SceneTrialTrain\\\\lfsosa_12.08.2002/IMG_2639.JPG',\n",
       "  ['0 0.6125 0.40520833333333334 0.56875 0.23541666666666666',\n",
       "   '0 0.49453125 0.640625 0.5078125 0.23958333333333334']),\n",
       " ('C:\\\\Users\\\\Admin\\\\AIO\\\\OCR_STR(Yolov8+CNN)\\\\icdar2003\\\\SceneTrialTrain\\\\lfsosa_12.08.2002/IMG_2640.JPG',\n",
       "  ['0 0.49296875 0.4354166666666667 0.7484375 0.175',\n",
       "   '0 0.4921875 0.6125 0.375 0.18333333333333332']),\n",
       " ('C:\\\\Users\\\\Admin\\\\AIO\\\\OCR_STR(Yolov8+CNN)\\\\icdar2003\\\\SceneTrialTrain\\\\lfsosa_12.08.2002/IMG_2641.JPG',\n",
       "  ['0 0.51015625 0.546875 0.7640625 0.35208333333333336']),\n",
       " ('C:\\\\Users\\\\Admin\\\\AIO\\\\OCR_STR(Yolov8+CNN)\\\\icdar2003\\\\SceneTrialTrain\\\\lfsosa_12.08.2002/IMG_2642.JPG',\n",
       "  ['0 0.4953125 0.4979166666666667 0.859375 0.25']),\n",
       " ('C:\\\\Users\\\\Admin\\\\AIO\\\\OCR_STR(Yolov8+CNN)\\\\icdar2003\\\\SceneTrialTrain\\\\lfsosa_12.08.2002/IMG_2643.JPG',\n",
       "  ['0 0.5125 0.528125 0.915625 0.23541666666666666']),\n",
       " ('C:\\\\Users\\\\Admin\\\\AIO\\\\OCR_STR(Yolov8+CNN)\\\\icdar2003\\\\SceneTrialTrain\\\\lfsosa_12.08.2002/IMG_2644.JPG',\n",
       "  ['0 0.4765625 0.79375 0.525 0.24166666666666667',\n",
       "   '0 0.48203125 0.5708333333333333 0.4984375 0.2',\n",
       "   '0 0.49453125 0.3145833333333333 0.7890625 0.2791666666666667']),\n",
       " ('C:\\\\Users\\\\Admin\\\\AIO\\\\OCR_STR(Yolov8+CNN)\\\\icdar2003\\\\SceneTrialTrain\\\\lfsosa_12.08.2002/IMG_2645.JPG',\n",
       "  ['0 0.5265625 0.515625 0.36875 0.24375']),\n",
       " ('C:\\\\Users\\\\Admin\\\\AIO\\\\OCR_STR(Yolov8+CNN)\\\\icdar2003\\\\SceneTrialTrain\\\\lfsosa_12.08.2002/IMG_2646.JPG',\n",
       "  ['0 0.46796875 0.46458333333333335 0.4609375 0.3125']),\n",
       " ('C:\\\\Users\\\\Admin\\\\AIO\\\\OCR_STR(Yolov8+CNN)\\\\icdar2003\\\\SceneTrialTrain\\\\lfsosa_12.08.2002/IMG_2647.JPG',\n",
       "  ['0 0.42109375 0.26458333333333334 0.3390625 0.15',\n",
       "   '0 0.3921875 0.5958333333333333 0.271875 0.10416666666666667',\n",
       "   '0 0.33984375 0.7385416666666667 0.1765625 0.13541666666666666',\n",
       "   '0 0.40546875 0.4427083333333333 0.3015625 0.16458333333333333',\n",
       "   '0 0.63984375 0.434375 0.1046875 0.14375',\n",
       "   '0 0.62734375 0.5895833333333333 0.1203125 0.125']),\n",
       " ('C:\\\\Users\\\\Admin\\\\AIO\\\\OCR_STR(Yolov8+CNN)\\\\icdar2003\\\\SceneTrialTrain\\\\lfsosa_12.08.2002/IMG_2648.JPG',\n",
       "  ['0 0.5 0.4014423076923077 0.865625 0.30288461538461536']),\n",
       " ('C:\\\\Users\\\\Admin\\\\AIO\\\\OCR_STR(Yolov8+CNN)\\\\icdar2003\\\\SceneTrialTrain\\\\lfsosa_12.08.2002/IMG_2653.JPG',\n",
       "  ['0 0.49296875 0.5260416666666666 0.7796875 0.21458333333333332']),\n",
       " ('C:\\\\Users\\\\Admin\\\\AIO\\\\OCR_STR(Yolov8+CNN)\\\\icdar2003\\\\SceneTrialTrain\\\\lfsosa_12.08.2002/IMG_2654.JPG',\n",
       "  ['0 0.11171875 0.33645833333333336 0.2171875 0.09375',\n",
       "   '0 0.40546875 0.32916666666666666 0.3046875 0.09166666666666666',\n",
       "   '0 0.45546875 0.484375 0.2984375 0.09791666666666667',\n",
       "   '0 0.63515625 0.6489583333333333 0.2015625 0.10625',\n",
       "   '0 0.340625 0.653125 0.315625 0.11041666666666666',\n",
       "   '0 0.7734375 0.32083333333333336 0.3625 0.1']),\n",
       " ('C:\\\\Users\\\\Admin\\\\AIO\\\\OCR_STR(Yolov8+CNN)\\\\icdar2003\\\\SceneTrialTrain\\\\lfsosa_12.08.2002/IMG_2655.JPG',\n",
       "  ['0 0.49375 0.596875 0.909375 0.26875']),\n",
       " ('C:\\\\Users\\\\Admin\\\\AIO\\\\OCR_STR(Yolov8+CNN)\\\\icdar2003\\\\SceneTrialTrain\\\\lfsosa_12.08.2002/IMG_2657.JPG',\n",
       "  []),\n",
       " ('C:\\\\Users\\\\Admin\\\\AIO\\\\OCR_STR(Yolov8+CNN)\\\\icdar2003\\\\SceneTrialTrain\\\\lfsosa_12.08.2002/IMG_2658.JPG',\n",
       "  ['0 0.5078125 0.5354166666666667 0.928125 0.2833333333333333']),\n",
       " ('C:\\\\Users\\\\Admin\\\\AIO\\\\OCR_STR(Yolov8+CNN)\\\\icdar2003\\\\SceneTrialTrain\\\\lfsosa_12.08.2002/IMG_2659.JPG',\n",
       "  ['0 0.72109375 0.40520833333333334 0.4109375 0.09375',\n",
       "   '0 0.65859375 0.5260416666666666 0.4078125 0.08125',\n",
       "   '0 0.4390625 0.40520833333333334 0.109375 0.08958333333333333',\n",
       "   '0 0.8609375 0.653125 0.153125 0.10208333333333333',\n",
       "   '0 0.5671875 0.6541666666666667 0.371875 0.1']),\n",
       " ('C:\\\\Users\\\\Admin\\\\AIO\\\\OCR_STR(Yolov8+CNN)\\\\icdar2003\\\\SceneTrialTrain\\\\lfsosa_12.08.2002/IMG_2660.JPG',\n",
       "  ['0 0.49453125 0.840531561461794 0.9515625 0.25249169435215946']),\n",
       " ('C:\\\\Users\\\\Admin\\\\AIO\\\\OCR_STR(Yolov8+CNN)\\\\icdar2003\\\\SceneTrialTrain\\\\lfsosa_12.08.2002/IMG_2661.JPG',\n",
       "  ['0 0.5171875 0.7208333333333333 0.90625 0.44166666666666665',\n",
       "   '0 0.60078125 0.34791666666666665 0.5078125 0.35833333333333334',\n",
       "   '0 0.79921875 0.9833333333333333 0.1484375 0.029166666666666667',\n",
       "   '0 0.3953125 0.9770833333333333 0.265625 0.0375',\n",
       "   '0 0.62578125 0.9822916666666667 0.1578125 0.03125']),\n",
       " ('C:\\\\Users\\\\Admin\\\\AIO\\\\OCR_STR(Yolov8+CNN)\\\\icdar2003\\\\SceneTrialTrain\\\\lfsosa_12.08.2002/IMG_2662.JPG',\n",
       "  ['0 0.5015625 0.7860215053763441 0.553125 0.34623655913978496',\n",
       "   '0 0.521875 0.35376344086021505 0.6625 0.42795698924731185']),\n",
       " ('C:\\\\Users\\\\Admin\\\\AIO\\\\OCR_STR(Yolov8+CNN)\\\\icdar2003\\\\SceneTrialTrain\\\\lfsosa_12.08.2002/IMG_2663.JPG',\n",
       "  ['0 0.45859375 0.4791666666666667 0.7359375 0.3']),\n",
       " ('C:\\\\Users\\\\Admin\\\\AIO\\\\OCR_STR(Yolov8+CNN)\\\\icdar2003\\\\SceneTrialTrain\\\\lfsosa_12.08.2002/IMG_2664.JPG',\n",
       "  ['0 0.4578125 0.6791666666666667 0.525 0.31666666666666665']),\n",
       " ('C:\\\\Users\\\\Admin\\\\AIO\\\\OCR_STR(Yolov8+CNN)\\\\icdar2003\\\\SceneTrialTrain\\\\lfsosa_12.08.2002/IMG_2666.JPG',\n",
       "  ['0 0.51171875 0.27708333333333335 0.7640625 0.19166666666666668']),\n",
       " ('C:\\\\Users\\\\Admin\\\\AIO\\\\OCR_STR(Yolov8+CNN)\\\\icdar2003\\\\SceneTrialTrain\\\\lfsosa_12.08.2002/IMG_2667.JPG',\n",
       "  ['0 0.53671875 0.5364583333333334 0.7609375 0.46458333333333335']),\n",
       " ('C:\\\\Users\\\\Admin\\\\AIO\\\\OCR_STR(Yolov8+CNN)\\\\icdar2003\\\\SceneTrialTrain\\\\lfsosa_12.08.2002/IMG_2669.JPG',\n",
       "  ['0 0.490625 0.50625 0.94375 0.19166666666666668']),\n",
       " ('C:\\\\Users\\\\Admin\\\\AIO\\\\OCR_STR(Yolov8+CNN)\\\\icdar2003\\\\SceneTrialTrain\\\\lfsosa_12.08.2002/IMG_2670.JPG',\n",
       "  ['0 0.53515625 0.41875 0.5609375 0.15833333333333333']),\n",
       " ('C:\\\\Users\\\\Admin\\\\AIO\\\\OCR_STR(Yolov8+CNN)\\\\icdar2003\\\\SceneTrialTrain\\\\lfsosa_12.08.2002/IMG_2671.JPG',\n",
       "  ['0 0.5953125 0.41875 0.30625 0.09583333333333334',\n",
       "   '0 0.36015625 0.565625 0.5203125 0.11041666666666666',\n",
       "   '0 0.25625 0.41354166666666664 0.3 0.10625',\n",
       "   '0 0.79140625 0.56875 0.2734375 0.1']),\n",
       " ('C:\\\\Users\\\\Admin\\\\AIO\\\\OCR_STR(Yolov8+CNN)\\\\icdar2003\\\\SceneTrialTrain\\\\lfsosa_12.08.2002/IMG_2672.JPG',\n",
       "  ['0 0.4984375 0.44375 0.8875 0.2125']),\n",
       " ('C:\\\\Users\\\\Admin\\\\AIO\\\\OCR_STR(Yolov8+CNN)\\\\icdar2003\\\\SceneTrialTrain\\\\lfsosa_12.08.2002/IMG_2673.JPG',\n",
       "  ['0 0.51171875 0.39375 0.9046875 0.2833333333333333',\n",
       "   '0 0.415625 0.6760416666666667 0.540625 0.28958333333333336']),\n",
       " ('C:\\\\Users\\\\Admin\\\\AIO\\\\OCR_STR(Yolov8+CNN)\\\\icdar2003\\\\SceneTrialTrain\\\\lfsosa_12.08.2002/IMG_2674.JPG',\n",
       "  ['0 0.4992012779552716 0.5223463687150838 0.9089456869009584 0.7988826815642458',\n",
       "   '0 0.6269968051118211 0.8379888268156425 0.16773162939297126 0.11173184357541899',\n",
       "   '0 0.8338658146964856 0.8268156424581006 0.22044728434504793 0.11173184357541899']),\n",
       " ('C:\\\\Users\\\\Admin\\\\AIO\\\\OCR_STR(Yolov8+CNN)\\\\icdar2003\\\\SceneTrialTrain\\\\lfsosa_12.08.2002/IMG_2675.JPG',\n",
       "  ['0 0.47294776119402987 0.779467680608365 0.8115671641791045 0.22813688212927757',\n",
       "   '0 0.5345149253731343 0.629277566539924 0.6660447761194029 0.09505703422053231']),\n",
       " ('C:\\\\Users\\\\Admin\\\\AIO\\\\OCR_STR(Yolov8+CNN)\\\\icdar2003\\\\SceneTrialTrain\\\\lfsosa_12.08.2002/IMG_2676.JPG',\n",
       "  ['0 0.509825327510917 0.4956896551724138 0.7620087336244541 0.15804597701149425']),\n",
       " ('C:\\\\Users\\\\Admin\\\\AIO\\\\OCR_STR(Yolov8+CNN)\\\\icdar2003\\\\SceneTrialTrain\\\\lfsosa_12.08.2002/IMG_2678.JPG',\n",
       "  ['0 0.48984375 0.18263473053892215 0.6703125 0.25748502994011974',\n",
       "   '0 0.4875 0.6287425149700598 0.796875 0.6586826347305389']),\n",
       " ('C:\\\\Users\\\\Admin\\\\AIO\\\\OCR_STR(Yolov8+CNN)\\\\icdar2003\\\\SceneTrialTrain\\\\lfsosa_12.08.2002/IMG_2679.JPG',\n",
       "  ['0 0.3171875 0.8645833333333334 0.153125 0.09583333333333334',\n",
       "   '0 0.57265625 0.8666666666666667 0.2859375 0.09583333333333334',\n",
       "   '0 0.46796875 0.2520833333333333 0.7609375 0.10416666666666667',\n",
       "   '0 0.4859375 0.571875 0.928125 0.3770833333333333']),\n",
       " ('C:\\\\Users\\\\Admin\\\\AIO\\\\OCR_STR(Yolov8+CNN)\\\\icdar2003\\\\SceneTrialTrain\\\\lfsosa_12.08.2002/IMG_2682.JPG',\n",
       "  ['0 0.32421875 0.48605150214592274 0.4953125 0.2553648068669528',\n",
       "   '0 0.3515625 0.27145922746781115 0.528125 0.148068669527897',\n",
       "   '0 0.68359375 0.7639484978540773 0.5640625 0.15879828326180256',\n",
       "   '0 0.22109375 0.7660944206008584 0.2859375 0.1630901287553648']),\n",
       " ('C:\\\\Users\\\\Admin\\\\AIO\\\\OCR_STR(Yolov8+CNN)\\\\icdar2003\\\\SceneTrialTrain\\\\lfsosa_12.08.2002/IMG_2683.JPG',\n",
       "  []),\n",
       " ('C:\\\\Users\\\\Admin\\\\AIO\\\\OCR_STR(Yolov8+CNN)\\\\icdar2003\\\\SceneTrialTrain\\\\ryoungt_03.09.2002/036._.jpg',\n",
       "  ['0 0.58125 0.86484375 0.3416666666666667 0.0828125']),\n",
       " ('C:\\\\Users\\\\Admin\\\\AIO\\\\OCR_STR(Yolov8+CNN)\\\\icdar2003\\\\SceneTrialTrain\\\\ryoungt_03.09.2002/ball.jpg',\n",
       "  []),\n",
       " ('C:\\\\Users\\\\Admin\\\\AIO\\\\OCR_STR(Yolov8+CNN)\\\\icdar2003\\\\SceneTrialTrain\\\\ryoungt_03.09.2002/benone.jpg',\n",
       "  []),\n",
       " ('C:\\\\Users\\\\Admin\\\\AIO\\\\OCR_STR(Yolov8+CNN)\\\\icdar2003\\\\SceneTrialTrain\\\\ryoungt_03.09.2002/from_joanne.jpg',\n",
       "  ['0 0.1489247311827957 0.2543424317617866 0.15591397849462366 0.15632754342431762',\n",
       "   '0 0.11612903225806452 0.4665012406947891 0.12473118279569892 0.12903225806451613',\n",
       "   '0 0.23225806451612904 0.47642679900744417 0.053763440860215055 0.09925558312655088',\n",
       "   '0 0.3204301075268817 0.47890818858560796 0.06666666666666667 0.10421836228287841',\n",
       "   '0 0.3881720430107527 0.48635235732009924 0.030107526881720432 0.07444168734491315',\n",
       "   '0 0.4876344086021505 0.46898263027295284 0.11720430107526882 0.09925558312655088',\n",
       "   '0 0.6612903225806451 0.47518610421836227 0.11612903225806452 0.1513647642679901',\n",
       "   '0 0.7661290322580645 0.46029776674937967 0.03118279569892473 0.08684863523573201',\n",
       "   '0 0.14677419354838708 0.6116625310173698 0.16236559139784945 0.10173697270471464',\n",
       "   '0 0.30913978494623656 0.6129032258064516 0.08924731182795699 0.08933002481389578',\n",
       "   '0 0.3978494623655914 0.607940446650124 0.06236559139784946 0.08436724565756824',\n",
       "   '0 0.4908602150537634 0.6240694789081885 0.0935483870967742 0.1513647642679901',\n",
       "   '0 0.571505376344086 0.6029776674937966 0.02903225806451613 0.05955334987593052',\n",
       "   '0 0.6967741935483871 0.5818858560794045 0.15268817204301074 0.10173697270471464',\n",
       "   '0 0.8139784946236559 0.5794044665012407 0.034408602150537634 0.09181141439205956',\n",
       "   '0 0.1053763440860215 0.7295285359801489 0.07526881720430108 0.09925558312655088',\n",
       "   '0 0.22311827956989247 0.7307692307692307 0.08494623655913978 0.11166253101736973',\n",
       "   '0 0.3032258064516129 0.7357320099255583 0.023655913978494623 0.07196029776674938',\n",
       "   '0 0.4053763440860215 0.7332506203473945 0.12043010752688173 0.11166253101736973',\n",
       "   '0 0.539247311827957 0.7270471464019851 0.03333333333333333 0.06947890818858561',\n",
       "   '0 0.6150537634408603 0.7431761786600496 0.0967741935483871 0.13647642679900746',\n",
       "   '0 0.7290322580645161 0.7121588089330024 0.06881720430107527 0.08933002481389578',\n",
       "   '0 0.18010752688172044 0.8771712158808933 0.21397849462365592 0.11662531017369727',\n",
       "   '0 0.39301075268817204 0.8734491315136477 0.14516129032258066 0.13895781637717122',\n",
       "   '0 0.539247311827957 0.8411910669975186 0.07419354838709677 0.10421836228287841',\n",
       "   '0 0.656989247311828 0.8461538461538461 0.12903225806451613 0.09429280397022333',\n",
       "   '0 0.7693548387096775 0.8411910669975186 0.05698924731182796 0.1141439205955335']),\n",
       " ('C:\\\\Users\\\\Admin\\\\AIO\\\\OCR_STR(Yolov8+CNN)\\\\icdar2003\\\\SceneTrialTrain\\\\ryoungt_03.09.2002/goose.jpg',\n",
       "  []),\n",
       " ('C:\\\\Users\\\\Admin\\\\AIO\\\\OCR_STR(Yolov8+CNN)\\\\icdar2003\\\\SceneTrialTrain\\\\ryoungt_03.09.2002/mach.jpg',\n",
       "  []),\n",
       " ('C:\\\\Users\\\\Admin\\\\AIO\\\\OCR_STR(Yolov8+CNN)\\\\icdar2003\\\\SceneTrialTrain\\\\ryoungt_03.09.2002/PICT0004.JPG',\n",
       "  ['0 0.5427083333333333 0.146875 0.5604166666666667 0.06875',\n",
       "   '0 0.5541666666666667 0.95078125 0.6583333333333333 0.0609375']),\n",
       " ('C:\\\\Users\\\\Admin\\\\AIO\\\\OCR_STR(Yolov8+CNN)\\\\icdar2003\\\\SceneTrialTrain\\\\ryoungt_03.09.2002/PICT0005.JPG',\n",
       "  ['0 0.090625 0.9109375 0.13125 0.040625',\n",
       "   '0 0.2520833333333333 0.90703125 0.13333333333333333 0.0421875',\n",
       "   '0 0.17083333333333334 0.95703125 0.175 0.0453125']),\n",
       " ('C:\\\\Users\\\\Admin\\\\AIO\\\\OCR_STR(Yolov8+CNN)\\\\icdar2003\\\\SceneTrialTrain\\\\ryoungt_03.09.2002/PICT0010.JPG',\n",
       "  ['0 0.477734375 0.265625 0.34765625 0.13958333333333334',\n",
       "   '0 0.3828125 0.3723958333333333 0.15625 0.11145833333333334',\n",
       "   '0 0.690234375 0.41041666666666665 0.14921875 0.11666666666666667',\n",
       "   '0 0.57578125 0.5807291666666666 0.484375 0.13854166666666667',\n",
       "   '0 0.42109375 0.6739583333333333 0.1734375 0.08958333333333333']),\n",
       " ('C:\\\\Users\\\\Admin\\\\AIO\\\\OCR_STR(Yolov8+CNN)\\\\icdar2003\\\\SceneTrialTrain\\\\ryoungt_03.09.2002/PICT0011.JPG',\n",
       "  ['0 0.6171875 0.478125 0.2421875 0.07083333333333333']),\n",
       " ('C:\\\\Users\\\\Admin\\\\AIO\\\\OCR_STR(Yolov8+CNN)\\\\icdar2003\\\\SceneTrialTrain\\\\ryoungt_03.09.2002/PICT0015.JPG',\n",
       "  ['0 0.237890625 0.4578125 0.18984375 0.16979166666666667',\n",
       "   '0 0.6421875 0.42083333333333334 0.553125 0.36041666666666666',\n",
       "   '0 0.226171875 0.6421875 0.21328125 0.078125',\n",
       "   '0 0.645703125 0.6458333333333334 0.49765625 0.10416666666666667']),\n",
       " ('C:\\\\Users\\\\Admin\\\\AIO\\\\OCR_STR(Yolov8+CNN)\\\\icdar2003\\\\SceneTrialTrain\\\\ryoungt_03.09.2002/PICT0019.JPG',\n",
       "  ['0 0.5427083333333333 0.91484375 0.07291666666666667 0.0203125',\n",
       "   '0 0.5427083333333333 0.94140625 0.23958333333333334 0.0390625',\n",
       "   '0 0.5489583333333333 0.97578125 0.18125 0.0359375']),\n",
       " ('C:\\\\Users\\\\Admin\\\\AIO\\\\OCR_STR(Yolov8+CNN)\\\\icdar2003\\\\SceneTrialTrain\\\\ryoungt_03.09.2002/Pict0020.jpg',\n",
       "  ['0 0.70625 0.047265625 0.5333333333333333 0.11953125',\n",
       "   '0 0.6682291666666667 0.373828125 0.509375 0.08046875',\n",
       "   '0 0.6098958333333333 0.69453125 0.41770833333333335 0.0875',\n",
       "   '0 0.609375 0.948828125 0.4375 0.09609375']),\n",
       " ('C:\\\\Users\\\\Admin\\\\AIO\\\\OCR_STR(Yolov8+CNN)\\\\icdar2003\\\\SceneTrialTrain\\\\ryoungt_03.09.2002/PICT0022.JPG',\n",
       "  ['0 0.49270833333333336 0.846875 0.23958333333333334 0.028125',\n",
       "   '0 0.578125 0.88046875 0.08541666666666667 0.0265625',\n",
       "   '0 0.40729166666666666 0.88359375 0.08541666666666667 0.0265625']),\n",
       " ('C:\\\\Users\\\\Admin\\\\AIO\\\\OCR_STR(Yolov8+CNN)\\\\icdar2003\\\\SceneTrialTrain\\\\ryoungt_03.09.2002/PICT0023.JPG',\n",
       "  ['0 0.55859375 0.334375 0.5890625 0.19375',\n",
       "   '0 0.5578125 0.5635416666666667 0.271875 0.17291666666666666',\n",
       "   '0 0.55546875 0.7802083333333333 0.8140625 0.18541666666666667']),\n",
       " ('C:\\\\Users\\\\Admin\\\\AIO\\\\OCR_STR(Yolov8+CNN)\\\\icdar2003\\\\SceneTrialTrain\\\\ryoungt_03.09.2002/PICT0025.JPG',\n",
       "  ['0 0.34609375 0.4239583333333333 0.4078125 0.10625',\n",
       "   '0 0.7296875 0.415625 0.25625 0.10625',\n",
       "   '0 0.5046875 0.5520833333333334 0.178125 0.08333333333333333',\n",
       "   '0 0.259375 0.6875 0.334375 0.1',\n",
       "   '0 0.69453125 0.6854166666666667 0.4390625 0.09583333333333334']),\n",
       " ('C:\\\\Users\\\\Admin\\\\AIO\\\\OCR_STR(Yolov8+CNN)\\\\icdar2003\\\\SceneTrialTrain\\\\ryoungt_03.09.2002/PICT0026.JPG',\n",
       "  ['0 0.2109375 0.24166666666666667 0.4 0.1',\n",
       "   '0 0.70703125 0.2552083333333333 0.5203125 0.11875',\n",
       "   '0 0.48828125 0.47291666666666665 0.6609375 0.2125',\n",
       "   '0 0.47578125 0.6958333333333333 0.8390625 0.16666666666666666',\n",
       "   '0 0.1125 0.40729166666666666 0.065625 0.08541666666666667',\n",
       "   '0 0.109375 0.4635416666666667 0.040625 0.04791666666666667',\n",
       "   '0 0.109375 0.5291666666666667 0.096875 0.07083333333333333']),\n",
       " ('C:\\\\Users\\\\Admin\\\\AIO\\\\OCR_STR(Yolov8+CNN)\\\\icdar2003\\\\SceneTrialTrain\\\\ryoungt_03.09.2002/PICT0029.JPG',\n",
       "  ['0 0.39765625 0.45625 0.4390625 0.125',\n",
       "   '0 0.71640625 0.44479166666666664 0.1484375 0.11041666666666666',\n",
       "   '0 0.25859375 0.6197916666666666 0.1984375 0.11041666666666666',\n",
       "   '0 0.60859375 0.6135416666666667 0.4296875 0.11875']),\n",
       " ('C:\\\\Users\\\\Admin\\\\AIO\\\\OCR_STR(Yolov8+CNN)\\\\icdar2003\\\\SceneTrialTrain\\\\ryoungt_03.09.2002/PICT0030.JPG',\n",
       "  ['0 0.3328125 0.47604166666666664 0.290625 0.11041666666666666',\n",
       "   '0 0.575 0.47604166666666664 0.165625 0.11041666666666666',\n",
       "   '0 0.76484375 0.465625 0.1765625 0.11458333333333333',\n",
       "   '0 0.15625 0.24166666666666667 0.040625 0.10416666666666667']),\n",
       " ('C:\\\\Users\\\\Admin\\\\AIO\\\\OCR_STR(Yolov8+CNN)\\\\icdar2003\\\\SceneTrialTrain\\\\ryoungt_03.09.2002/PICT0031.JPG',\n",
       "  ['0 0.7421875 0.7416666666666667 0.0625 0.041666666666666664',\n",
       "   '0 0.83125 0.7479166666666667 0.103125 0.0375']),\n",
       " ('C:\\\\Users\\\\Admin\\\\AIO\\\\OCR_STR(Yolov8+CNN)\\\\icdar2003\\\\SceneTrialTrain\\\\ryoungt_03.09.2002/PICT0042.JPG',\n",
       "  ['0 0.2671875 0.44166666666666665 0.0875 0.0625',\n",
       "   '0 0.43125 0.43125 0.190625 0.07083333333333333',\n",
       "   '0 0.646875 0.415625 0.175 0.06458333333333334']),\n",
       " ('C:\\\\Users\\\\Admin\\\\AIO\\\\OCR_STR(Yolov8+CNN)\\\\icdar2003\\\\SceneTrialTrain\\\\ryoungt_03.09.2002/PICT0043.JPG',\n",
       "  ['0 0.71953125 0.6385416666666667 0.1265625 0.04375',\n",
       "   '0 0.88515625 0.6291666666666667 0.1734375 0.04583333333333333']),\n",
       " ('C:\\\\Users\\\\Admin\\\\AIO\\\\OCR_STR(Yolov8+CNN)\\\\icdar2003\\\\SceneTrialTrain\\\\ryoungt_03.09.2002/PICT0048.JPG',\n",
       "  ['0 0.14140625 0.8375 0.0421875 0.0375',\n",
       "   '0 0.23671875 0.8416666666666667 0.1296875 0.05',\n",
       "   '0 0.13671875 0.8822916666666667 0.0453125 0.03958333333333333',\n",
       "   '0 0.20546875 0.8822916666666667 0.0703125 0.03958333333333333',\n",
       "   '0 0.2765625 0.8854166666666666 0.059375 0.05']),\n",
       " ('C:\\\\Users\\\\Admin\\\\AIO\\\\OCR_STR(Yolov8+CNN)\\\\icdar2003\\\\SceneTrialTrain\\\\ryoungt_03.09.2002/PICT0049.JPG',\n",
       "  ['0 0.33229166666666665 0.871875 0.5395833333333333 0.10625']),\n",
       " ('C:\\\\Users\\\\Admin\\\\AIO\\\\OCR_STR(Yolov8+CNN)\\\\icdar2003\\\\SceneTrialTrain\\\\ryoungt_03.09.2002/PICT0052.JPG',\n",
       "  ['0 0.35 0.26145833333333335 0.353125 0.07708333333333334',\n",
       "   '0 0.6828125 0.25625 0.278125 0.06666666666666667',\n",
       "   '0 0.69609375 0.6145833333333334 0.4046875 0.0875']),\n",
       " ('C:\\\\Users\\\\Admin\\\\AIO\\\\OCR_STR(Yolov8+CNN)\\\\icdar2003\\\\SceneTrialTrain\\\\ryoungt_05.08.2002/052.Kungstradgarden.jpg',\n",
       "  ['0 0.190234375 0.6604166666666667 0.03515625 0.03333333333333333',\n",
       "   '0 0.95625 0.5848958333333333 0.0875 0.04895833333333333',\n",
       "   '0 0.191796875 0.6947916666666667 0.03046875 0.020833333333333332',\n",
       "   '0 0.65 0.21510416666666668 0.540625 0.109375',\n",
       "   '0 0.65234375 0.4947916666666667 0.04375 0.010416666666666666']),\n",
       " ('C:\\\\Users\\\\Admin\\\\AIO\\\\OCR_STR(Yolov8+CNN)\\\\icdar2003\\\\SceneTrialTrain\\\\ryoungt_05.08.2002/abPICT0005.JPG',\n",
       "  ['0 0.249609375 0.22135416666666666 0.08515625 0.08854166666666667',\n",
       "   '0 0.463671875 0.4390625 0.87265625 0.30520833333333336',\n",
       "   '0 0.44453125 0.6583333333333333 0.3671875 0.10208333333333333']),\n",
       " ('C:\\\\Users\\\\Admin\\\\AIO\\\\OCR_STR(Yolov8+CNN)\\\\icdar2003\\\\SceneTrialTrain\\\\ryoungt_05.08.2002/aPICT0001.JPG',\n",
       "  ['0 0.716015625 0.6661458333333333 0.04453125 0.05520833333333333',\n",
       "   '0 0.772265625 0.665625 0.03203125 0.05625',\n",
       "   '0 0.74140625 0.8833333333333333 0.275 0.1']),\n",
       " ('C:\\\\Users\\\\Admin\\\\AIO\\\\OCR_STR(Yolov8+CNN)\\\\icdar2003\\\\SceneTrialTrain\\\\ryoungt_05.08.2002/aPICT0002.JPG',\n",
       "  ['0 0.4984375 0.6848958333333334 0.2140625 0.053125',\n",
       "   '0 0.5015625 0.6135416666666667 0.3125 0.11041666666666666']),\n",
       " ('C:\\\\Users\\\\Admin\\\\AIO\\\\OCR_STR(Yolov8+CNN)\\\\icdar2003\\\\SceneTrialTrain\\\\ryoungt_05.08.2002/aPICT0004.JPG',\n",
       "  ['0 0.9409888357256778 0.7 0.06060606060606061 0.08079470198675497',\n",
       "   '0 0.2679425837320574 0.8933774834437086 0.37320574162679426 0.2',\n",
       "   '0 0.7440191387559809 0.8814569536423841 0.4098883572567783 0.20794701986754968',\n",
       "   '0 0.49362041467304624 0.11986754966887417 0.9043062200956937 0.23178807947019867']),\n",
       " ('C:\\\\Users\\\\Admin\\\\AIO\\\\OCR_STR(Yolov8+CNN)\\\\icdar2003\\\\SceneTrialTrain\\\\ryoungt_05.08.2002/aPICT0006.JPG',\n",
       "  ['0 0.417578125 0.6776041666666667 0.20703125 0.057291666666666664',\n",
       "   '0 0.515625 0.525 0.2109375 0.11666666666666667',\n",
       "   '0 0.75078125 0.5026041666666666 0.2125 0.13645833333333332',\n",
       "   '0 0.233203125 0.5057291666666667 0.27109375 0.159375',\n",
       "   '0 0.669921875 0.659375 0.26953125 0.08125',\n",
       "   '0 0.244140625 0.29322916666666665 0.26015625 0.109375',\n",
       "   '0 0.846875 0.6473958333333333 0.06875 0.065625']),\n",
       " ('C:\\\\Users\\\\Admin\\\\AIO\\\\OCR_STR(Yolov8+CNN)\\\\icdar2003\\\\SceneTrialTrain\\\\ryoungt_05.08.2002/aPICT0007.JPG',\n",
       "  ['0 0.340625 0.903125 0.178125 0.12708333333333333',\n",
       "   '0 0.434765625 0.49947916666666664 0.20234375 0.057291666666666664',\n",
       "   '0 0.590234375 0.7911458333333333 0.05234375 0.08020833333333334',\n",
       "   '0 0.426953125 0.6177083333333333 0.29921875 0.09166666666666666',\n",
       "   '0 0.39609375 0.796875 0.296875 0.12291666666666666']),\n",
       " ('C:\\\\Users\\\\Admin\\\\AIO\\\\OCR_STR(Yolov8+CNN)\\\\icdar2003\\\\SceneTrialTrain\\\\ryoungt_05.08.2002/aPICT0010.JPG',\n",
       "  ['0 0.601171875 0.734375 0.27421875 0.0875',\n",
       "   '0 0.35078125 0.8625 0.1609375 0.075',\n",
       "   '0 0.337109375 0.7317708333333334 0.18984375 0.090625',\n",
       "   '0 0.58828125 0.8760416666666667 0.240625 0.09166666666666666']),\n",
       " ('C:\\\\Users\\\\Admin\\\\AIO\\\\OCR_STR(Yolov8+CNN)\\\\icdar2003\\\\SceneTrialTrain\\\\ryoungt_05.08.2002/aPICT0011.JPG',\n",
       "  ['0 0.509375 0.5911458333333334 0.09375 0.042708333333333334',\n",
       "   '0 0.642578125 0.5947916666666667 0.12578125 0.04583333333333333',\n",
       "   '0 0.39140625 0.5895833333333333 0.09375 0.04583333333333333']),\n",
       " ('C:\\\\Users\\\\Admin\\\\AIO\\\\OCR_STR(Yolov8+CNN)\\\\icdar2003\\\\SceneTrialTrain\\\\ryoungt_05.08.2002/aPICT0013.JPG',\n",
       "  ['0 0.2883248730964467 0.4384525205158265 0.4121827411167513 0.08675263774912075',\n",
       "   '0 0.3756345177664975 0.9208675263774913 0.7390862944162436 0.1559202813599062',\n",
       "   '0 0.8609137055837564 0.4144196951934349 0.26192893401015227 0.0738569753810082',\n",
       "   '0 0.6111675126903553 0.4249706916764361 0.1218274111675127 0.06916764361078546']),\n",
       " ('C:\\\\Users\\\\Admin\\\\AIO\\\\OCR_STR(Yolov8+CNN)\\\\icdar2003\\\\SceneTrialTrain\\\\ryoungt_05.08.2002/aPICT0014.JPG',\n",
       "  ['0 0.50625 0.478125 0.4953125 0.21666666666666667']),\n",
       " ('C:\\\\Users\\\\Admin\\\\AIO\\\\OCR_STR(Yolov8+CNN)\\\\icdar2003\\\\SceneTrialTrain\\\\ryoungt_05.08.2002/aPICT0017.JPG',\n",
       "  ['0 0.098046875 0.14791666666666667 0.11640625 0.07291666666666667',\n",
       "   '0 0.501171875 0.28802083333333334 0.26640625 0.07604166666666666',\n",
       "   '0 0.82734375 0.14947916666666666 0.2984375 0.08020833333333334',\n",
       "   '0 0.0875 0.28489583333333335 0.0859375 0.071875',\n",
       "   '0 0.25546875 0.14427083333333332 0.16875 0.07604166666666666',\n",
       "   '0 0.246875 0.28489583333333335 0.1984375 0.06979166666666667']),\n",
       " ('C:\\\\Users\\\\Admin\\\\AIO\\\\OCR_STR(Yolov8+CNN)\\\\icdar2003\\\\SceneTrialTrain\\\\ryoungt_05.08.2002/aPICT0018.JPG',\n",
       "  ['0 0.7895833333333333 0.0390625 0.058333333333333334 0.03125',\n",
       "   '0 0.5041666666666667 0.180859375 0.47708333333333336 0.06328125',\n",
       "   '0 0.49114583333333334 0.795703125 0.9614583333333333 0.25546875',\n",
       "   '0 0.5020833333333333 0.47734375 0.9166666666666666 0.2703125',\n",
       "   '0 0.5041666666666667 0.253125 0.3333333333333333 0.0515625']),\n",
       " ('C:\\\\Users\\\\Admin\\\\AIO\\\\OCR_STR(Yolov8+CNN)\\\\icdar2003\\\\SceneTrialTrain\\\\ryoungt_05.08.2002/aPICT0020.JPG',\n",
       "  ['0 0.8162692847124825 0.8125854993160054 0.13183730715287517 0.09028727770177838',\n",
       "   '0 0.5007012622720898 0.9432284541723667 0.8583450210378681 0.10259917920656635']),\n",
       " ('C:\\\\Users\\\\Admin\\\\AIO\\\\OCR_STR(Yolov8+CNN)\\\\icdar2003\\\\SceneTrialTrain\\\\ryoungt_05.08.2002/aPICT0021.JPG',\n",
       "  ['0 0.589585666293393 0.6356492969396195 0.8208286674132139 0.08354011579818031',\n",
       "   '0 0.5929451287793953 0.8684863523573201 0.17581187010078386 0.06617038875103391',\n",
       "   '0 0.5884658454647257 0.7204301075268817 0.3370660694288914 0.07278742762613731',\n",
       "   '0 0.5929451287793953 0.9330024813895782 0.3796192609182531 0.06286186931348221',\n",
       "   '0 0.5907054871220605 0.7969396195202647 0.46472564389697646 0.06699751861042183']),\n",
       " ('C:\\\\Users\\\\Admin\\\\AIO\\\\OCR_STR(Yolov8+CNN)\\\\icdar2003\\\\SceneTrialTrain\\\\ryoungt_05.08.2002/aPICT0023.JPG',\n",
       "  ['0 0.336328125 0.3645833333333333 0.20078125 0.06458333333333334',\n",
       "   '0 0.29296875 0.6375 0.2828125 0.08125',\n",
       "   '0 0.38671875 0.55625 0.0515625 0.058333333333333334',\n",
       "   '0 0.256640625 0.5442708333333334 0.17578125 0.06770833333333333',\n",
       "   '0 0.184375 0.3578125 0.08125 0.06354166666666666',\n",
       "   '0 0.384765625 0.46041666666666664 0.12109375 0.0625',\n",
       "   '0 0.223046875 0.45260416666666664 0.16953125 0.065625']),\n",
       " ('C:\\\\Users\\\\Admin\\\\AIO\\\\OCR_STR(Yolov8+CNN)\\\\icdar2003\\\\SceneTrialTrain\\\\ryoungt_05.08.2002/aPICT0024.JPG',\n",
       "  ['0 0.523046875 0.6708333333333333 0.28515625 0.10625',\n",
       "   '0 0.271875 0.49166666666666664 0.440625 0.10833333333333334',\n",
       "   '0 0.77265625 0.503125 0.4140625 0.10416666666666667']),\n",
       " ('C:\\\\Users\\\\Admin\\\\AIO\\\\OCR_STR(Yolov8+CNN)\\\\icdar2003\\\\SceneTrialTrain\\\\ryoungt_05.08.2002/aPICT0025.JPG',\n",
       "  ['0 0.7739583333333333 0.393359375 0.035416666666666666 0.01796875',\n",
       "   '0 0.7635416666666667 0.3671875 0.03958333333333333 0.021875',\n",
       "   '0 0.5526041666666667 0.265625 0.017708333333333333 0.01875',\n",
       "   '0 0.7697916666666667 0.261328125 0.01875 0.02265625',\n",
       "   '0 0.5989583333333334 0.36953125 0.10208333333333333 0.0203125',\n",
       "   '0 0.8322916666666667 0.258984375 0.027083333333333334 0.02265625',\n",
       "   '0 0.815625 0.3921875 0.041666666666666664 0.021875',\n",
       "   '0 0.7630208333333334 0.232421875 0.06979166666666667 0.01796875',\n",
       "   '0 0.5770833333333333 0.291015625 0.06041666666666667 0.02109375',\n",
       "   '0 0.7177083333333333 0.39375 0.06875 0.01875',\n",
       "   '0 0.6401041666666667 0.28984375 0.053125 0.01875',\n",
       "   '0 0.6838541666666667 0.234375 0.07395833333333333 0.0171875',\n",
       "   '0 0.6796875 0.314453125 0.065625 0.01796875',\n",
       "   '0 0.7052083333333333 0.341796875 0.05416666666666667 0.02109375',\n",
       "   '0 0.6864583333333333 0.2875 0.035416666666666666 0.015625',\n",
       "   '0 0.78125 0.340625 0.03333333333333333 0.01875',\n",
       "   '0 0.56875 0.3421875 0.03125 0.01875',\n",
       "   '0 0.8 0.260546875 0.03333333333333333 0.01640625',\n",
       "   '0 0.7197916666666667 0.262890625 0.07291666666666667 0.01953125',\n",
       "   '0 0.8020833333333334 0.367578125 0.027083333333333334 0.01953125',\n",
       "   '0 0.6619791666666667 0.3421875 0.030208333333333334 0.0203125',\n",
       "   '0 0.58125 0.395703125 0.06666666666666667 0.01796875',\n",
       "   '0 0.5833333333333334 0.265625 0.035416666666666666 0.015625',\n",
       "   '0 0.7333333333333333 0.2890625 0.04791666666666667 0.01875',\n",
       "   '0 0.6171875 0.342578125 0.04895833333333333 0.02265625',\n",
       "   '0 0.721875 0.3671875 0.0375 0.0171875',\n",
       "   '0 0.8484375 0.365625 0.053125 0.015625',\n",
       "   '0 0.8395833333333333 0.2875 0.022916666666666665 0.01875',\n",
       "   '0 0.75 0.341796875 0.022916666666666665 0.01796875',\n",
       "   '0 0.6411458333333333 0.26171875 0.06770833333333333 0.015625',\n",
       "   '0 0.7916666666666666 0.286328125 0.058333333333333334 0.01953125',\n",
       "   '0 0.6760416666666667 0.36875 0.041666666666666664 0.01875']),\n",
       " ('C:\\\\Users\\\\Admin\\\\AIO\\\\OCR_STR(Yolov8+CNN)\\\\icdar2003\\\\SceneTrialTrain\\\\ryoungt_05.08.2002/aPICT0026.JPG',\n",
       "  ['0 0.778125 0.7260416666666667 0.0875 0.13333333333333333',\n",
       "   '0 0.778515625 0.34010416666666665 0.35390625 0.153125',\n",
       "   '0 0.425390625 0.7348958333333333 0.49453125 0.140625',\n",
       "   '0 0.28359375 0.3421875 0.4703125 0.15729166666666666',\n",
       "   '0 0.49296875 0.5447916666666667 0.203125 0.15208333333333332']),\n",
       " ('C:\\\\Users\\\\Admin\\\\AIO\\\\OCR_STR(Yolov8+CNN)\\\\icdar2003\\\\SceneTrialTrain\\\\ryoungt_05.08.2002/aPICT0027.JPG',\n",
       "  ['0 0.369921875 0.6776041666666667 0.45078125 0.13020833333333334',\n",
       "   '0 0.280859375 0.8713541666666667 0.16796875 0.13854166666666667',\n",
       "   '0 0.61484375 0.8703125 0.44375 0.13020833333333334',\n",
       "   '0 0.75703125 0.675 0.25625 0.125',\n",
       "   '0 0.520703125 0.47760416666666666 0.43515625 0.134375'])]"
      ]
     },
     "execution_count": 12,
     "metadata": {},
     "output_type": "execute_result"
    }
   ],
   "source": [
    "yolov8_data"
   ]
  },
  {
   "cell_type": "markdown",
   "id": "3d6facf5-6886-48b6-8f91-a1eebf958057",
   "metadata": {},
   "source": [
    "# 4. Train, val, test split"
   ]
  },
  {
   "cell_type": "code",
   "execution_count": 13,
   "id": "ebe9e827-a4b0-42aa-bdef-0350a96a173e",
   "metadata": {},
   "outputs": [],
   "source": [
    "seed = 0\n",
    "val_size = 0.2\n",
    "test_size = 0.125\n",
    "\n",
    "train_data, test_data = train_test_split(\n",
    "    yolov8_data,\n",
    "    test_size = val_size,\n",
    "    random_state = seed,\n",
    "    shuffle=True\n",
    ")\n",
    "\n",
    "test_data, val_data = train_test_split(\n",
    "    test_data,\n",
    "    test_size = test_size,\n",
    "    random_state = seed,\n",
    "    shuffle = True\n",
    ")"
   ]
  },
  {
   "cell_type": "code",
   "execution_count": 14,
   "id": "07d39383-0e37-40c6-a2ea-a788e4638c31",
   "metadata": {},
   "outputs": [
    {
     "name": "stdout",
     "output_type": "stream",
     "text": [
      "Train size: 200\n",
      "Val size: 7\n",
      "Test size: 43\n"
     ]
    }
   ],
   "source": [
    "print(f'Train size: {len(train_data)}')\n",
    "print(f'Val size: {len(val_data)}')\n",
    "print(f'Test size: {len(test_data)}')"
   ]
  },
  {
   "cell_type": "markdown",
   "id": "477d52dd-08f8-4235-9789-19d1184953a5",
   "metadata": {},
   "source": [
    "# 5. Save data"
   ]
  },
  {
   "cell_type": "code",
   "execution_count": 15,
   "id": "5c17652f-b7ed-41b7-b630-da1899ac087b",
   "metadata": {},
   "outputs": [],
   "source": [
    "def save_data(data, src_img_dir, save_dir):\n",
    "    \"\"\"\n",
    "    Xay dung thu muc chua du lieu theo format YOLO\n",
    "\n",
    "    Parameters:\n",
    "        data (list): Danh sach chua thong tin label anh;\n",
    "        src_img_dir (str): Path den thu muc du lieu goc;\n",
    "        save_dir (str): Path den thu muc du lieu moi.\n",
    "    \"\"\"\n",
    "    # Tao thu muc moi neu chua co\n",
    "    os.makedirs(save_dir, exist_ok=True)\n",
    "\n",
    "    os.makedirs(os.path.join(save_dir, 'images'), exist_ok=True)\n",
    "    os.makedirs(os.path.join(save_dir, 'labels'), exist_ok=True)\n",
    "\n",
    "    for image_path, yolov8_labels in data:\n",
    "        # Copy anh tu thu muc goc sang thu muc \"images\"\n",
    "        shutil.copy(\n",
    "            os.path.join(src_img_dir, image_path),\n",
    "            os.path.join(save_dir, \"images\")\n",
    "        )\n",
    "\n",
    "        # Ghi noi dung label vao file image_name.txt o thu muc \"labels\"\n",
    "        image_name = os.path.basename(image_path)\n",
    "        image_name = os.path.splitext(image_name)[0]\n",
    "\n",
    "        with open(os.path.join(save_dir, 'labels', f\"{image_name}.txt\"), 'w') as f:\n",
    "            for label in yolov8_labels:\n",
    "                f.write(f'{label}\\n')"
   ]
  },
  {
   "cell_type": "code",
   "execution_count": 16,
   "id": "1edf0053-c337-4078-819a-582ccd82ffc2",
   "metadata": {},
   "outputs": [],
   "source": [
    "save_yolo_data_dir = 'C:\\\\Users\\\\Admin\\\\AIO\\\\OCR_STR(Yolov8+CNN)\\\\icdar2003\\\\yolo_data'\n",
    "os.makedirs(save_yolo_data_dir, exist_ok=True)\n",
    "save_train_dir = os.path.join(\n",
    "    save_yolo_data_dir,\n",
    "    'train'\n",
    ")\n",
    "save_val_dir = os.path.join(\n",
    "    save_yolo_data_dir,\n",
    "    'val'\n",
    ")\n",
    "save_test_dir = os.path.join(\n",
    "    save_yolo_data_dir,\n",
    "    'test'\n",
    ")\n",
    "\n",
    "save_data(\n",
    "    train_data,\n",
    "    dataset_dir,\n",
    "    save_train_dir)\n",
    "save_data(\n",
    "    test_data,\n",
    "    dataset_dir,\n",
    "    save_val_dir)\n",
    "save_data(\n",
    "    val_data,\n",
    "    dataset_dir,\n",
    "    save_test_dir)"
   ]
  },
  {
   "cell_type": "markdown",
   "id": "dd5e5ac9-fb71-49f2-80e9-3c9f39ba32ff",
   "metadata": {},
   "source": [
    "# 6. Create yaml file"
   ]
  },
  {
   "cell_type": "code",
   "execution_count": 17,
   "id": "163ced0d-b441-417e-85f8-704e054a50a3",
   "metadata": {},
   "outputs": [],
   "source": [
    "data_yaml = {\n",
    "    'path': 'C:\\\\Users\\\\Admin\\\\AIO\\\\OCR_STR(Yolov8+CNN)\\\\icdar2003\\\\yolo_data',\n",
    "    'train': 'C:\\\\Users\\\\Admin\\\\AIO\\\\OCR_STR(Yolov8+CNN)\\\\icdar2003\\\\yolo_data\\\\train\\\\images',\n",
    "    'test': 'C:\\\\Users\\\\Admin\\\\AIO\\\\OCR_STR(Yolov8+CNN)\\\\icdar2003\\\\yolo_data\\\\test\\\\images',\n",
    "    'val': 'C:\\\\Users\\\\Admin\\\\AIO\\\\OCR_STR(Yolov8+CNN)\\\\icdar2003\\\\yolo_data\\\\val\\\\images',\n",
    "    'nc': 1,\n",
    "    'names': class_labels\n",
    "}\n",
    "\n",
    "yolo_yaml_path = os.path.join(\n",
    "    save_yolo_data_dir,\n",
    "    'data.yml'\n",
    ")\n",
    "\n",
    "with open(yolo_yaml_path, 'w') as f:\n",
    "    yaml.dump(data_yaml, f, default_flow_style=False)"
   ]
  },
  {
   "cell_type": "markdown",
   "id": "8a809fc9-e7d1-441c-9746-2723be3e8e59",
   "metadata": {},
   "source": [
    "# 7. Training"
   ]
  },
  {
   "cell_type": "code",
   "execution_count": 18,
   "id": "d758db84-c7fc-43ab-a7e5-0d393206727f",
   "metadata": {},
   "outputs": [
    {
     "name": "stdout",
     "output_type": "stream",
     "text": [
      "Transferred 355/355 items from pretrained weights\n",
      "Ultralytics YOLOv8.2.5  Python-3.12.2 torch-2.2.2 CUDA:0 (NVIDIA GeForce RTX 2060, 6144MiB)\n",
      "\u001b[34m\u001b[1mengine\\trainer: \u001b[0mtask=detect, mode=train, model=yolov8s.yaml, data=C:\\Users\\Admin\\AIO\\OCR_STR(Yolov8+CNN)\\icdar2003\\yolo_data\\data.yml, epochs=200, time=None, patience=100, batch=16, imgsz=1024, save=True, save_period=-1, cache=False, device=None, workers=8, project=C:\\Users\\Admin\\AIO\\OCR_STR(Yolov8+CNN)\\models, name=train, exist_ok=False, pretrained=True, optimizer=auto, verbose=True, seed=0, deterministic=True, single_cls=False, rect=False, cos_lr=False, close_mosaic=10, resume=False, amp=True, fraction=1.0, profile=False, freeze=None, multi_scale=False, overlap_mask=True, mask_ratio=4, dropout=0.0, val=True, split=val, save_json=False, save_hybrid=False, conf=None, iou=0.7, max_det=300, half=False, dnn=False, plots=True, source=None, vid_stride=1, stream_buffer=False, visualize=False, augment=False, agnostic_nms=False, classes=None, retina_masks=False, embed=None, show=False, save_frames=False, save_txt=False, save_conf=False, save_crop=False, show_labels=True, show_conf=True, show_boxes=True, line_width=None, format=torchscript, keras=False, optimize=False, int8=False, dynamic=False, simplify=False, opset=None, workspace=4, nms=False, lr0=0.01, lrf=0.01, momentum=0.937, weight_decay=0.0005, warmup_epochs=3.0, warmup_momentum=0.8, warmup_bias_lr=0.1, box=7.5, cls=0.5, dfl=1.5, pose=12.0, kobj=1.0, label_smoothing=0.0, nbs=64, hsv_h=0.015, hsv_s=0.7, hsv_v=0.4, degrees=0.0, translate=0.1, scale=0.5, shear=0.0, perspective=0.0, flipud=0.0, fliplr=0.5, bgr=0.0, mosaic=1.0, mixup=0.0, copy_paste=0.0, auto_augment=randaugment, erasing=0.4, crop_fraction=1.0, cfg=None, tracker=botsort.yaml, save_dir=C:\\Users\\Admin\\AIO\\OCR_STR(Yolov8+CNN)\\models\\yolov8\\detect\\train\n",
      "Overriding model.yaml nc=80 with nc=1\n",
      "\n",
      "                   from  n    params  module                                       arguments                     \n",
      "  0                  -1  1       928  ultralytics.nn.modules.conv.Conv             [3, 32, 3, 2]                 \n",
      "  1                  -1  1     18560  ultralytics.nn.modules.conv.Conv             [32, 64, 3, 2]                \n",
      "  2                  -1  1     29056  ultralytics.nn.modules.block.C2f             [64, 64, 1, True]             \n",
      "  3                  -1  1     73984  ultralytics.nn.modules.conv.Conv             [64, 128, 3, 2]               \n",
      "  4                  -1  2    197632  ultralytics.nn.modules.block.C2f             [128, 128, 2, True]           \n",
      "  5                  -1  1    295424  ultralytics.nn.modules.conv.Conv             [128, 256, 3, 2]              \n",
      "  6                  -1  2    788480  ultralytics.nn.modules.block.C2f             [256, 256, 2, True]           \n",
      "  7                  -1  1   1180672  ultralytics.nn.modules.conv.Conv             [256, 512, 3, 2]              \n",
      "  8                  -1  1   1838080  ultralytics.nn.modules.block.C2f             [512, 512, 1, True]           \n",
      "  9                  -1  1    656896  ultralytics.nn.modules.block.SPPF            [512, 512, 5]                 \n",
      " 10                  -1  1         0  torch.nn.modules.upsampling.Upsample         [None, 2, 'nearest']          \n",
      " 11             [-1, 6]  1         0  ultralytics.nn.modules.conv.Concat           [1]                           \n",
      " 12                  -1  1    591360  ultralytics.nn.modules.block.C2f             [768, 256, 1]                 \n",
      " 13                  -1  1         0  torch.nn.modules.upsampling.Upsample         [None, 2, 'nearest']          \n",
      " 14             [-1, 4]  1         0  ultralytics.nn.modules.conv.Concat           [1]                           \n",
      " 15                  -1  1    148224  ultralytics.nn.modules.block.C2f             [384, 128, 1]                 \n",
      " 16                  -1  1    147712  ultralytics.nn.modules.conv.Conv             [128, 128, 3, 2]              \n",
      " 17            [-1, 12]  1         0  ultralytics.nn.modules.conv.Concat           [1]                           \n",
      " 18                  -1  1    493056  ultralytics.nn.modules.block.C2f             [384, 256, 1]                 \n",
      " 19                  -1  1    590336  ultralytics.nn.modules.conv.Conv             [256, 256, 3, 2]              \n",
      " 20             [-1, 9]  1         0  ultralytics.nn.modules.conv.Concat           [1]                           \n",
      " 21                  -1  1   1969152  ultralytics.nn.modules.block.C2f             [768, 512, 1]                 \n",
      " 22        [15, 18, 21]  1   2116435  ultralytics.nn.modules.head.Detect           [1, [128, 256, 512]]          \n",
      "YOLOv8s summary: 225 layers, 11135987 parameters, 11135971 gradients, 28.6 GFLOPs\n",
      "\n",
      "Transferred 349/355 items from pretrained weights\n",
      "Freezing layer 'model.22.dfl.conv.weight'\n",
      "\u001b[34m\u001b[1mAMP: \u001b[0mrunning Automatic Mixed Precision (AMP) checks with YOLOv8n...\n",
      "\u001b[34m\u001b[1mAMP: \u001b[0mchecks passed \n"
     ]
    },
    {
     "name": "stderr",
     "output_type": "stream",
     "text": [
      "\u001b[34m\u001b[1mtrain: \u001b[0mScanning C:\\Users\\Admin\\AIO\\OCR_STR(Yolov8+CNN)\\icdar2003\\yolo_data\\train\\labels.cache... 200 images, 7 backgrou\u001b[0m\n",
      "\u001b[34m\u001b[1mval: \u001b[0mScanning C:\\Users\\Admin\\AIO\\OCR_STR(Yolov8+CNN)\\icdar2003\\yolo_data\\val\\labels.cache... 43 images, 2 backgrounds, \u001b[0m\n"
     ]
    },
    {
     "name": "stdout",
     "output_type": "stream",
     "text": [
      "Plotting labels to C:\\Users\\Admin\\AIO\\OCR_STR(Yolov8+CNN)\\models\\yolov8\\detect\\train\\labels.jpg... \n",
      "\u001b[34m\u001b[1moptimizer:\u001b[0m 'optimizer=auto' found, ignoring 'lr0=0.01' and 'momentum=0.937' and determining best 'optimizer', 'lr0' and 'momentum' automatically... \n",
      "\u001b[34m\u001b[1moptimizer:\u001b[0m AdamW(lr=0.002, momentum=0.9) with parameter groups 57 weight(decay=0.0), 64 weight(decay=0.0005), 63 bias(decay=0.0)\n",
      "Image sizes 1024 train, 1024 val\n",
      "Using 8 dataloader workers\n",
      "Logging results to \u001b[1mC:\\Users\\Admin\\AIO\\OCR_STR(Yolov8+CNN)\\models\\yolov8\\detect\\train\u001b[0m\n",
      "Starting training for 200 epochs...\n",
      "\n",
      "      Epoch    GPU_mem   box_loss   cls_loss   dfl_loss  Instances       Size\n"
     ]
    },
    {
     "name": "stderr",
     "output_type": "stream",
     "text": [
      "      1/200       9.5G       2.01       5.35      1.794         87       1024: 100%|██████████| 13/13 [01:34<00:00,  7.\n",
      "                 Class     Images  Instances      Box(P          R      mAP50  mAP50-95): 100%|██████████| 2/2 [00:06<0"
     ]
    },
    {
     "name": "stdout",
     "output_type": "stream",
     "text": [
      "                   all         43        200      0.312      0.425      0.287      0.145\n"
     ]
    },
    {
     "name": "stderr",
     "output_type": "stream",
     "text": [
      "\n"
     ]
    },
    {
     "name": "stdout",
     "output_type": "stream",
     "text": [
      "\n",
      "      Epoch    GPU_mem   box_loss   cls_loss   dfl_loss  Instances       Size\n"
     ]
    },
    {
     "name": "stderr",
     "output_type": "stream",
     "text": [
      "      2/200       9.7G      1.131      1.765      1.182         73       1024: 100%|██████████| 13/13 [01:29<00:00,  6.\n",
      "                 Class     Images  Instances      Box(P          R      mAP50  mAP50-95): 100%|██████████| 2/2 [00:02<0"
     ]
    },
    {
     "name": "stdout",
     "output_type": "stream",
     "text": [
      "                   all         43        200      0.631      0.785      0.738      0.468\n"
     ]
    },
    {
     "name": "stderr",
     "output_type": "stream",
     "text": [
      "\n"
     ]
    },
    {
     "name": "stdout",
     "output_type": "stream",
     "text": [
      "\n",
      "      Epoch    GPU_mem   box_loss   cls_loss   dfl_loss  Instances       Size\n"
     ]
    },
    {
     "name": "stderr",
     "output_type": "stream",
     "text": [
      "      3/200      9.77G      1.097      1.328      1.149         57       1024: 100%|██████████| 13/13 [01:22<00:00,  6.\n",
      "                 Class     Images  Instances      Box(P          R      mAP50  mAP50-95): 100%|██████████| 2/2 [00:01<0"
     ]
    },
    {
     "name": "stdout",
     "output_type": "stream",
     "text": [
      "                   all         43        200      0.705       0.73      0.707      0.418\n"
     ]
    },
    {
     "name": "stderr",
     "output_type": "stream",
     "text": [
      "\n"
     ]
    },
    {
     "name": "stdout",
     "output_type": "stream",
     "text": [
      "\n",
      "      Epoch    GPU_mem   box_loss   cls_loss   dfl_loss  Instances       Size\n"
     ]
    },
    {
     "name": "stderr",
     "output_type": "stream",
     "text": [
      "      4/200      9.78G      1.143       1.38      1.168         94       1024: 100%|██████████| 13/13 [01:22<00:00,  6.\n",
      "                 Class     Images  Instances      Box(P          R      mAP50  mAP50-95): 100%|██████████| 2/2 [00:01<0"
     ]
    },
    {
     "name": "stdout",
     "output_type": "stream",
     "text": [
      "                   all         43        200      0.384      0.655      0.398        0.2\n"
     ]
    },
    {
     "name": "stderr",
     "output_type": "stream",
     "text": [
      "\n"
     ]
    },
    {
     "name": "stdout",
     "output_type": "stream",
     "text": [
      "\n",
      "      Epoch    GPU_mem   box_loss   cls_loss   dfl_loss  Instances       Size\n"
     ]
    },
    {
     "name": "stderr",
     "output_type": "stream",
     "text": [
      "      5/200       9.8G       1.18       1.26      1.188         55       1024: 100%|██████████| 13/13 [01:28<00:00,  6.\n",
      "                 Class     Images  Instances      Box(P          R      mAP50  mAP50-95): 100%|██████████| 2/2 [00:02<0"
     ]
    },
    {
     "name": "stdout",
     "output_type": "stream",
     "text": [
      "                   all         43        200      0.515       0.74       0.54      0.292\n"
     ]
    },
    {
     "name": "stderr",
     "output_type": "stream",
     "text": [
      "\n"
     ]
    },
    {
     "name": "stdout",
     "output_type": "stream",
     "text": [
      "\n",
      "      Epoch    GPU_mem   box_loss   cls_loss   dfl_loss  Instances       Size\n"
     ]
    },
    {
     "name": "stderr",
     "output_type": "stream",
     "text": [
      "      6/200      9.79G      1.184      1.291      1.255         26       1024: 100%|██████████| 13/13 [01:27<00:00,  6.\n",
      "                 Class     Images  Instances      Box(P          R      mAP50  mAP50-95): 100%|██████████| 2/2 [00:01<0"
     ]
    },
    {
     "name": "stdout",
     "output_type": "stream",
     "text": [
      "                   all         43        200      0.384       0.54      0.331      0.166\n"
     ]
    },
    {
     "name": "stderr",
     "output_type": "stream",
     "text": [
      "\n"
     ]
    },
    {
     "name": "stdout",
     "output_type": "stream",
     "text": [
      "\n",
      "      Epoch    GPU_mem   box_loss   cls_loss   dfl_loss  Instances       Size\n"
     ]
    },
    {
     "name": "stderr",
     "output_type": "stream",
     "text": [
      "      7/200      9.81G      1.188      1.109      1.205         61       1024: 100%|██████████| 13/13 [01:30<00:00,  6.\n",
      "                 Class     Images  Instances      Box(P          R      mAP50  mAP50-95): 100%|██████████| 2/2 [00:02<0"
     ]
    },
    {
     "name": "stdout",
     "output_type": "stream",
     "text": [
      "                   all         43        200      0.311       0.61       0.36      0.192\n"
     ]
    },
    {
     "name": "stderr",
     "output_type": "stream",
     "text": [
      "\n"
     ]
    },
    {
     "name": "stdout",
     "output_type": "stream",
     "text": [
      "\n",
      "      Epoch    GPU_mem   box_loss   cls_loss   dfl_loss  Instances       Size\n"
     ]
    },
    {
     "name": "stderr",
     "output_type": "stream",
     "text": [
      "      8/200      9.58G      1.218      1.114      1.211         58       1024: 100%|██████████| 13/13 [01:26<00:00,  6.\n",
      "                 Class     Images  Instances      Box(P          R      mAP50  mAP50-95): 100%|██████████| 2/2 [00:03<0"
     ]
    },
    {
     "name": "stdout",
     "output_type": "stream",
     "text": [
      "                   all         43        200      0.678      0.705      0.712      0.425\n"
     ]
    },
    {
     "name": "stderr",
     "output_type": "stream",
     "text": [
      "\n"
     ]
    },
    {
     "name": "stdout",
     "output_type": "stream",
     "text": [
      "\n",
      "      Epoch    GPU_mem   box_loss   cls_loss   dfl_loss  Instances       Size\n"
     ]
    },
    {
     "name": "stderr",
     "output_type": "stream",
     "text": [
      "      9/200      9.77G      1.199      1.128      1.197         84       1024: 100%|██████████| 13/13 [01:32<00:00,  7.\n",
      "                 Class     Images  Instances      Box(P          R      mAP50  mAP50-95): 100%|██████████| 2/2 [00:02<0"
     ]
    },
    {
     "name": "stdout",
     "output_type": "stream",
     "text": [
      "                   all         43        200      0.759       0.53      0.616      0.389\n"
     ]
    },
    {
     "name": "stderr",
     "output_type": "stream",
     "text": [
      "\n"
     ]
    },
    {
     "name": "stdout",
     "output_type": "stream",
     "text": [
      "\n",
      "      Epoch    GPU_mem   box_loss   cls_loss   dfl_loss  Instances       Size\n"
     ]
    },
    {
     "name": "stderr",
     "output_type": "stream",
     "text": [
      "     10/200      9.79G      1.212      1.117      1.218         74       1024: 100%|██████████| 13/13 [01:26<00:00,  6.\n",
      "                 Class     Images  Instances      Box(P          R      mAP50  mAP50-95): 100%|██████████| 2/2 [00:02<0"
     ]
    },
    {
     "name": "stdout",
     "output_type": "stream",
     "text": [
      "                   all         43        200      0.546      0.365      0.402      0.231\n"
     ]
    },
    {
     "name": "stderr",
     "output_type": "stream",
     "text": [
      "\n"
     ]
    },
    {
     "name": "stdout",
     "output_type": "stream",
     "text": [
      "\n",
      "      Epoch    GPU_mem   box_loss   cls_loss   dfl_loss  Instances       Size\n"
     ]
    },
    {
     "name": "stderr",
     "output_type": "stream",
     "text": [
      "     11/200       9.8G      1.144      1.021      1.177         53       1024: 100%|██████████| 13/13 [01:23<00:00,  6.\n",
      "                 Class     Images  Instances      Box(P          R      mAP50  mAP50-95): 100%|██████████| 2/2 [00:02<0"
     ]
    },
    {
     "name": "stdout",
     "output_type": "stream",
     "text": [
      "                   all         43        200      0.599       0.49      0.525      0.273\n"
     ]
    },
    {
     "name": "stderr",
     "output_type": "stream",
     "text": [
      "\n"
     ]
    },
    {
     "name": "stdout",
     "output_type": "stream",
     "text": [
      "\n",
      "      Epoch    GPU_mem   box_loss   cls_loss   dfl_loss  Instances       Size\n"
     ]
    },
    {
     "name": "stderr",
     "output_type": "stream",
     "text": [
      "     12/200      9.82G      1.187      1.035      1.206         42       1024: 100%|██████████| 13/13 [01:23<00:00,  6.\n",
      "                 Class     Images  Instances      Box(P          R      mAP50  mAP50-95): 100%|██████████| 2/2 [00:01<0"
     ]
    },
    {
     "name": "stdout",
     "output_type": "stream",
     "text": [
      "                   all         43        200      0.311      0.365      0.299      0.162\n"
     ]
    },
    {
     "name": "stderr",
     "output_type": "stream",
     "text": [
      "\n"
     ]
    },
    {
     "name": "stdout",
     "output_type": "stream",
     "text": [
      "\n",
      "      Epoch    GPU_mem   box_loss   cls_loss   dfl_loss  Instances       Size\n"
     ]
    },
    {
     "name": "stderr",
     "output_type": "stream",
     "text": [
      "     13/200      9.71G       1.16      1.073      1.186         57       1024: 100%|██████████| 13/13 [01:24<00:00,  6.\n",
      "                 Class     Images  Instances      Box(P          R      mAP50  mAP50-95): 100%|██████████| 2/2 [00:02<0"
     ]
    },
    {
     "name": "stdout",
     "output_type": "stream",
     "text": [
      "                   all         43        200      0.681      0.535       0.56      0.353\n"
     ]
    },
    {
     "name": "stderr",
     "output_type": "stream",
     "text": [
      "\n"
     ]
    },
    {
     "name": "stdout",
     "output_type": "stream",
     "text": [
      "\n",
      "      Epoch    GPU_mem   box_loss   cls_loss   dfl_loss  Instances       Size\n"
     ]
    },
    {
     "name": "stderr",
     "output_type": "stream",
     "text": [
      "     14/200      9.79G      1.153      1.019      1.216         49       1024: 100%|██████████| 13/13 [01:26<00:00,  6.\n",
      "                 Class     Images  Instances      Box(P          R      mAP50  mAP50-95): 100%|██████████| 2/2 [00:04<0"
     ]
    },
    {
     "name": "stdout",
     "output_type": "stream",
     "text": [
      "                   all         43        200      0.738       0.72      0.745      0.455\n"
     ]
    },
    {
     "name": "stderr",
     "output_type": "stream",
     "text": [
      "\n"
     ]
    },
    {
     "name": "stdout",
     "output_type": "stream",
     "text": [
      "\n",
      "      Epoch    GPU_mem   box_loss   cls_loss   dfl_loss  Instances       Size\n"
     ]
    },
    {
     "name": "stderr",
     "output_type": "stream",
     "text": [
      "     15/200      9.75G      1.144      1.049       1.17         72       1024: 100%|██████████| 13/13 [01:39<00:00,  7.\n",
      "                 Class     Images  Instances      Box(P          R      mAP50  mAP50-95): 100%|██████████| 2/2 [00:02<0"
     ]
    },
    {
     "name": "stdout",
     "output_type": "stream",
     "text": [
      "                   all         43        200      0.767       0.61      0.688      0.423\n"
     ]
    },
    {
     "name": "stderr",
     "output_type": "stream",
     "text": [
      "\n"
     ]
    },
    {
     "name": "stdout",
     "output_type": "stream",
     "text": [
      "\n",
      "      Epoch    GPU_mem   box_loss   cls_loss   dfl_loss  Instances       Size\n"
     ]
    },
    {
     "name": "stderr",
     "output_type": "stream",
     "text": [
      "     16/200      9.79G      1.132      1.036      1.182         56       1024: 100%|██████████| 13/13 [01:24<00:00,  6.\n",
      "                 Class     Images  Instances      Box(P          R      mAP50  mAP50-95): 100%|██████████| 2/2 [00:02<0"
     ]
    },
    {
     "name": "stdout",
     "output_type": "stream",
     "text": [
      "                   all         43        200      0.699      0.775      0.742      0.469\n"
     ]
    },
    {
     "name": "stderr",
     "output_type": "stream",
     "text": [
      "\n"
     ]
    },
    {
     "name": "stdout",
     "output_type": "stream",
     "text": [
      "\n",
      "      Epoch    GPU_mem   box_loss   cls_loss   dfl_loss  Instances       Size\n"
     ]
    },
    {
     "name": "stderr",
     "output_type": "stream",
     "text": [
      "     17/200      9.59G      1.093     0.9146      1.148         70       1024: 100%|██████████| 13/13 [01:24<00:00,  6.\n",
      "                 Class     Images  Instances      Box(P          R      mAP50  mAP50-95): 100%|██████████| 2/2 [00:03<0"
     ]
    },
    {
     "name": "stdout",
     "output_type": "stream",
     "text": [
      "                   all         43        200      0.736      0.753      0.784      0.492\n"
     ]
    },
    {
     "name": "stderr",
     "output_type": "stream",
     "text": [
      "\n"
     ]
    },
    {
     "name": "stdout",
     "output_type": "stream",
     "text": [
      "\n",
      "      Epoch    GPU_mem   box_loss   cls_loss   dfl_loss  Instances       Size\n"
     ]
    },
    {
     "name": "stderr",
     "output_type": "stream",
     "text": [
      "     18/200      9.78G      1.106     0.9097      1.176         62       1024: 100%|██████████| 13/13 [01:26<00:00,  6.\n",
      "                 Class     Images  Instances      Box(P          R      mAP50  mAP50-95): 100%|██████████| 2/2 [00:02<0"
     ]
    },
    {
     "name": "stdout",
     "output_type": "stream",
     "text": [
      "                   all         43        200      0.837      0.825      0.851      0.562\n"
     ]
    },
    {
     "name": "stderr",
     "output_type": "stream",
     "text": [
      "\n"
     ]
    },
    {
     "name": "stdout",
     "output_type": "stream",
     "text": [
      "\n",
      "      Epoch    GPU_mem   box_loss   cls_loss   dfl_loss  Instances       Size\n"
     ]
    },
    {
     "name": "stderr",
     "output_type": "stream",
     "text": [
      "     19/200      9.79G      1.082     0.8919      1.153         45       1024: 100%|██████████| 13/13 [01:27<00:00,  6.\n",
      "                 Class     Images  Instances      Box(P          R      mAP50  mAP50-95): 100%|██████████| 2/2 [00:01<0"
     ]
    },
    {
     "name": "stdout",
     "output_type": "stream",
     "text": [
      "                   all         43        200      0.804       0.85       0.86      0.554\n"
     ]
    },
    {
     "name": "stderr",
     "output_type": "stream",
     "text": [
      "\n"
     ]
    },
    {
     "name": "stdout",
     "output_type": "stream",
     "text": [
      "\n",
      "      Epoch    GPU_mem   box_loss   cls_loss   dfl_loss  Instances       Size\n"
     ]
    },
    {
     "name": "stderr",
     "output_type": "stream",
     "text": [
      "     20/200      9.61G      1.107     0.9171      1.146         78       1024: 100%|██████████| 13/13 [01:21<00:00,  6.\n",
      "                 Class     Images  Instances      Box(P          R      mAP50  mAP50-95): 100%|██████████| 2/2 [00:01<0"
     ]
    },
    {
     "name": "stdout",
     "output_type": "stream",
     "text": [
      "                   all         43        200      0.822       0.82      0.832      0.556\n"
     ]
    },
    {
     "name": "stderr",
     "output_type": "stream",
     "text": [
      "\n"
     ]
    },
    {
     "name": "stdout",
     "output_type": "stream",
     "text": [
      "\n",
      "      Epoch    GPU_mem   box_loss   cls_loss   dfl_loss  Instances       Size\n"
     ]
    },
    {
     "name": "stderr",
     "output_type": "stream",
     "text": [
      "     21/200      9.61G      1.013     0.8459      1.116         78       1024: 100%|██████████| 13/13 [01:24<00:00,  6.\n",
      "                 Class     Images  Instances      Box(P          R      mAP50  mAP50-95): 100%|██████████| 2/2 [00:02<0"
     ]
    },
    {
     "name": "stdout",
     "output_type": "stream",
     "text": [
      "                   all         43        200      0.812      0.835      0.853      0.573\n"
     ]
    },
    {
     "name": "stderr",
     "output_type": "stream",
     "text": [
      "\n"
     ]
    },
    {
     "name": "stdout",
     "output_type": "stream",
     "text": [
      "\n",
      "      Epoch    GPU_mem   box_loss   cls_loss   dfl_loss  Instances       Size\n"
     ]
    },
    {
     "name": "stderr",
     "output_type": "stream",
     "text": [
      "     22/200      9.72G      1.023      0.827      1.097         70       1024: 100%|██████████| 13/13 [01:24<00:00,  6.\n",
      "                 Class     Images  Instances      Box(P          R      mAP50  mAP50-95): 100%|██████████| 2/2 [00:01<0"
     ]
    },
    {
     "name": "stdout",
     "output_type": "stream",
     "text": [
      "                   all         43        200      0.857      0.779      0.851      0.602\n"
     ]
    },
    {
     "name": "stderr",
     "output_type": "stream",
     "text": [
      "\n"
     ]
    },
    {
     "name": "stdout",
     "output_type": "stream",
     "text": [
      "\n",
      "      Epoch    GPU_mem   box_loss   cls_loss   dfl_loss  Instances       Size\n"
     ]
    },
    {
     "name": "stderr",
     "output_type": "stream",
     "text": [
      "     23/200      9.79G      1.039     0.8436      1.137         51       1024: 100%|██████████| 13/13 [01:28<00:00,  6.\n",
      "                 Class     Images  Instances      Box(P          R      mAP50  mAP50-95): 100%|██████████| 2/2 [00:02<0"
     ]
    },
    {
     "name": "stdout",
     "output_type": "stream",
     "text": [
      "                   all         43        200      0.851      0.755      0.832       0.57\n"
     ]
    },
    {
     "name": "stderr",
     "output_type": "stream",
     "text": [
      "\n"
     ]
    },
    {
     "name": "stdout",
     "output_type": "stream",
     "text": [
      "\n",
      "      Epoch    GPU_mem   box_loss   cls_loss   dfl_loss  Instances       Size\n"
     ]
    },
    {
     "name": "stderr",
     "output_type": "stream",
     "text": [
      "     24/200      9.83G      1.048     0.8681      1.118        108       1024: 100%|██████████| 13/13 [01:24<00:00,  6.\n",
      "                 Class     Images  Instances      Box(P          R      mAP50  mAP50-95): 100%|██████████| 2/2 [00:01<0"
     ]
    },
    {
     "name": "stdout",
     "output_type": "stream",
     "text": [
      "                   all         43        200      0.778       0.87      0.857       0.61\n"
     ]
    },
    {
     "name": "stderr",
     "output_type": "stream",
     "text": [
      "\n"
     ]
    },
    {
     "name": "stdout",
     "output_type": "stream",
     "text": [
      "\n",
      "      Epoch    GPU_mem   box_loss   cls_loss   dfl_loss  Instances       Size\n"
     ]
    },
    {
     "name": "stderr",
     "output_type": "stream",
     "text": [
      "     25/200      9.59G          1     0.8133      1.099         53       1024: 100%|██████████| 13/13 [01:22<00:00,  6.\n",
      "                 Class     Images  Instances      Box(P          R      mAP50  mAP50-95): 100%|██████████| 2/2 [00:02<0"
     ]
    },
    {
     "name": "stdout",
     "output_type": "stream",
     "text": [
      "                   all         43        200      0.809      0.892      0.853      0.595\n"
     ]
    },
    {
     "name": "stderr",
     "output_type": "stream",
     "text": [
      "\n"
     ]
    },
    {
     "name": "stdout",
     "output_type": "stream",
     "text": [
      "\n",
      "      Epoch    GPU_mem   box_loss   cls_loss   dfl_loss  Instances       Size\n"
     ]
    },
    {
     "name": "stderr",
     "output_type": "stream",
     "text": [
      "     26/200      9.62G     0.9974     0.7947      1.087         53       1024: 100%|██████████| 13/13 [01:20<00:00,  6.\n",
      "                 Class     Images  Instances      Box(P          R      mAP50  mAP50-95): 100%|██████████| 2/2 [00:02<0"
     ]
    },
    {
     "name": "stdout",
     "output_type": "stream",
     "text": [
      "                   all         43        200      0.835      0.825      0.823      0.565\n"
     ]
    },
    {
     "name": "stderr",
     "output_type": "stream",
     "text": [
      "\n"
     ]
    },
    {
     "name": "stdout",
     "output_type": "stream",
     "text": [
      "\n",
      "      Epoch    GPU_mem   box_loss   cls_loss   dfl_loss  Instances       Size\n"
     ]
    },
    {
     "name": "stderr",
     "output_type": "stream",
     "text": [
      "     27/200      9.62G      0.989     0.7885      1.082         27       1024: 100%|██████████| 13/13 [01:22<00:00,  6.\n",
      "                 Class     Images  Instances      Box(P          R      mAP50  mAP50-95): 100%|██████████| 2/2 [00:01<0"
     ]
    },
    {
     "name": "stdout",
     "output_type": "stream",
     "text": [
      "                   all         43        200      0.839       0.79      0.848      0.588\n"
     ]
    },
    {
     "name": "stderr",
     "output_type": "stream",
     "text": [
      "\n"
     ]
    },
    {
     "name": "stdout",
     "output_type": "stream",
     "text": [
      "\n",
      "      Epoch    GPU_mem   box_loss   cls_loss   dfl_loss  Instances       Size\n"
     ]
    },
    {
     "name": "stderr",
     "output_type": "stream",
     "text": [
      "     28/200       9.8G      1.014     0.8723      1.136         56       1024: 100%|██████████| 13/13 [01:25<00:00,  6.\n",
      "                 Class     Images  Instances      Box(P          R      mAP50  mAP50-95): 100%|██████████| 2/2 [00:01<0"
     ]
    },
    {
     "name": "stdout",
     "output_type": "stream",
     "text": [
      "                   all         43        200      0.722       0.75      0.785      0.532\n"
     ]
    },
    {
     "name": "stderr",
     "output_type": "stream",
     "text": [
      "\n"
     ]
    },
    {
     "name": "stdout",
     "output_type": "stream",
     "text": [
      "\n",
      "      Epoch    GPU_mem   box_loss   cls_loss   dfl_loss  Instances       Size\n"
     ]
    },
    {
     "name": "stderr",
     "output_type": "stream",
     "text": [
      "     29/200      9.81G     0.9867     0.7963      1.084         48       1024: 100%|██████████| 13/13 [01:28<00:00,  6.\n",
      "                 Class     Images  Instances      Box(P          R      mAP50  mAP50-95): 100%|██████████| 2/2 [00:02<0"
     ]
    },
    {
     "name": "stdout",
     "output_type": "stream",
     "text": [
      "                   all         43        200      0.819      0.817      0.844      0.613\n"
     ]
    },
    {
     "name": "stderr",
     "output_type": "stream",
     "text": [
      "\n"
     ]
    },
    {
     "name": "stdout",
     "output_type": "stream",
     "text": [
      "\n",
      "      Epoch    GPU_mem   box_loss   cls_loss   dfl_loss  Instances       Size\n"
     ]
    },
    {
     "name": "stderr",
     "output_type": "stream",
     "text": [
      "     30/200      9.81G     0.9783     0.8055      1.089         71       1024: 100%|██████████| 13/13 [01:27<00:00,  6.\n",
      "                 Class     Images  Instances      Box(P          R      mAP50  mAP50-95): 100%|██████████| 2/2 [00:03<0"
     ]
    },
    {
     "name": "stdout",
     "output_type": "stream",
     "text": [
      "                   all         43        200      0.822      0.831      0.862      0.627\n"
     ]
    },
    {
     "name": "stderr",
     "output_type": "stream",
     "text": [
      "\n"
     ]
    },
    {
     "name": "stdout",
     "output_type": "stream",
     "text": [
      "\n",
      "      Epoch    GPU_mem   box_loss   cls_loss   dfl_loss  Instances       Size\n"
     ]
    },
    {
     "name": "stderr",
     "output_type": "stream",
     "text": [
      "     31/200      9.63G     0.9618     0.8169      1.133         32       1024: 100%|██████████| 13/13 [01:21<00:00,  6.\n",
      "                 Class     Images  Instances      Box(P          R      mAP50  mAP50-95): 100%|██████████| 2/2 [00:02<0"
     ]
    },
    {
     "name": "stdout",
     "output_type": "stream",
     "text": [
      "                   all         43        200      0.816      0.819      0.858       0.63\n"
     ]
    },
    {
     "name": "stderr",
     "output_type": "stream",
     "text": [
      "\n"
     ]
    },
    {
     "name": "stdout",
     "output_type": "stream",
     "text": [
      "\n",
      "      Epoch    GPU_mem   box_loss   cls_loss   dfl_loss  Instances       Size\n"
     ]
    },
    {
     "name": "stderr",
     "output_type": "stream",
     "text": [
      "     32/200      9.62G     0.9741     0.8076      1.093         61       1024: 100%|██████████| 13/13 [01:22<00:00,  6.\n",
      "                 Class     Images  Instances      Box(P          R      mAP50  mAP50-95): 100%|██████████| 2/2 [00:01<0"
     ]
    },
    {
     "name": "stdout",
     "output_type": "stream",
     "text": [
      "                   all         43        200      0.762       0.89      0.844      0.621\n"
     ]
    },
    {
     "name": "stderr",
     "output_type": "stream",
     "text": [
      "\n"
     ]
    },
    {
     "name": "stdout",
     "output_type": "stream",
     "text": [
      "\n",
      "      Epoch    GPU_mem   box_loss   cls_loss   dfl_loss  Instances       Size\n"
     ]
    },
    {
     "name": "stderr",
     "output_type": "stream",
     "text": [
      "     33/200       9.8G     0.9108     0.7452      1.054         74       1024: 100%|██████████| 13/13 [01:31<00:00,  7.\n",
      "                 Class     Images  Instances      Box(P          R      mAP50  mAP50-95): 100%|██████████| 2/2 [00:01<0"
     ]
    },
    {
     "name": "stdout",
     "output_type": "stream",
     "text": [
      "                   all         43        200      0.847      0.895      0.889      0.653\n"
     ]
    },
    {
     "name": "stderr",
     "output_type": "stream",
     "text": [
      "\n"
     ]
    },
    {
     "name": "stdout",
     "output_type": "stream",
     "text": [
      "\n",
      "      Epoch    GPU_mem   box_loss   cls_loss   dfl_loss  Instances       Size\n"
     ]
    },
    {
     "name": "stderr",
     "output_type": "stream",
     "text": [
      "     34/200      9.79G     0.9346     0.7513      1.067         46       1024: 100%|██████████| 13/13 [01:28<00:00,  6.\n",
      "                 Class     Images  Instances      Box(P          R      mAP50  mAP50-95): 100%|██████████| 2/2 [00:01<0\n"
     ]
    },
    {
     "name": "stdout",
     "output_type": "stream",
     "text": [
      "                   all         43        200      0.878      0.875      0.889      0.645\n",
      "\n",
      "      Epoch    GPU_mem   box_loss   cls_loss   dfl_loss  Instances       Size\n"
     ]
    },
    {
     "name": "stderr",
     "output_type": "stream",
     "text": [
      "     35/200       9.8G     0.9468     0.7404      1.069         40       1024: 100%|██████████| 13/13 [01:31<00:00,  7.\n",
      "                 Class     Images  Instances      Box(P          R      mAP50  mAP50-95): 100%|██████████| 2/2 [00:01<0"
     ]
    },
    {
     "name": "stdout",
     "output_type": "stream",
     "text": [
      "                   all         43        200      0.809      0.892      0.859      0.596\n"
     ]
    },
    {
     "name": "stderr",
     "output_type": "stream",
     "text": [
      "\n"
     ]
    },
    {
     "name": "stdout",
     "output_type": "stream",
     "text": [
      "\n",
      "      Epoch    GPU_mem   box_loss   cls_loss   dfl_loss  Instances       Size\n"
     ]
    },
    {
     "name": "stderr",
     "output_type": "stream",
     "text": [
      "     36/200      9.82G     0.9367     0.7656      1.066         85       1024: 100%|██████████| 13/13 [01:27<00:00,  6.\n",
      "                 Class     Images  Instances      Box(P          R      mAP50  mAP50-95): 100%|██████████| 2/2 [00:01<0"
     ]
    },
    {
     "name": "stdout",
     "output_type": "stream",
     "text": [
      "                   all         43        200      0.815      0.883      0.877      0.622\n"
     ]
    },
    {
     "name": "stderr",
     "output_type": "stream",
     "text": [
      "\n"
     ]
    },
    {
     "name": "stdout",
     "output_type": "stream",
     "text": [
      "\n",
      "      Epoch    GPU_mem   box_loss   cls_loss   dfl_loss  Instances       Size\n"
     ]
    },
    {
     "name": "stderr",
     "output_type": "stream",
     "text": [
      "     37/200       9.8G     0.9123     0.7556      1.068         47       1024: 100%|██████████| 13/13 [01:29<00:00,  6.\n",
      "                 Class     Images  Instances      Box(P          R      mAP50  mAP50-95): 100%|██████████| 2/2 [00:01<0"
     ]
    },
    {
     "name": "stdout",
     "output_type": "stream",
     "text": [
      "                   all         43        200      0.813       0.85      0.843      0.617\n"
     ]
    },
    {
     "name": "stderr",
     "output_type": "stream",
     "text": [
      "\n"
     ]
    },
    {
     "name": "stdout",
     "output_type": "stream",
     "text": [
      "\n",
      "      Epoch    GPU_mem   box_loss   cls_loss   dfl_loss  Instances       Size\n"
     ]
    },
    {
     "name": "stderr",
     "output_type": "stream",
     "text": [
      "     38/200      9.83G     0.9343      0.752      1.095         45       1024: 100%|██████████| 13/13 [01:23<00:00,  6.\n",
      "                 Class     Images  Instances      Box(P          R      mAP50  mAP50-95): 100%|██████████| 2/2 [00:03<0"
     ]
    },
    {
     "name": "stdout",
     "output_type": "stream",
     "text": [
      "                   all         43        200      0.819       0.81      0.857      0.623\n"
     ]
    },
    {
     "name": "stderr",
     "output_type": "stream",
     "text": [
      "\n"
     ]
    },
    {
     "name": "stdout",
     "output_type": "stream",
     "text": [
      "\n",
      "      Epoch    GPU_mem   box_loss   cls_loss   dfl_loss  Instances       Size\n"
     ]
    },
    {
     "name": "stderr",
     "output_type": "stream",
     "text": [
      "     39/200      9.51G     0.8967     0.7449       1.07         83       1024: 100%|██████████| 13/13 [01:25<00:00,  6.\n",
      "                 Class     Images  Instances      Box(P          R      mAP50  mAP50-95): 100%|██████████| 2/2 [00:03<0"
     ]
    },
    {
     "name": "stdout",
     "output_type": "stream",
     "text": [
      "                   all         43        200      0.792      0.878      0.867      0.634\n"
     ]
    },
    {
     "name": "stderr",
     "output_type": "stream",
     "text": [
      "\n"
     ]
    },
    {
     "name": "stdout",
     "output_type": "stream",
     "text": [
      "\n",
      "      Epoch    GPU_mem   box_loss   cls_loss   dfl_loss  Instances       Size\n"
     ]
    },
    {
     "name": "stderr",
     "output_type": "stream",
     "text": [
      "     40/200      9.86G     0.8899      0.731      1.061         65       1024: 100%|██████████| 13/13 [01:29<00:00,  6.\n",
      "                 Class     Images  Instances      Box(P          R      mAP50  mAP50-95): 100%|██████████| 2/2 [00:01<0"
     ]
    },
    {
     "name": "stdout",
     "output_type": "stream",
     "text": [
      "                   all         43        200      0.896      0.859      0.908      0.643\n"
     ]
    },
    {
     "name": "stderr",
     "output_type": "stream",
     "text": [
      "\n"
     ]
    },
    {
     "name": "stdout",
     "output_type": "stream",
     "text": [
      "\n",
      "      Epoch    GPU_mem   box_loss   cls_loss   dfl_loss  Instances       Size\n"
     ]
    },
    {
     "name": "stderr",
     "output_type": "stream",
     "text": [
      "     41/200      9.58G     0.8945     0.7042      1.035         57       1024: 100%|██████████| 13/13 [01:22<00:00,  6.\n",
      "                 Class     Images  Instances      Box(P          R      mAP50  mAP50-95): 100%|██████████| 2/2 [00:03<0"
     ]
    },
    {
     "name": "stdout",
     "output_type": "stream",
     "text": [
      "                   all         43        200       0.84      0.894      0.909      0.653\n"
     ]
    },
    {
     "name": "stderr",
     "output_type": "stream",
     "text": [
      "\n"
     ]
    },
    {
     "name": "stdout",
     "output_type": "stream",
     "text": [
      "\n",
      "      Epoch    GPU_mem   box_loss   cls_loss   dfl_loss  Instances       Size\n"
     ]
    },
    {
     "name": "stderr",
     "output_type": "stream",
     "text": [
      "     42/200      9.77G     0.9123     0.7371      1.053         74       1024: 100%|██████████| 13/13 [01:29<00:00,  6.\n",
      "                 Class     Images  Instances      Box(P          R      mAP50  mAP50-95): 100%|██████████| 2/2 [00:03<0"
     ]
    },
    {
     "name": "stdout",
     "output_type": "stream",
     "text": [
      "                   all         43        200      0.854      0.885       0.91      0.674\n"
     ]
    },
    {
     "name": "stderr",
     "output_type": "stream",
     "text": [
      "\n"
     ]
    },
    {
     "name": "stdout",
     "output_type": "stream",
     "text": [
      "\n",
      "      Epoch    GPU_mem   box_loss   cls_loss   dfl_loss  Instances       Size\n"
     ]
    },
    {
     "name": "stderr",
     "output_type": "stream",
     "text": [
      "     43/200      9.84G     0.8959     0.7033      1.049         40       1024: 100%|██████████| 13/13 [01:22<00:00,  6.\n",
      "                 Class     Images  Instances      Box(P          R      mAP50  mAP50-95): 100%|██████████| 2/2 [00:02<0"
     ]
    },
    {
     "name": "stdout",
     "output_type": "stream",
     "text": [
      "                   all         43        200      0.859      0.887      0.903      0.643\n"
     ]
    },
    {
     "name": "stderr",
     "output_type": "stream",
     "text": [
      "\n"
     ]
    },
    {
     "name": "stdout",
     "output_type": "stream",
     "text": [
      "\n",
      "      Epoch    GPU_mem   box_loss   cls_loss   dfl_loss  Instances       Size\n"
     ]
    },
    {
     "name": "stderr",
     "output_type": "stream",
     "text": [
      "     44/200      9.63G     0.8964     0.6699      1.046         60       1024: 100%|██████████| 13/13 [01:23<00:00,  6.\n",
      "                 Class     Images  Instances      Box(P          R      mAP50  mAP50-95): 100%|██████████| 2/2 [00:01<0"
     ]
    },
    {
     "name": "stdout",
     "output_type": "stream",
     "text": [
      "                   all         43        200      0.863      0.819      0.878       0.63\n"
     ]
    },
    {
     "name": "stderr",
     "output_type": "stream",
     "text": [
      "\n"
     ]
    },
    {
     "name": "stdout",
     "output_type": "stream",
     "text": [
      "\n",
      "      Epoch    GPU_mem   box_loss   cls_loss   dfl_loss  Instances       Size\n"
     ]
    },
    {
     "name": "stderr",
     "output_type": "stream",
     "text": [
      "     45/200      9.76G     0.9034     0.6935      1.047         67       1024: 100%|██████████| 13/13 [01:22<00:00,  6.\n",
      "                 Class     Images  Instances      Box(P          R      mAP50  mAP50-95): 100%|██████████| 2/2 [00:02<0"
     ]
    },
    {
     "name": "stdout",
     "output_type": "stream",
     "text": [
      "                   all         43        200      0.872      0.888      0.895      0.649\n"
     ]
    },
    {
     "name": "stderr",
     "output_type": "stream",
     "text": [
      "\n"
     ]
    },
    {
     "name": "stdout",
     "output_type": "stream",
     "text": [
      "\n",
      "      Epoch    GPU_mem   box_loss   cls_loss   dfl_loss  Instances       Size\n"
     ]
    },
    {
     "name": "stderr",
     "output_type": "stream",
     "text": [
      "     46/200      9.87G      0.905     0.6646      1.038         57       1024: 100%|██████████| 13/13 [01:23<00:00,  6.\n",
      "                 Class     Images  Instances      Box(P          R      mAP50  mAP50-95): 100%|██████████| 2/2 [00:01<0"
     ]
    },
    {
     "name": "stdout",
     "output_type": "stream",
     "text": [
      "                   all         43        200      0.842       0.88      0.862      0.636\n"
     ]
    },
    {
     "name": "stderr",
     "output_type": "stream",
     "text": [
      "\n"
     ]
    },
    {
     "name": "stdout",
     "output_type": "stream",
     "text": [
      "\n",
      "      Epoch    GPU_mem   box_loss   cls_loss   dfl_loss  Instances       Size\n"
     ]
    },
    {
     "name": "stderr",
     "output_type": "stream",
     "text": [
      "     47/200      9.79G     0.8806     0.6845       1.04         66       1024: 100%|██████████| 13/13 [01:26<00:00,  6.\n",
      "                 Class     Images  Instances      Box(P          R      mAP50  mAP50-95): 100%|██████████| 2/2 [00:01<0"
     ]
    },
    {
     "name": "stdout",
     "output_type": "stream",
     "text": [
      "                   all         43        200      0.837      0.905      0.907      0.665\n"
     ]
    },
    {
     "name": "stderr",
     "output_type": "stream",
     "text": [
      "\n"
     ]
    },
    {
     "name": "stdout",
     "output_type": "stream",
     "text": [
      "\n",
      "      Epoch    GPU_mem   box_loss   cls_loss   dfl_loss  Instances       Size\n"
     ]
    },
    {
     "name": "stderr",
     "output_type": "stream",
     "text": [
      "     48/200       9.8G     0.8932     0.6686      1.038         63       1024: 100%|██████████| 13/13 [01:28<00:00,  6.\n",
      "                 Class     Images  Instances      Box(P          R      mAP50  mAP50-95): 100%|██████████| 2/2 [00:01<0"
     ]
    },
    {
     "name": "stdout",
     "output_type": "stream",
     "text": [
      "                   all         43        200      0.869       0.88      0.897      0.637\n"
     ]
    },
    {
     "name": "stderr",
     "output_type": "stream",
     "text": [
      "\n"
     ]
    },
    {
     "name": "stdout",
     "output_type": "stream",
     "text": [
      "\n",
      "      Epoch    GPU_mem   box_loss   cls_loss   dfl_loss  Instances       Size\n"
     ]
    },
    {
     "name": "stderr",
     "output_type": "stream",
     "text": [
      "     49/200      9.83G     0.8875     0.6522      1.021         58       1024: 100%|██████████| 13/13 [01:25<00:00,  6.\n",
      "                 Class     Images  Instances      Box(P          R      mAP50  mAP50-95): 100%|██████████| 2/2 [00:02<0"
     ]
    },
    {
     "name": "stdout",
     "output_type": "stream",
     "text": [
      "                   all         43        200      0.863      0.855       0.88      0.644\n"
     ]
    },
    {
     "name": "stderr",
     "output_type": "stream",
     "text": [
      "\n"
     ]
    },
    {
     "name": "stdout",
     "output_type": "stream",
     "text": [
      "\n",
      "      Epoch    GPU_mem   box_loss   cls_loss   dfl_loss  Instances       Size\n"
     ]
    },
    {
     "name": "stderr",
     "output_type": "stream",
     "text": [
      "     50/200      9.71G     0.8738     0.6502      1.053         55       1024: 100%|██████████| 13/13 [01:21<00:00,  6.\n",
      "                 Class     Images  Instances      Box(P          R      mAP50  mAP50-95): 100%|██████████| 2/2 [00:01<0"
     ]
    },
    {
     "name": "stdout",
     "output_type": "stream",
     "text": [
      "                   all         43        200       0.85      0.881       0.89      0.656\n"
     ]
    },
    {
     "name": "stderr",
     "output_type": "stream",
     "text": [
      "\n"
     ]
    },
    {
     "name": "stdout",
     "output_type": "stream",
     "text": [
      "\n",
      "      Epoch    GPU_mem   box_loss   cls_loss   dfl_loss  Instances       Size\n"
     ]
    },
    {
     "name": "stderr",
     "output_type": "stream",
     "text": [
      "     51/200      9.83G     0.8331     0.6196      1.032         64       1024: 100%|██████████| 13/13 [01:25<00:00,  6.\n",
      "                 Class     Images  Instances      Box(P          R      mAP50  mAP50-95): 100%|██████████| 2/2 [00:02<0"
     ]
    },
    {
     "name": "stdout",
     "output_type": "stream",
     "text": [
      "                   all         43        200      0.851      0.885      0.896      0.658\n"
     ]
    },
    {
     "name": "stderr",
     "output_type": "stream",
     "text": [
      "\n"
     ]
    },
    {
     "name": "stdout",
     "output_type": "stream",
     "text": [
      "\n",
      "      Epoch    GPU_mem   box_loss   cls_loss   dfl_loss  Instances       Size\n"
     ]
    },
    {
     "name": "stderr",
     "output_type": "stream",
     "text": [
      "     52/200      9.61G     0.8701     0.6579      1.036         63       1024: 100%|██████████| 13/13 [01:20<00:00,  6.\n",
      "                 Class     Images  Instances      Box(P          R      mAP50  mAP50-95): 100%|██████████| 2/2 [00:02<0"
     ]
    },
    {
     "name": "stdout",
     "output_type": "stream",
     "text": [
      "                   all         43        200      0.836       0.89      0.895      0.659\n"
     ]
    },
    {
     "name": "stderr",
     "output_type": "stream",
     "text": [
      "\n"
     ]
    },
    {
     "name": "stdout",
     "output_type": "stream",
     "text": [
      "\n",
      "      Epoch    GPU_mem   box_loss   cls_loss   dfl_loss  Instances       Size\n"
     ]
    },
    {
     "name": "stderr",
     "output_type": "stream",
     "text": [
      "     53/200       9.6G     0.7927     0.6154      1.005         55       1024: 100%|██████████| 13/13 [01:29<00:00,  6.\n",
      "                 Class     Images  Instances      Box(P          R      mAP50  mAP50-95): 100%|██████████| 2/2 [00:03<0"
     ]
    },
    {
     "name": "stdout",
     "output_type": "stream",
     "text": [
      "                   all         43        200      0.847       0.86      0.881      0.643\n"
     ]
    },
    {
     "name": "stderr",
     "output_type": "stream",
     "text": [
      "\n"
     ]
    },
    {
     "name": "stdout",
     "output_type": "stream",
     "text": [
      "\n",
      "      Epoch    GPU_mem   box_loss   cls_loss   dfl_loss  Instances       Size\n"
     ]
    },
    {
     "name": "stderr",
     "output_type": "stream",
     "text": [
      "     54/200      9.62G     0.8739     0.6817      1.027         54       1024: 100%|██████████| 13/13 [01:31<00:00,  7.\n",
      "                 Class     Images  Instances      Box(P          R      mAP50  mAP50-95): 100%|██████████| 2/2 [00:01<0"
     ]
    },
    {
     "name": "stdout",
     "output_type": "stream",
     "text": [
      "                   all         43        200      0.855       0.88      0.902      0.661\n"
     ]
    },
    {
     "name": "stderr",
     "output_type": "stream",
     "text": [
      "\n"
     ]
    },
    {
     "name": "stdout",
     "output_type": "stream",
     "text": [
      "\n",
      "      Epoch    GPU_mem   box_loss   cls_loss   dfl_loss  Instances       Size\n"
     ]
    },
    {
     "name": "stderr",
     "output_type": "stream",
     "text": [
      "     55/200      9.85G     0.8508     0.6409      1.008         65       1024: 100%|██████████| 13/13 [01:29<00:00,  6.\n",
      "                 Class     Images  Instances      Box(P          R      mAP50  mAP50-95): 100%|██████████| 2/2 [00:01<0"
     ]
    },
    {
     "name": "stdout",
     "output_type": "stream",
     "text": [
      "                   all         43        200      0.844       0.87      0.861      0.615\n"
     ]
    },
    {
     "name": "stderr",
     "output_type": "stream",
     "text": [
      "\n"
     ]
    },
    {
     "name": "stdout",
     "output_type": "stream",
     "text": [
      "\n",
      "      Epoch    GPU_mem   box_loss   cls_loss   dfl_loss  Instances       Size\n"
     ]
    },
    {
     "name": "stderr",
     "output_type": "stream",
     "text": [
      "     56/200      9.79G      0.867     0.6756      1.024         31       1024: 100%|██████████| 13/13 [01:29<00:00,  6.\n",
      "                 Class     Images  Instances      Box(P          R      mAP50  mAP50-95): 100%|██████████| 2/2 [00:02<0"
     ]
    },
    {
     "name": "stdout",
     "output_type": "stream",
     "text": [
      "                   all         43        200      0.902       0.86      0.904      0.646\n"
     ]
    },
    {
     "name": "stderr",
     "output_type": "stream",
     "text": [
      "\n"
     ]
    },
    {
     "name": "stdout",
     "output_type": "stream",
     "text": [
      "\n",
      "      Epoch    GPU_mem   box_loss   cls_loss   dfl_loss  Instances       Size\n"
     ]
    },
    {
     "name": "stderr",
     "output_type": "stream",
     "text": [
      "     57/200      9.77G     0.8601     0.6449      1.021         58       1024: 100%|██████████| 13/13 [01:32<00:00,  7.\n",
      "                 Class     Images  Instances      Box(P          R      mAP50  mAP50-95): 100%|██████████| 2/2 [00:01<0"
     ]
    },
    {
     "name": "stdout",
     "output_type": "stream",
     "text": [
      "                   all         43        200      0.849       0.86      0.898      0.667\n"
     ]
    },
    {
     "name": "stderr",
     "output_type": "stream",
     "text": [
      "\n"
     ]
    },
    {
     "name": "stdout",
     "output_type": "stream",
     "text": [
      "\n",
      "      Epoch    GPU_mem   box_loss   cls_loss   dfl_loss  Instances       Size\n"
     ]
    },
    {
     "name": "stderr",
     "output_type": "stream",
     "text": [
      "     58/200      9.61G     0.8252     0.6007     0.9867         68       1024: 100%|██████████| 13/13 [01:21<00:00,  6.\n",
      "                 Class     Images  Instances      Box(P          R      mAP50  mAP50-95): 100%|██████████| 2/2 [00:01<0"
     ]
    },
    {
     "name": "stdout",
     "output_type": "stream",
     "text": [
      "                   all         43        200      0.821       0.86      0.858      0.621\n"
     ]
    },
    {
     "name": "stderr",
     "output_type": "stream",
     "text": [
      "\n"
     ]
    },
    {
     "name": "stdout",
     "output_type": "stream",
     "text": [
      "\n",
      "      Epoch    GPU_mem   box_loss   cls_loss   dfl_loss  Instances       Size\n"
     ]
    },
    {
     "name": "stderr",
     "output_type": "stream",
     "text": [
      "     59/200      9.53G     0.8269     0.6286      1.006         60       1024: 100%|██████████| 13/13 [01:26<00:00,  6.\n",
      "                 Class     Images  Instances      Box(P          R      mAP50  mAP50-95): 100%|██████████| 2/2 [00:01<0"
     ]
    },
    {
     "name": "stdout",
     "output_type": "stream",
     "text": [
      "                   all         43        200       0.84       0.84      0.874      0.639\n"
     ]
    },
    {
     "name": "stderr",
     "output_type": "stream",
     "text": [
      "\n"
     ]
    },
    {
     "name": "stdout",
     "output_type": "stream",
     "text": [
      "\n",
      "      Epoch    GPU_mem   box_loss   cls_loss   dfl_loss  Instances       Size\n"
     ]
    },
    {
     "name": "stderr",
     "output_type": "stream",
     "text": [
      "     60/200      9.62G      0.817       0.59      1.003         47       1024: 100%|██████████| 13/13 [01:27<00:00,  6.\n",
      "                 Class     Images  Instances      Box(P          R      mAP50  mAP50-95): 100%|██████████| 2/2 [00:01<0"
     ]
    },
    {
     "name": "stdout",
     "output_type": "stream",
     "text": [
      "                   all         43        200      0.895      0.875      0.899      0.652\n"
     ]
    },
    {
     "name": "stderr",
     "output_type": "stream",
     "text": [
      "\n"
     ]
    },
    {
     "name": "stdout",
     "output_type": "stream",
     "text": [
      "\n",
      "      Epoch    GPU_mem   box_loss   cls_loss   dfl_loss  Instances       Size\n"
     ]
    },
    {
     "name": "stderr",
     "output_type": "stream",
     "text": [
      "     61/200      9.76G     0.8069      0.596     0.9999         45       1024: 100%|██████████| 13/13 [01:27<00:00,  6.\n",
      "                 Class     Images  Instances      Box(P          R      mAP50  mAP50-95): 100%|██████████| 2/2 [00:01<0"
     ]
    },
    {
     "name": "stdout",
     "output_type": "stream",
     "text": [
      "                   all         43        200      0.865       0.88      0.899      0.659\n"
     ]
    },
    {
     "name": "stderr",
     "output_type": "stream",
     "text": [
      "\n"
     ]
    },
    {
     "name": "stdout",
     "output_type": "stream",
     "text": [
      "\n",
      "      Epoch    GPU_mem   box_loss   cls_loss   dfl_loss  Instances       Size\n"
     ]
    },
    {
     "name": "stderr",
     "output_type": "stream",
     "text": [
      "     62/200      9.64G     0.7844     0.6062      1.004         70       1024: 100%|██████████| 13/13 [01:16<00:00,  5.\n",
      "                 Class     Images  Instances      Box(P          R      mAP50  mAP50-95): 100%|██████████| 2/2 [00:02<0"
     ]
    },
    {
     "name": "stdout",
     "output_type": "stream",
     "text": [
      "                   all         43        200      0.872      0.845      0.882      0.653\n"
     ]
    },
    {
     "name": "stderr",
     "output_type": "stream",
     "text": [
      "\n"
     ]
    },
    {
     "name": "stdout",
     "output_type": "stream",
     "text": [
      "\n",
      "      Epoch    GPU_mem   box_loss   cls_loss   dfl_loss  Instances       Size\n"
     ]
    },
    {
     "name": "stderr",
     "output_type": "stream",
     "text": [
      "     63/200      9.81G     0.8251     0.5962      1.014         38       1024: 100%|██████████| 13/13 [01:29<00:00,  6.\n",
      "                 Class     Images  Instances      Box(P          R      mAP50  mAP50-95): 100%|██████████| 2/2 [00:01<0"
     ]
    },
    {
     "name": "stdout",
     "output_type": "stream",
     "text": [
      "                   all         43        200       0.91      0.845      0.909      0.663\n"
     ]
    },
    {
     "name": "stderr",
     "output_type": "stream",
     "text": [
      "\n"
     ]
    },
    {
     "name": "stdout",
     "output_type": "stream",
     "text": [
      "\n",
      "      Epoch    GPU_mem   box_loss   cls_loss   dfl_loss  Instances       Size\n"
     ]
    },
    {
     "name": "stderr",
     "output_type": "stream",
     "text": [
      "     64/200      9.79G     0.7904     0.5844     0.9971         43       1024: 100%|██████████| 13/13 [01:20<00:00,  6.\n",
      "                 Class     Images  Instances      Box(P          R      mAP50  mAP50-95): 100%|██████████| 2/2 [00:01<0"
     ]
    },
    {
     "name": "stdout",
     "output_type": "stream",
     "text": [
      "                   all         43        200      0.884      0.836      0.891      0.656\n"
     ]
    },
    {
     "name": "stderr",
     "output_type": "stream",
     "text": [
      "\n"
     ]
    },
    {
     "name": "stdout",
     "output_type": "stream",
     "text": [
      "\n",
      "      Epoch    GPU_mem   box_loss   cls_loss   dfl_loss  Instances       Size\n"
     ]
    },
    {
     "name": "stderr",
     "output_type": "stream",
     "text": [
      "     65/200       9.8G     0.8024     0.5935      1.016         47       1024: 100%|██████████| 13/13 [01:26<00:00,  6.\n",
      "                 Class     Images  Instances      Box(P          R      mAP50  mAP50-95): 100%|██████████| 2/2 [00:01<0"
     ]
    },
    {
     "name": "stdout",
     "output_type": "stream",
     "text": [
      "                   all         43        200      0.879      0.872      0.903      0.678\n"
     ]
    },
    {
     "name": "stderr",
     "output_type": "stream",
     "text": [
      "\n"
     ]
    },
    {
     "name": "stdout",
     "output_type": "stream",
     "text": [
      "\n",
      "      Epoch    GPU_mem   box_loss   cls_loss   dfl_loss  Instances       Size\n"
     ]
    },
    {
     "name": "stderr",
     "output_type": "stream",
     "text": [
      "     66/200      9.61G     0.8056     0.5929      1.007         46       1024: 100%|██████████| 13/13 [01:16<00:00,  5.\n",
      "                 Class     Images  Instances      Box(P          R      mAP50  mAP50-95): 100%|██████████| 2/2 [00:02<0"
     ]
    },
    {
     "name": "stdout",
     "output_type": "stream",
     "text": [
      "                   all         43        200      0.837      0.898      0.894      0.665\n"
     ]
    },
    {
     "name": "stderr",
     "output_type": "stream",
     "text": [
      "\n"
     ]
    },
    {
     "name": "stdout",
     "output_type": "stream",
     "text": [
      "\n",
      "      Epoch    GPU_mem   box_loss   cls_loss   dfl_loss  Instances       Size\n"
     ]
    },
    {
     "name": "stderr",
     "output_type": "stream",
     "text": [
      "     67/200       9.8G     0.8182     0.5789     0.9802         83       1024: 100%|██████████| 13/13 [01:28<00:00,  6.\n",
      "                 Class     Images  Instances      Box(P          R      mAP50  mAP50-95): 100%|██████████| 2/2 [00:01<0"
     ]
    },
    {
     "name": "stdout",
     "output_type": "stream",
     "text": [
      "                   all         43        200      0.818      0.925      0.882      0.655\n"
     ]
    },
    {
     "name": "stderr",
     "output_type": "stream",
     "text": [
      "\n"
     ]
    },
    {
     "name": "stdout",
     "output_type": "stream",
     "text": [
      "\n",
      "      Epoch    GPU_mem   box_loss   cls_loss   dfl_loss  Instances       Size\n"
     ]
    },
    {
     "name": "stderr",
     "output_type": "stream",
     "text": [
      "     68/200      9.62G     0.8147     0.5925      1.023         62       1024: 100%|██████████| 13/13 [01:22<00:00,  6.\n",
      "                 Class     Images  Instances      Box(P          R      mAP50  mAP50-95): 100%|██████████| 2/2 [00:01<0"
     ]
    },
    {
     "name": "stdout",
     "output_type": "stream",
     "text": [
      "                   all         43        200      0.883      0.903      0.885       0.64\n"
     ]
    },
    {
     "name": "stderr",
     "output_type": "stream",
     "text": [
      "\n"
     ]
    },
    {
     "name": "stdout",
     "output_type": "stream",
     "text": [
      "\n",
      "      Epoch    GPU_mem   box_loss   cls_loss   dfl_loss  Instances       Size\n"
     ]
    },
    {
     "name": "stderr",
     "output_type": "stream",
     "text": [
      "     69/200      9.62G     0.8122     0.5814      1.018         61       1024: 100%|██████████| 13/13 [01:21<00:00,  6.\n",
      "                 Class     Images  Instances      Box(P          R      mAP50  mAP50-95): 100%|██████████| 2/2 [00:01<0"
     ]
    },
    {
     "name": "stdout",
     "output_type": "stream",
     "text": [
      "                   all         43        200      0.869      0.925      0.902      0.674\n"
     ]
    },
    {
     "name": "stderr",
     "output_type": "stream",
     "text": [
      "\n"
     ]
    },
    {
     "name": "stdout",
     "output_type": "stream",
     "text": [
      "\n",
      "      Epoch    GPU_mem   box_loss   cls_loss   dfl_loss  Instances       Size\n"
     ]
    },
    {
     "name": "stderr",
     "output_type": "stream",
     "text": [
      "     70/200       9.8G     0.7949     0.5817       1.01         41       1024: 100%|██████████| 13/13 [01:23<00:00,  6.\n",
      "                 Class     Images  Instances      Box(P          R      mAP50  mAP50-95): 100%|██████████| 2/2 [00:04<0"
     ]
    },
    {
     "name": "stdout",
     "output_type": "stream",
     "text": [
      "                   all         43        200      0.859      0.925      0.919      0.664\n"
     ]
    },
    {
     "name": "stderr",
     "output_type": "stream",
     "text": [
      "\n"
     ]
    },
    {
     "name": "stdout",
     "output_type": "stream",
     "text": [
      "\n",
      "      Epoch    GPU_mem   box_loss   cls_loss   dfl_loss  Instances       Size\n"
     ]
    },
    {
     "name": "stderr",
     "output_type": "stream",
     "text": [
      "     71/200       9.8G     0.8253     0.5803     0.9936         55       1024: 100%|██████████| 13/13 [01:26<00:00,  6.\n",
      "                 Class     Images  Instances      Box(P          R      mAP50  mAP50-95): 100%|██████████| 2/2 [00:03<0"
     ]
    },
    {
     "name": "stdout",
     "output_type": "stream",
     "text": [
      "                   all         43        200      0.894       0.89      0.924      0.683\n"
     ]
    },
    {
     "name": "stderr",
     "output_type": "stream",
     "text": [
      "\n"
     ]
    },
    {
     "name": "stdout",
     "output_type": "stream",
     "text": [
      "\n",
      "      Epoch    GPU_mem   box_loss   cls_loss   dfl_loss  Instances       Size\n"
     ]
    },
    {
     "name": "stderr",
     "output_type": "stream",
     "text": [
      "     72/200      9.62G     0.7976     0.5737     0.9975         52       1024: 100%|██████████| 13/13 [01:25<00:00,  6.\n",
      "                 Class     Images  Instances      Box(P          R      mAP50  mAP50-95): 100%|██████████| 2/2 [00:02<0"
     ]
    },
    {
     "name": "stdout",
     "output_type": "stream",
     "text": [
      "                   all         43        200      0.887      0.865      0.889      0.659\n"
     ]
    },
    {
     "name": "stderr",
     "output_type": "stream",
     "text": [
      "\n"
     ]
    },
    {
     "name": "stdout",
     "output_type": "stream",
     "text": [
      "\n",
      "      Epoch    GPU_mem   box_loss   cls_loss   dfl_loss  Instances       Size\n"
     ]
    },
    {
     "name": "stderr",
     "output_type": "stream",
     "text": [
      "     73/200      9.77G     0.7754     0.5749     0.9957         58       1024: 100%|██████████| 13/13 [01:27<00:00,  6.\n",
      "                 Class     Images  Instances      Box(P          R      mAP50  mAP50-95): 100%|██████████| 2/2 [00:01<0"
     ]
    },
    {
     "name": "stdout",
     "output_type": "stream",
     "text": [
      "                   all         43        200      0.894      0.846      0.898      0.674\n"
     ]
    },
    {
     "name": "stderr",
     "output_type": "stream",
     "text": [
      "\n"
     ]
    },
    {
     "name": "stdout",
     "output_type": "stream",
     "text": [
      "\n",
      "      Epoch    GPU_mem   box_loss   cls_loss   dfl_loss  Instances       Size\n"
     ]
    },
    {
     "name": "stderr",
     "output_type": "stream",
     "text": [
      "     74/200      9.73G     0.7807     0.5799      1.004         45       1024: 100%|██████████| 13/13 [01:22<00:00,  6.\n",
      "                 Class     Images  Instances      Box(P          R      mAP50  mAP50-95): 100%|██████████| 2/2 [00:03<0"
     ]
    },
    {
     "name": "stdout",
     "output_type": "stream",
     "text": [
      "                   all         43        200      0.933      0.832      0.923      0.681\n"
     ]
    },
    {
     "name": "stderr",
     "output_type": "stream",
     "text": [
      "\n"
     ]
    },
    {
     "name": "stdout",
     "output_type": "stream",
     "text": [
      "\n",
      "      Epoch    GPU_mem   box_loss   cls_loss   dfl_loss  Instances       Size\n"
     ]
    },
    {
     "name": "stderr",
     "output_type": "stream",
     "text": [
      "     75/200      9.65G     0.7275     0.5358     0.9732         48       1024: 100%|██████████| 13/13 [01:25<00:00,  6.\n",
      "                 Class     Images  Instances      Box(P          R      mAP50  mAP50-95): 100%|██████████| 2/2 [00:03<0"
     ]
    },
    {
     "name": "stdout",
     "output_type": "stream",
     "text": [
      "                   all         43        200      0.872       0.87      0.922      0.696\n"
     ]
    },
    {
     "name": "stderr",
     "output_type": "stream",
     "text": [
      "\n"
     ]
    },
    {
     "name": "stdout",
     "output_type": "stream",
     "text": [
      "\n",
      "      Epoch    GPU_mem   box_loss   cls_loss   dfl_loss  Instances       Size\n"
     ]
    },
    {
     "name": "stderr",
     "output_type": "stream",
     "text": [
      "     76/200      9.81G     0.7747     0.5762     0.9806         57       1024: 100%|██████████| 13/13 [01:33<00:00,  7.\n",
      "                 Class     Images  Instances      Box(P          R      mAP50  mAP50-95): 100%|██████████| 2/2 [00:01<0"
     ]
    },
    {
     "name": "stdout",
     "output_type": "stream",
     "text": [
      "                   all         43        200      0.857      0.839      0.896      0.655\n"
     ]
    },
    {
     "name": "stderr",
     "output_type": "stream",
     "text": [
      "\n"
     ]
    },
    {
     "name": "stdout",
     "output_type": "stream",
     "text": [
      "\n",
      "      Epoch    GPU_mem   box_loss   cls_loss   dfl_loss  Instances       Size\n"
     ]
    },
    {
     "name": "stderr",
     "output_type": "stream",
     "text": [
      "     77/200       9.7G     0.7488     0.5368      0.973         71       1024: 100%|██████████| 13/13 [01:25<00:00,  6.\n",
      "                 Class     Images  Instances      Box(P          R      mAP50  mAP50-95): 100%|██████████| 2/2 [00:02<0"
     ]
    },
    {
     "name": "stdout",
     "output_type": "stream",
     "text": [
      "                   all         43        200      0.844      0.895      0.883      0.666\n"
     ]
    },
    {
     "name": "stderr",
     "output_type": "stream",
     "text": [
      "\n"
     ]
    },
    {
     "name": "stdout",
     "output_type": "stream",
     "text": [
      "\n",
      "      Epoch    GPU_mem   box_loss   cls_loss   dfl_loss  Instances       Size\n"
     ]
    },
    {
     "name": "stderr",
     "output_type": "stream",
     "text": [
      "     78/200      9.52G     0.8042      0.576      1.015         67       1024: 100%|██████████| 13/13 [01:26<00:00,  6.\n",
      "                 Class     Images  Instances      Box(P          R      mAP50  mAP50-95): 100%|██████████| 2/2 [00:01<0"
     ]
    },
    {
     "name": "stdout",
     "output_type": "stream",
     "text": [
      "                   all         43        200      0.869      0.905      0.901       0.67\n"
     ]
    },
    {
     "name": "stderr",
     "output_type": "stream",
     "text": [
      "\n"
     ]
    },
    {
     "name": "stdout",
     "output_type": "stream",
     "text": [
      "\n",
      "      Epoch    GPU_mem   box_loss   cls_loss   dfl_loss  Instances       Size\n"
     ]
    },
    {
     "name": "stderr",
     "output_type": "stream",
     "text": [
      "     79/200       9.8G     0.7885     0.5529      1.003         69       1024: 100%|██████████| 13/13 [01:32<00:00,  7.\n",
      "                 Class     Images  Instances      Box(P          R      mAP50  mAP50-95): 100%|██████████| 2/2 [00:01<0"
     ]
    },
    {
     "name": "stdout",
     "output_type": "stream",
     "text": [
      "                   all         43        200      0.895      0.893      0.915      0.686\n"
     ]
    },
    {
     "name": "stderr",
     "output_type": "stream",
     "text": [
      "\n"
     ]
    },
    {
     "name": "stdout",
     "output_type": "stream",
     "text": [
      "\n",
      "      Epoch    GPU_mem   box_loss   cls_loss   dfl_loss  Instances       Size\n"
     ]
    },
    {
     "name": "stderr",
     "output_type": "stream",
     "text": [
      "     80/200      9.62G     0.7966     0.5653      1.002         34       1024: 100%|██████████| 13/13 [01:25<00:00,  6.\n",
      "                 Class     Images  Instances      Box(P          R      mAP50  mAP50-95): 100%|██████████| 2/2 [00:02<0"
     ]
    },
    {
     "name": "stdout",
     "output_type": "stream",
     "text": [
      "                   all         43        200      0.885      0.886      0.913      0.684\n"
     ]
    },
    {
     "name": "stderr",
     "output_type": "stream",
     "text": [
      "\n"
     ]
    },
    {
     "name": "stdout",
     "output_type": "stream",
     "text": [
      "\n",
      "      Epoch    GPU_mem   box_loss   cls_loss   dfl_loss  Instances       Size\n"
     ]
    },
    {
     "name": "stderr",
     "output_type": "stream",
     "text": [
      "     81/200      9.82G     0.7975     0.5783       1.01         46       1024: 100%|██████████| 13/13 [01:29<00:00,  6.\n",
      "                 Class     Images  Instances      Box(P          R      mAP50  mAP50-95): 100%|██████████| 2/2 [00:02<0"
     ]
    },
    {
     "name": "stdout",
     "output_type": "stream",
     "text": [
      "                   all         43        200      0.918       0.88      0.909       0.68\n"
     ]
    },
    {
     "name": "stderr",
     "output_type": "stream",
     "text": [
      "\n"
     ]
    },
    {
     "name": "stdout",
     "output_type": "stream",
     "text": [
      "\n",
      "      Epoch    GPU_mem   box_loss   cls_loss   dfl_loss  Instances       Size\n"
     ]
    },
    {
     "name": "stderr",
     "output_type": "stream",
     "text": [
      "     82/200      9.79G     0.7843      0.556     0.9787         78       1024: 100%|██████████| 13/13 [01:26<00:00,  6.\n",
      "                 Class     Images  Instances      Box(P          R      mAP50  mAP50-95): 100%|██████████| 2/2 [00:01<0"
     ]
    },
    {
     "name": "stdout",
     "output_type": "stream",
     "text": [
      "                   all         43        200      0.862      0.865      0.887      0.674\n"
     ]
    },
    {
     "name": "stderr",
     "output_type": "stream",
     "text": [
      "\n"
     ]
    },
    {
     "name": "stdout",
     "output_type": "stream",
     "text": [
      "\n",
      "      Epoch    GPU_mem   box_loss   cls_loss   dfl_loss  Instances       Size\n"
     ]
    },
    {
     "name": "stderr",
     "output_type": "stream",
     "text": [
      "     83/200      9.63G     0.7493     0.5596     0.9715         45       1024: 100%|██████████| 13/13 [01:26<00:00,  6.\n",
      "                 Class     Images  Instances      Box(P          R      mAP50  mAP50-95): 100%|██████████| 2/2 [00:01<0"
     ]
    },
    {
     "name": "stdout",
     "output_type": "stream",
     "text": [
      "                   all         43        200      0.887       0.85       0.88      0.672\n"
     ]
    },
    {
     "name": "stderr",
     "output_type": "stream",
     "text": [
      "\n"
     ]
    },
    {
     "name": "stdout",
     "output_type": "stream",
     "text": [
      "\n",
      "      Epoch    GPU_mem   box_loss   cls_loss   dfl_loss  Instances       Size\n"
     ]
    },
    {
     "name": "stderr",
     "output_type": "stream",
     "text": [
      "     84/200      9.83G     0.7556     0.5925     0.9852         27       1024: 100%|██████████| 13/13 [01:29<00:00,  6.\n",
      "                 Class     Images  Instances      Box(P          R      mAP50  mAP50-95): 100%|██████████| 2/2 [00:01<0"
     ]
    },
    {
     "name": "stdout",
     "output_type": "stream",
     "text": [
      "                   all         43        200      0.816       0.86      0.866      0.644\n"
     ]
    },
    {
     "name": "stderr",
     "output_type": "stream",
     "text": [
      "\n"
     ]
    },
    {
     "name": "stdout",
     "output_type": "stream",
     "text": [
      "\n",
      "      Epoch    GPU_mem   box_loss   cls_loss   dfl_loss  Instances       Size\n"
     ]
    },
    {
     "name": "stderr",
     "output_type": "stream",
     "text": [
      "     85/200      9.57G     0.7494     0.5372     0.9712         49       1024: 100%|██████████| 13/13 [01:22<00:00,  6.\n",
      "                 Class     Images  Instances      Box(P          R      mAP50  mAP50-95): 100%|██████████| 2/2 [00:02<0"
     ]
    },
    {
     "name": "stdout",
     "output_type": "stream",
     "text": [
      "                   all         43        200      0.873      0.827      0.891      0.674\n"
     ]
    },
    {
     "name": "stderr",
     "output_type": "stream",
     "text": [
      "\n"
     ]
    },
    {
     "name": "stdout",
     "output_type": "stream",
     "text": [
      "\n",
      "      Epoch    GPU_mem   box_loss   cls_loss   dfl_loss  Instances       Size\n"
     ]
    },
    {
     "name": "stderr",
     "output_type": "stream",
     "text": [
      "     86/200       9.6G     0.7445     0.5433     0.9619         65       1024: 100%|██████████| 13/13 [01:24<00:00,  6.\n",
      "                 Class     Images  Instances      Box(P          R      mAP50  mAP50-95): 100%|██████████| 2/2 [00:02<0"
     ]
    },
    {
     "name": "stdout",
     "output_type": "stream",
     "text": [
      "                   all         43        200      0.892      0.815      0.894      0.688\n"
     ]
    },
    {
     "name": "stderr",
     "output_type": "stream",
     "text": [
      "\n"
     ]
    },
    {
     "name": "stdout",
     "output_type": "stream",
     "text": [
      "\n",
      "      Epoch    GPU_mem   box_loss   cls_loss   dfl_loss  Instances       Size\n"
     ]
    },
    {
     "name": "stderr",
     "output_type": "stream",
     "text": [
      "     87/200      9.81G     0.7279     0.5205     0.9574         49       1024: 100%|██████████| 13/13 [01:28<00:00,  6.\n",
      "                 Class     Images  Instances      Box(P          R      mAP50  mAP50-95): 100%|██████████| 2/2 [00:03<0"
     ]
    },
    {
     "name": "stdout",
     "output_type": "stream",
     "text": [
      "                   all         43        200      0.882       0.86      0.899      0.706\n"
     ]
    },
    {
     "name": "stderr",
     "output_type": "stream",
     "text": [
      "\n"
     ]
    },
    {
     "name": "stdout",
     "output_type": "stream",
     "text": [
      "\n",
      "      Epoch    GPU_mem   box_loss   cls_loss   dfl_loss  Instances       Size\n"
     ]
    },
    {
     "name": "stderr",
     "output_type": "stream",
     "text": [
      "     88/200      9.45G     0.7109     0.5175      0.952         79       1024: 100%|██████████| 13/13 [01:23<00:00,  6.\n",
      "                 Class     Images  Instances      Box(P          R      mAP50  mAP50-95): 100%|██████████| 2/2 [00:04<0"
     ]
    },
    {
     "name": "stdout",
     "output_type": "stream",
     "text": [
      "                   all         43        200      0.876        0.9      0.901      0.679\n"
     ]
    },
    {
     "name": "stderr",
     "output_type": "stream",
     "text": [
      "\n"
     ]
    },
    {
     "name": "stdout",
     "output_type": "stream",
     "text": [
      "\n",
      "      Epoch    GPU_mem   box_loss   cls_loss   dfl_loss  Instances       Size\n"
     ]
    },
    {
     "name": "stderr",
     "output_type": "stream",
     "text": [
      "     89/200      9.76G     0.7272     0.5243     0.9689         52       1024: 100%|██████████| 13/13 [01:20<00:00,  6.\n",
      "                 Class     Images  Instances      Box(P          R      mAP50  mAP50-95): 100%|██████████| 2/2 [00:03<0"
     ]
    },
    {
     "name": "stdout",
     "output_type": "stream",
     "text": [
      "                   all         43        200      0.907       0.88      0.912      0.683\n"
     ]
    },
    {
     "name": "stderr",
     "output_type": "stream",
     "text": [
      "\n"
     ]
    },
    {
     "name": "stdout",
     "output_type": "stream",
     "text": [
      "\n",
      "      Epoch    GPU_mem   box_loss   cls_loss   dfl_loss  Instances       Size\n"
     ]
    },
    {
     "name": "stderr",
     "output_type": "stream",
     "text": [
      "     90/200      9.58G     0.7075     0.4858     0.9524         70       1024: 100%|██████████| 13/13 [01:21<00:00,  6.\n",
      "                 Class     Images  Instances      Box(P          R      mAP50  mAP50-95): 100%|██████████| 2/2 [00:01<0"
     ]
    },
    {
     "name": "stdout",
     "output_type": "stream",
     "text": [
      "                   all         43        200      0.896      0.902      0.908      0.695\n"
     ]
    },
    {
     "name": "stderr",
     "output_type": "stream",
     "text": [
      "\n"
     ]
    },
    {
     "name": "stdout",
     "output_type": "stream",
     "text": [
      "\n",
      "      Epoch    GPU_mem   box_loss   cls_loss   dfl_loss  Instances       Size\n"
     ]
    },
    {
     "name": "stderr",
     "output_type": "stream",
     "text": [
      "     91/200      9.58G     0.7215     0.5083     0.9702         59       1024: 100%|██████████| 13/13 [01:21<00:00,  6.\n",
      "                 Class     Images  Instances      Box(P          R      mAP50  mAP50-95): 100%|██████████| 2/2 [00:02<0"
     ]
    },
    {
     "name": "stdout",
     "output_type": "stream",
     "text": [
      "                   all         43        200      0.923       0.87      0.905      0.692\n"
     ]
    },
    {
     "name": "stderr",
     "output_type": "stream",
     "text": [
      "\n"
     ]
    },
    {
     "name": "stdout",
     "output_type": "stream",
     "text": [
      "\n",
      "      Epoch    GPU_mem   box_loss   cls_loss   dfl_loss  Instances       Size\n"
     ]
    },
    {
     "name": "stderr",
     "output_type": "stream",
     "text": [
      "     92/200      9.79G     0.7201     0.5267      0.962         62       1024: 100%|██████████| 13/13 [01:27<00:00,  6.\n",
      "                 Class     Images  Instances      Box(P          R      mAP50  mAP50-95): 100%|██████████| 2/2 [00:01<0"
     ]
    },
    {
     "name": "stdout",
     "output_type": "stream",
     "text": [
      "                   all         43        200      0.919       0.85      0.918      0.702\n"
     ]
    },
    {
     "name": "stderr",
     "output_type": "stream",
     "text": [
      "\n"
     ]
    },
    {
     "name": "stdout",
     "output_type": "stream",
     "text": [
      "\n",
      "      Epoch    GPU_mem   box_loss   cls_loss   dfl_loss  Instances       Size\n"
     ]
    },
    {
     "name": "stderr",
     "output_type": "stream",
     "text": [
      "     93/200      9.41G     0.7184     0.5123      0.951         83       1024: 100%|██████████| 13/13 [01:15<00:00,  5.\n",
      "                 Class     Images  Instances      Box(P          R      mAP50  mAP50-95): 100%|██████████| 2/2 [00:06<0"
     ]
    },
    {
     "name": "stdout",
     "output_type": "stream",
     "text": [
      "                   all         43        200      0.913        0.9      0.926      0.705\n"
     ]
    },
    {
     "name": "stderr",
     "output_type": "stream",
     "text": [
      "\n"
     ]
    },
    {
     "name": "stdout",
     "output_type": "stream",
     "text": [
      "\n",
      "      Epoch    GPU_mem   box_loss   cls_loss   dfl_loss  Instances       Size\n"
     ]
    },
    {
     "name": "stderr",
     "output_type": "stream",
     "text": [
      "     94/200      9.78G     0.7256     0.4998      0.955         66       1024: 100%|██████████| 13/13 [01:24<00:00,  6.\n",
      "                 Class     Images  Instances      Box(P          R      mAP50  mAP50-95): 100%|██████████| 2/2 [00:02<0"
     ]
    },
    {
     "name": "stdout",
     "output_type": "stream",
     "text": [
      "                   all         43        200      0.893      0.895       0.92      0.702\n"
     ]
    },
    {
     "name": "stderr",
     "output_type": "stream",
     "text": [
      "\n"
     ]
    },
    {
     "name": "stdout",
     "output_type": "stream",
     "text": [
      "\n",
      "      Epoch    GPU_mem   box_loss   cls_loss   dfl_loss  Instances       Size\n"
     ]
    },
    {
     "name": "stderr",
     "output_type": "stream",
     "text": [
      "     95/200      9.83G      0.719     0.4977     0.9592         68       1024: 100%|██████████| 13/13 [01:33<00:00,  7.\n",
      "                 Class     Images  Instances      Box(P          R      mAP50  mAP50-95): 100%|██████████| 2/2 [00:01<0"
     ]
    },
    {
     "name": "stdout",
     "output_type": "stream",
     "text": [
      "                   all         43        200      0.876      0.851       0.89      0.685\n"
     ]
    },
    {
     "name": "stderr",
     "output_type": "stream",
     "text": [
      "\n"
     ]
    },
    {
     "name": "stdout",
     "output_type": "stream",
     "text": [
      "\n",
      "      Epoch    GPU_mem   box_loss   cls_loss   dfl_loss  Instances       Size\n"
     ]
    },
    {
     "name": "stderr",
     "output_type": "stream",
     "text": [
      "     96/200      9.81G     0.7113     0.5082     0.9643         66       1024: 100%|██████████| 13/13 [01:31<00:00,  7.\n",
      "                 Class     Images  Instances      Box(P          R      mAP50  mAP50-95): 100%|██████████| 2/2 [00:01<0"
     ]
    },
    {
     "name": "stdout",
     "output_type": "stream",
     "text": [
      "                   all         43        200      0.915       0.86      0.908      0.685\n"
     ]
    },
    {
     "name": "stderr",
     "output_type": "stream",
     "text": [
      "\n"
     ]
    },
    {
     "name": "stdout",
     "output_type": "stream",
     "text": [
      "\n",
      "      Epoch    GPU_mem   box_loss   cls_loss   dfl_loss  Instances       Size\n"
     ]
    },
    {
     "name": "stderr",
     "output_type": "stream",
     "text": [
      "     97/200      9.59G     0.6893     0.4933     0.9618         71       1024: 100%|██████████| 13/13 [01:22<00:00,  6.\n",
      "                 Class     Images  Instances      Box(P          R      mAP50  mAP50-95): 100%|██████████| 2/2 [00:02<0"
     ]
    },
    {
     "name": "stdout",
     "output_type": "stream",
     "text": [
      "                   all         43        200      0.911      0.873      0.907      0.686\n"
     ]
    },
    {
     "name": "stderr",
     "output_type": "stream",
     "text": [
      "\n"
     ]
    },
    {
     "name": "stdout",
     "output_type": "stream",
     "text": [
      "\n",
      "      Epoch    GPU_mem   box_loss   cls_loss   dfl_loss  Instances       Size\n"
     ]
    },
    {
     "name": "stderr",
     "output_type": "stream",
     "text": [
      "     98/200      9.73G       0.66     0.4695     0.9519         76       1024: 100%|██████████| 13/13 [01:24<00:00,  6.\n",
      "                 Class     Images  Instances      Box(P          R      mAP50  mAP50-95): 100%|██████████| 2/2 [00:02<0"
     ]
    },
    {
     "name": "stdout",
     "output_type": "stream",
     "text": [
      "                   all         43        200        0.9       0.89      0.922      0.691\n"
     ]
    },
    {
     "name": "stderr",
     "output_type": "stream",
     "text": [
      "\n"
     ]
    },
    {
     "name": "stdout",
     "output_type": "stream",
     "text": [
      "\n",
      "      Epoch    GPU_mem   box_loss   cls_loss   dfl_loss  Instances       Size\n"
     ]
    },
    {
     "name": "stderr",
     "output_type": "stream",
     "text": [
      "     99/200      9.83G     0.7032     0.4836     0.9542        113       1024: 100%|██████████| 13/13 [01:31<00:00,  7.\n",
      "                 Class     Images  Instances      Box(P          R      mAP50  mAP50-95): 100%|██████████| 2/2 [00:01<0"
     ]
    },
    {
     "name": "stdout",
     "output_type": "stream",
     "text": [
      "                   all         43        200      0.908      0.893      0.924      0.704\n"
     ]
    },
    {
     "name": "stderr",
     "output_type": "stream",
     "text": [
      "\n"
     ]
    },
    {
     "name": "stdout",
     "output_type": "stream",
     "text": [
      "\n",
      "      Epoch    GPU_mem   box_loss   cls_loss   dfl_loss  Instances       Size\n"
     ]
    },
    {
     "name": "stderr",
     "output_type": "stream",
     "text": [
      "    100/200      9.62G     0.6713     0.4849      0.953         90       1024: 100%|██████████| 13/13 [01:26<00:00,  6.\n",
      "                 Class     Images  Instances      Box(P          R      mAP50  mAP50-95): 100%|██████████| 2/2 [00:01<0"
     ]
    },
    {
     "name": "stdout",
     "output_type": "stream",
     "text": [
      "                   all         43        200      0.914      0.855      0.915       0.71\n"
     ]
    },
    {
     "name": "stderr",
     "output_type": "stream",
     "text": [
      "\n"
     ]
    },
    {
     "name": "stdout",
     "output_type": "stream",
     "text": [
      "\n",
      "      Epoch    GPU_mem   box_loss   cls_loss   dfl_loss  Instances       Size\n"
     ]
    },
    {
     "name": "stderr",
     "output_type": "stream",
     "text": [
      "    101/200      9.82G     0.7071     0.4949     0.9537         53       1024: 100%|██████████| 13/13 [01:27<00:00,  6.\n",
      "                 Class     Images  Instances      Box(P          R      mAP50  mAP50-95): 100%|██████████| 2/2 [00:02<0"
     ]
    },
    {
     "name": "stdout",
     "output_type": "stream",
     "text": [
      "                   all         43        200      0.882       0.91      0.915      0.696\n"
     ]
    },
    {
     "name": "stderr",
     "output_type": "stream",
     "text": [
      "\n"
     ]
    },
    {
     "name": "stdout",
     "output_type": "stream",
     "text": [
      "\n",
      "      Epoch    GPU_mem   box_loss   cls_loss   dfl_loss  Instances       Size\n"
     ]
    },
    {
     "name": "stderr",
     "output_type": "stream",
     "text": [
      "    102/200       9.6G     0.6782     0.4859     0.9459         61       1024: 100%|██████████| 13/13 [01:22<00:00,  6.\n",
      "                 Class     Images  Instances      Box(P          R      mAP50  mAP50-95): 100%|██████████| 2/2 [00:03<0"
     ]
    },
    {
     "name": "stdout",
     "output_type": "stream",
     "text": [
      "                   all         43        200      0.916      0.869      0.913      0.697\n"
     ]
    },
    {
     "name": "stderr",
     "output_type": "stream",
     "text": [
      "\n"
     ]
    },
    {
     "name": "stdout",
     "output_type": "stream",
     "text": [
      "\n",
      "      Epoch    GPU_mem   box_loss   cls_loss   dfl_loss  Instances       Size\n"
     ]
    },
    {
     "name": "stderr",
     "output_type": "stream",
     "text": [
      "    103/200      9.73G     0.6904     0.4936     0.9634         30       1024: 100%|██████████| 13/13 [01:28<00:00,  6.\n",
      "                 Class     Images  Instances      Box(P          R      mAP50  mAP50-95): 100%|██████████| 2/2 [00:01<0"
     ]
    },
    {
     "name": "stdout",
     "output_type": "stream",
     "text": [
      "                   all         43        200      0.891        0.9      0.919      0.708\n"
     ]
    },
    {
     "name": "stderr",
     "output_type": "stream",
     "text": [
      "\n"
     ]
    },
    {
     "name": "stdout",
     "output_type": "stream",
     "text": [
      "\n",
      "      Epoch    GPU_mem   box_loss   cls_loss   dfl_loss  Instances       Size\n"
     ]
    },
    {
     "name": "stderr",
     "output_type": "stream",
     "text": [
      "    104/200       9.8G     0.6883     0.4791     0.9439         48       1024: 100%|██████████| 13/13 [01:27<00:00,  6.\n",
      "                 Class     Images  Instances      Box(P          R      mAP50  mAP50-95): 100%|██████████| 2/2 [00:01<0"
     ]
    },
    {
     "name": "stdout",
     "output_type": "stream",
     "text": [
      "                   all         43        200      0.915       0.87      0.917      0.709\n"
     ]
    },
    {
     "name": "stderr",
     "output_type": "stream",
     "text": [
      "\n"
     ]
    },
    {
     "name": "stdout",
     "output_type": "stream",
     "text": [
      "\n",
      "      Epoch    GPU_mem   box_loss   cls_loss   dfl_loss  Instances       Size\n"
     ]
    },
    {
     "name": "stderr",
     "output_type": "stream",
     "text": [
      "    105/200       9.7G     0.6952     0.4972     0.9613         52       1024: 100%|██████████| 13/13 [01:25<00:00,  6.\n",
      "                 Class     Images  Instances      Box(P          R      mAP50  mAP50-95): 100%|██████████| 2/2 [00:02<0"
     ]
    },
    {
     "name": "stdout",
     "output_type": "stream",
     "text": [
      "                   all         43        200      0.895      0.885      0.922       0.71\n"
     ]
    },
    {
     "name": "stderr",
     "output_type": "stream",
     "text": [
      "\n"
     ]
    },
    {
     "name": "stdout",
     "output_type": "stream",
     "text": [
      "\n",
      "      Epoch    GPU_mem   box_loss   cls_loss   dfl_loss  Instances       Size\n"
     ]
    },
    {
     "name": "stderr",
     "output_type": "stream",
     "text": [
      "    106/200      9.83G     0.6791     0.4721     0.9488         56       1024: 100%|██████████| 13/13 [01:33<00:00,  7.\n",
      "                 Class     Images  Instances      Box(P          R      mAP50  mAP50-95): 100%|██████████| 2/2 [00:01<0"
     ]
    },
    {
     "name": "stdout",
     "output_type": "stream",
     "text": [
      "                   all         43        200      0.909       0.89       0.93      0.708\n"
     ]
    },
    {
     "name": "stderr",
     "output_type": "stream",
     "text": [
      "\n"
     ]
    },
    {
     "name": "stdout",
     "output_type": "stream",
     "text": [
      "\n",
      "      Epoch    GPU_mem   box_loss   cls_loss   dfl_loss  Instances       Size\n"
     ]
    },
    {
     "name": "stderr",
     "output_type": "stream",
     "text": [
      "    107/200      9.78G     0.6469      0.468     0.9352         70       1024: 100%|██████████| 13/13 [01:25<00:00,  6.\n",
      "                 Class     Images  Instances      Box(P          R      mAP50  mAP50-95): 100%|██████████| 2/2 [00:01<0"
     ]
    },
    {
     "name": "stdout",
     "output_type": "stream",
     "text": [
      "                   all         43        200      0.873      0.895      0.913      0.696\n"
     ]
    },
    {
     "name": "stderr",
     "output_type": "stream",
     "text": [
      "\n"
     ]
    },
    {
     "name": "stdout",
     "output_type": "stream",
     "text": [
      "\n",
      "      Epoch    GPU_mem   box_loss   cls_loss   dfl_loss  Instances       Size\n"
     ]
    },
    {
     "name": "stderr",
     "output_type": "stream",
     "text": [
      "    108/200      9.62G     0.6862     0.4804     0.9524         36       1024: 100%|██████████| 13/13 [01:21<00:00,  6.\n",
      "                 Class     Images  Instances      Box(P          R      mAP50  mAP50-95): 100%|██████████| 2/2 [00:01<0"
     ]
    },
    {
     "name": "stdout",
     "output_type": "stream",
     "text": [
      "                   all         43        200      0.894      0.889      0.923        0.7\n"
     ]
    },
    {
     "name": "stderr",
     "output_type": "stream",
     "text": [
      "\n"
     ]
    },
    {
     "name": "stdout",
     "output_type": "stream",
     "text": [
      "\n",
      "      Epoch    GPU_mem   box_loss   cls_loss   dfl_loss  Instances       Size\n"
     ]
    },
    {
     "name": "stderr",
     "output_type": "stream",
     "text": [
      "    109/200      9.78G     0.6341     0.4633     0.9216         70       1024: 100%|██████████| 13/13 [01:26<00:00,  6.\n",
      "                 Class     Images  Instances      Box(P          R      mAP50  mAP50-95): 100%|██████████| 2/2 [00:02<0"
     ]
    },
    {
     "name": "stdout",
     "output_type": "stream",
     "text": [
      "                   all         43        200       0.86       0.92       0.91      0.699\n"
     ]
    },
    {
     "name": "stderr",
     "output_type": "stream",
     "text": [
      "\n"
     ]
    },
    {
     "name": "stdout",
     "output_type": "stream",
     "text": [
      "\n",
      "      Epoch    GPU_mem   box_loss   cls_loss   dfl_loss  Instances       Size\n"
     ]
    },
    {
     "name": "stderr",
     "output_type": "stream",
     "text": [
      "    110/200      9.81G      0.655     0.4554     0.9438         58       1024: 100%|██████████| 13/13 [01:27<00:00,  6.\n",
      "                 Class     Images  Instances      Box(P          R      mAP50  mAP50-95): 100%|██████████| 2/2 [00:03<0"
     ]
    },
    {
     "name": "stdout",
     "output_type": "stream",
     "text": [
      "                   all         43        200      0.861      0.901      0.904      0.709\n"
     ]
    },
    {
     "name": "stderr",
     "output_type": "stream",
     "text": [
      "\n"
     ]
    },
    {
     "name": "stdout",
     "output_type": "stream",
     "text": [
      "\n",
      "      Epoch    GPU_mem   box_loss   cls_loss   dfl_loss  Instances       Size\n"
     ]
    },
    {
     "name": "stderr",
     "output_type": "stream",
     "text": [
      "    111/200      9.85G     0.6919     0.4834     0.9533         88       1024: 100%|██████████| 13/13 [01:28<00:00,  6.\n",
      "                 Class     Images  Instances      Box(P          R      mAP50  mAP50-95): 100%|██████████| 2/2 [00:01<0"
     ]
    },
    {
     "name": "stdout",
     "output_type": "stream",
     "text": [
      "                   all         43        200      0.893      0.875      0.916      0.698\n"
     ]
    },
    {
     "name": "stderr",
     "output_type": "stream",
     "text": [
      "\n"
     ]
    },
    {
     "name": "stdout",
     "output_type": "stream",
     "text": [
      "\n",
      "      Epoch    GPU_mem   box_loss   cls_loss   dfl_loss  Instances       Size\n"
     ]
    },
    {
     "name": "stderr",
     "output_type": "stream",
     "text": [
      "    112/200      9.82G     0.6702     0.4765      0.952         43       1024: 100%|██████████| 13/13 [01:27<00:00,  6.\n",
      "                 Class     Images  Instances      Box(P          R      mAP50  mAP50-95): 100%|██████████| 2/2 [00:01<0"
     ]
    },
    {
     "name": "stdout",
     "output_type": "stream",
     "text": [
      "                   all         43        200      0.875      0.913      0.909       0.71\n"
     ]
    },
    {
     "name": "stderr",
     "output_type": "stream",
     "text": [
      "\n"
     ]
    },
    {
     "name": "stdout",
     "output_type": "stream",
     "text": [
      "\n",
      "      Epoch    GPU_mem   box_loss   cls_loss   dfl_loss  Instances       Size\n"
     ]
    },
    {
     "name": "stderr",
     "output_type": "stream",
     "text": [
      "    113/200      9.79G     0.6991     0.4791     0.9535         23       1024: 100%|██████████| 13/13 [01:26<00:00,  6.\n",
      "                 Class     Images  Instances      Box(P          R      mAP50  mAP50-95): 100%|██████████| 2/2 [00:01<0"
     ]
    },
    {
     "name": "stdout",
     "output_type": "stream",
     "text": [
      "                   all         43        200      0.889       0.91      0.905      0.703\n"
     ]
    },
    {
     "name": "stderr",
     "output_type": "stream",
     "text": [
      "\n"
     ]
    },
    {
     "name": "stdout",
     "output_type": "stream",
     "text": [
      "\n",
      "      Epoch    GPU_mem   box_loss   cls_loss   dfl_loss  Instances       Size\n"
     ]
    },
    {
     "name": "stderr",
     "output_type": "stream",
     "text": [
      "    114/200       9.8G     0.6443     0.4598     0.9288         40       1024: 100%|██████████| 13/13 [01:26<00:00,  6.\n",
      "                 Class     Images  Instances      Box(P          R      mAP50  mAP50-95): 100%|██████████| 2/2 [00:01<0"
     ]
    },
    {
     "name": "stdout",
     "output_type": "stream",
     "text": [
      "                   all         43        200      0.931      0.875      0.922      0.704\n"
     ]
    },
    {
     "name": "stderr",
     "output_type": "stream",
     "text": [
      "\n"
     ]
    },
    {
     "name": "stdout",
     "output_type": "stream",
     "text": [
      "\n",
      "      Epoch    GPU_mem   box_loss   cls_loss   dfl_loss  Instances       Size\n"
     ]
    },
    {
     "name": "stderr",
     "output_type": "stream",
     "text": [
      "    115/200      9.61G     0.6382     0.4474     0.9381         47       1024: 100%|██████████| 13/13 [01:22<00:00,  6.\n",
      "                 Class     Images  Instances      Box(P          R      mAP50  mAP50-95): 100%|██████████| 2/2 [00:01<0"
     ]
    },
    {
     "name": "stdout",
     "output_type": "stream",
     "text": [
      "                   all         43        200      0.905      0.902       0.92      0.715\n"
     ]
    },
    {
     "name": "stderr",
     "output_type": "stream",
     "text": [
      "\n"
     ]
    },
    {
     "name": "stdout",
     "output_type": "stream",
     "text": [
      "\n",
      "      Epoch    GPU_mem   box_loss   cls_loss   dfl_loss  Instances       Size\n"
     ]
    },
    {
     "name": "stderr",
     "output_type": "stream",
     "text": [
      "    116/200      9.79G     0.6643     0.4639     0.9343         46       1024: 100%|██████████| 13/13 [01:29<00:00,  6.\n",
      "                 Class     Images  Instances      Box(P          R      mAP50  mAP50-95): 100%|██████████| 2/2 [00:01<0"
     ]
    },
    {
     "name": "stdout",
     "output_type": "stream",
     "text": [
      "                   all         43        200      0.916       0.89      0.916      0.706\n"
     ]
    },
    {
     "name": "stderr",
     "output_type": "stream",
     "text": [
      "\n"
     ]
    },
    {
     "name": "stdout",
     "output_type": "stream",
     "text": [
      "\n",
      "      Epoch    GPU_mem   box_loss   cls_loss   dfl_loss  Instances       Size\n"
     ]
    },
    {
     "name": "stderr",
     "output_type": "stream",
     "text": [
      "    117/200      9.55G     0.6574      0.457      0.919         65       1024: 100%|██████████| 13/13 [01:21<00:00,  6.\n",
      "                 Class     Images  Instances      Box(P          R      mAP50  mAP50-95): 100%|██████████| 2/2 [00:02<0"
     ]
    },
    {
     "name": "stdout",
     "output_type": "stream",
     "text": [
      "                   all         43        200      0.918      0.894      0.929      0.705\n"
     ]
    },
    {
     "name": "stderr",
     "output_type": "stream",
     "text": [
      "\n"
     ]
    },
    {
     "name": "stdout",
     "output_type": "stream",
     "text": [
      "\n",
      "      Epoch    GPU_mem   box_loss   cls_loss   dfl_loss  Instances       Size\n"
     ]
    },
    {
     "name": "stderr",
     "output_type": "stream",
     "text": [
      "    118/200      9.57G     0.6424     0.4435     0.9299         70       1024: 100%|██████████| 13/13 [01:17<00:00,  5.\n",
      "                 Class     Images  Instances      Box(P          R      mAP50  mAP50-95): 100%|██████████| 2/2 [00:01<0"
     ]
    },
    {
     "name": "stdout",
     "output_type": "stream",
     "text": [
      "                   all         43        200      0.918      0.895      0.926       0.73\n"
     ]
    },
    {
     "name": "stderr",
     "output_type": "stream",
     "text": [
      "\n"
     ]
    },
    {
     "name": "stdout",
     "output_type": "stream",
     "text": [
      "\n",
      "      Epoch    GPU_mem   box_loss   cls_loss   dfl_loss  Instances       Size\n"
     ]
    },
    {
     "name": "stderr",
     "output_type": "stream",
     "text": [
      "    119/200      9.65G     0.6685      0.458     0.9451         73       1024: 100%|██████████| 13/13 [01:25<00:00,  6.\n",
      "                 Class     Images  Instances      Box(P          R      mAP50  mAP50-95): 100%|██████████| 2/2 [00:01<0"
     ]
    },
    {
     "name": "stdout",
     "output_type": "stream",
     "text": [
      "                   all         43        200      0.898      0.895      0.918      0.718\n"
     ]
    },
    {
     "name": "stderr",
     "output_type": "stream",
     "text": [
      "\n"
     ]
    },
    {
     "name": "stdout",
     "output_type": "stream",
     "text": [
      "\n",
      "      Epoch    GPU_mem   box_loss   cls_loss   dfl_loss  Instances       Size\n"
     ]
    },
    {
     "name": "stderr",
     "output_type": "stream",
     "text": [
      "    120/200      9.64G     0.6636      0.459     0.9386         46       1024: 100%|██████████| 13/13 [01:18<00:00,  6.\n",
      "                 Class     Images  Instances      Box(P          R      mAP50  mAP50-95): 100%|██████████| 2/2 [00:02<0"
     ]
    },
    {
     "name": "stdout",
     "output_type": "stream",
     "text": [
      "                   all         43        200      0.888       0.93       0.93      0.724\n"
     ]
    },
    {
     "name": "stderr",
     "output_type": "stream",
     "text": [
      "\n"
     ]
    },
    {
     "name": "stdout",
     "output_type": "stream",
     "text": [
      "\n",
      "      Epoch    GPU_mem   box_loss   cls_loss   dfl_loss  Instances       Size\n"
     ]
    },
    {
     "name": "stderr",
     "output_type": "stream",
     "text": [
      "    121/200      9.76G     0.6328     0.4358     0.9254         69       1024: 100%|██████████| 13/13 [01:23<00:00,  6.\n",
      "                 Class     Images  Instances      Box(P          R      mAP50  mAP50-95): 100%|██████████| 2/2 [00:02<0"
     ]
    },
    {
     "name": "stdout",
     "output_type": "stream",
     "text": [
      "                   all         43        200       0.88      0.915      0.926      0.715\n"
     ]
    },
    {
     "name": "stderr",
     "output_type": "stream",
     "text": [
      "\n"
     ]
    },
    {
     "name": "stdout",
     "output_type": "stream",
     "text": [
      "\n",
      "      Epoch    GPU_mem   box_loss   cls_loss   dfl_loss  Instances       Size\n"
     ]
    },
    {
     "name": "stderr",
     "output_type": "stream",
     "text": [
      "    122/200      9.48G     0.6523     0.4413     0.9359        155       1024: 100%|██████████| 13/13 [01:19<00:00,  6.\n",
      "                 Class     Images  Instances      Box(P          R      mAP50  mAP50-95): 100%|██████████| 2/2 [00:05<0"
     ]
    },
    {
     "name": "stdout",
     "output_type": "stream",
     "text": [
      "                   all         43        200      0.897       0.92      0.916      0.718\n"
     ]
    },
    {
     "name": "stderr",
     "output_type": "stream",
     "text": [
      "\n"
     ]
    },
    {
     "name": "stdout",
     "output_type": "stream",
     "text": [
      "\n",
      "      Epoch    GPU_mem   box_loss   cls_loss   dfl_loss  Instances       Size\n"
     ]
    },
    {
     "name": "stderr",
     "output_type": "stream",
     "text": [
      "    123/200      9.73G       0.66     0.4519     0.9409         47       1024: 100%|██████████| 13/13 [01:29<00:00,  6.\n",
      "                 Class     Images  Instances      Box(P          R      mAP50  mAP50-95): 100%|██████████| 2/2 [00:01<0"
     ]
    },
    {
     "name": "stdout",
     "output_type": "stream",
     "text": [
      "                   all         43        200      0.895      0.895      0.922       0.72\n"
     ]
    },
    {
     "name": "stderr",
     "output_type": "stream",
     "text": [
      "\n"
     ]
    },
    {
     "name": "stdout",
     "output_type": "stream",
     "text": [
      "\n",
      "      Epoch    GPU_mem   box_loss   cls_loss   dfl_loss  Instances       Size\n"
     ]
    },
    {
     "name": "stderr",
     "output_type": "stream",
     "text": [
      "    124/200      9.78G     0.6378     0.4375     0.9337         60       1024: 100%|██████████| 13/13 [01:28<00:00,  6.\n",
      "                 Class     Images  Instances      Box(P          R      mAP50  mAP50-95): 100%|██████████| 2/2 [00:01<0"
     ]
    },
    {
     "name": "stdout",
     "output_type": "stream",
     "text": [
      "                   all         43        200      0.873       0.92      0.917      0.713\n"
     ]
    },
    {
     "name": "stderr",
     "output_type": "stream",
     "text": [
      "\n"
     ]
    },
    {
     "name": "stdout",
     "output_type": "stream",
     "text": [
      "\n",
      "      Epoch    GPU_mem   box_loss   cls_loss   dfl_loss  Instances       Size\n"
     ]
    },
    {
     "name": "stderr",
     "output_type": "stream",
     "text": [
      "    125/200      9.58G     0.6339     0.4328      0.925         78       1024: 100%|██████████| 13/13 [01:24<00:00,  6.\n",
      "                 Class     Images  Instances      Box(P          R      mAP50  mAP50-95): 100%|██████████| 2/2 [00:02<0"
     ]
    },
    {
     "name": "stdout",
     "output_type": "stream",
     "text": [
      "                   all         43        200      0.889       0.91      0.927      0.714\n"
     ]
    },
    {
     "name": "stderr",
     "output_type": "stream",
     "text": [
      "\n"
     ]
    },
    {
     "name": "stdout",
     "output_type": "stream",
     "text": [
      "\n",
      "      Epoch    GPU_mem   box_loss   cls_loss   dfl_loss  Instances       Size\n"
     ]
    },
    {
     "name": "stderr",
     "output_type": "stream",
     "text": [
      "    126/200      9.61G      0.627     0.4272     0.9295        100       1024: 100%|██████████| 13/13 [01:17<00:00,  5.\n",
      "                 Class     Images  Instances      Box(P          R      mAP50  mAP50-95): 100%|██████████| 2/2 [00:01<0"
     ]
    },
    {
     "name": "stdout",
     "output_type": "stream",
     "text": [
      "                   all         43        200      0.871      0.905      0.924      0.718\n"
     ]
    },
    {
     "name": "stderr",
     "output_type": "stream",
     "text": [
      "\n"
     ]
    },
    {
     "name": "stdout",
     "output_type": "stream",
     "text": [
      "\n",
      "      Epoch    GPU_mem   box_loss   cls_loss   dfl_loss  Instances       Size\n"
     ]
    },
    {
     "name": "stderr",
     "output_type": "stream",
     "text": [
      "    127/200      9.81G     0.6284     0.4447     0.9237         69       1024: 100%|██████████| 13/13 [01:26<00:00,  6.\n",
      "                 Class     Images  Instances      Box(P          R      mAP50  mAP50-95): 100%|██████████| 2/2 [00:01<0"
     ]
    },
    {
     "name": "stdout",
     "output_type": "stream",
     "text": [
      "                   all         43        200      0.916      0.878      0.923      0.724\n"
     ]
    },
    {
     "name": "stderr",
     "output_type": "stream",
     "text": [
      "\n"
     ]
    },
    {
     "name": "stdout",
     "output_type": "stream",
     "text": [
      "\n",
      "      Epoch    GPU_mem   box_loss   cls_loss   dfl_loss  Instances       Size\n"
     ]
    },
    {
     "name": "stderr",
     "output_type": "stream",
     "text": [
      "    128/200      9.73G     0.6302     0.4388      0.937         43       1024: 100%|██████████| 13/13 [01:24<00:00,  6.\n",
      "                 Class     Images  Instances      Box(P          R      mAP50  mAP50-95): 100%|██████████| 2/2 [00:01<0"
     ]
    },
    {
     "name": "stdout",
     "output_type": "stream",
     "text": [
      "                   all         43        200      0.886      0.858      0.899      0.723\n"
     ]
    },
    {
     "name": "stderr",
     "output_type": "stream",
     "text": [
      "\n"
     ]
    },
    {
     "name": "stdout",
     "output_type": "stream",
     "text": [
      "\n",
      "      Epoch    GPU_mem   box_loss   cls_loss   dfl_loss  Instances       Size\n"
     ]
    },
    {
     "name": "stderr",
     "output_type": "stream",
     "text": [
      "    129/200      9.58G      0.598     0.4229     0.9249         77       1024: 100%|██████████| 13/13 [01:21<00:00,  6.\n",
      "                 Class     Images  Instances      Box(P          R      mAP50  mAP50-95): 100%|██████████| 2/2 [00:02<0"
     ]
    },
    {
     "name": "stdout",
     "output_type": "stream",
     "text": [
      "                   all         43        200      0.876      0.845      0.885      0.701\n"
     ]
    },
    {
     "name": "stderr",
     "output_type": "stream",
     "text": [
      "\n"
     ]
    },
    {
     "name": "stdout",
     "output_type": "stream",
     "text": [
      "\n",
      "      Epoch    GPU_mem   box_loss   cls_loss   dfl_loss  Instances       Size\n"
     ]
    },
    {
     "name": "stderr",
     "output_type": "stream",
     "text": [
      "    130/200       9.8G     0.6026     0.4385     0.9151         46       1024: 100%|██████████| 13/13 [01:25<00:00,  6.\n",
      "                 Class     Images  Instances      Box(P          R      mAP50  mAP50-95): 100%|██████████| 2/2 [00:04<0"
     ]
    },
    {
     "name": "stdout",
     "output_type": "stream",
     "text": [
      "                   all         43        200      0.893       0.89      0.916      0.724\n"
     ]
    },
    {
     "name": "stderr",
     "output_type": "stream",
     "text": [
      "\n"
     ]
    },
    {
     "name": "stdout",
     "output_type": "stream",
     "text": [
      "\n",
      "      Epoch    GPU_mem   box_loss   cls_loss   dfl_loss  Instances       Size\n"
     ]
    },
    {
     "name": "stderr",
     "output_type": "stream",
     "text": [
      "    131/200       9.6G     0.5922      0.407     0.9254         54       1024: 100%|██████████| 13/13 [01:26<00:00,  6.\n",
      "                 Class     Images  Instances      Box(P          R      mAP50  mAP50-95): 100%|██████████| 2/2 [00:03<0"
     ]
    },
    {
     "name": "stdout",
     "output_type": "stream",
     "text": [
      "                   all         43        200       0.93      0.868      0.921      0.732\n"
     ]
    },
    {
     "name": "stderr",
     "output_type": "stream",
     "text": [
      "\n"
     ]
    },
    {
     "name": "stdout",
     "output_type": "stream",
     "text": [
      "\n",
      "      Epoch    GPU_mem   box_loss   cls_loss   dfl_loss  Instances       Size\n"
     ]
    },
    {
     "name": "stderr",
     "output_type": "stream",
     "text": [
      "    132/200      9.78G     0.6273     0.4231      0.918         64       1024: 100%|██████████| 13/13 [01:24<00:00,  6.\n",
      "                 Class     Images  Instances      Box(P          R      mAP50  mAP50-95): 100%|██████████| 2/2 [00:01<0"
     ]
    },
    {
     "name": "stdout",
     "output_type": "stream",
     "text": [
      "                   all         43        200      0.897      0.895      0.908      0.699\n"
     ]
    },
    {
     "name": "stderr",
     "output_type": "stream",
     "text": [
      "\n"
     ]
    },
    {
     "name": "stdout",
     "output_type": "stream",
     "text": [
      "\n",
      "      Epoch    GPU_mem   box_loss   cls_loss   dfl_loss  Instances       Size\n"
     ]
    },
    {
     "name": "stderr",
     "output_type": "stream",
     "text": [
      "    133/200      9.77G     0.6326     0.4417     0.9349        104       1024: 100%|██████████| 13/13 [01:30<00:00,  6.\n",
      "                 Class     Images  Instances      Box(P          R      mAP50  mAP50-95): 100%|██████████| 2/2 [00:01<0"
     ]
    },
    {
     "name": "stdout",
     "output_type": "stream",
     "text": [
      "                   all         43        200       0.91      0.885      0.916      0.713\n"
     ]
    },
    {
     "name": "stderr",
     "output_type": "stream",
     "text": [
      "\n"
     ]
    },
    {
     "name": "stdout",
     "output_type": "stream",
     "text": [
      "\n",
      "      Epoch    GPU_mem   box_loss   cls_loss   dfl_loss  Instances       Size\n"
     ]
    },
    {
     "name": "stderr",
     "output_type": "stream",
     "text": [
      "    134/200      9.62G     0.6061      0.419     0.9139         48       1024: 100%|██████████| 13/13 [01:23<00:00,  6.\n",
      "                 Class     Images  Instances      Box(P          R      mAP50  mAP50-95): 100%|██████████| 2/2 [00:02<0"
     ]
    },
    {
     "name": "stdout",
     "output_type": "stream",
     "text": [
      "                   all         43        200      0.866      0.904      0.917      0.719\n"
     ]
    },
    {
     "name": "stderr",
     "output_type": "stream",
     "text": [
      "\n"
     ]
    },
    {
     "name": "stdout",
     "output_type": "stream",
     "text": [
      "\n",
      "      Epoch    GPU_mem   box_loss   cls_loss   dfl_loss  Instances       Size\n"
     ]
    },
    {
     "name": "stderr",
     "output_type": "stream",
     "text": [
      "    135/200      9.75G      0.605     0.4183     0.9194         72       1024: 100%|██████████| 13/13 [01:29<00:00,  6.\n",
      "                 Class     Images  Instances      Box(P          R      mAP50  mAP50-95): 100%|██████████| 2/2 [00:02<0"
     ]
    },
    {
     "name": "stdout",
     "output_type": "stream",
     "text": [
      "                   all         43        200      0.867       0.92      0.918      0.723\n"
     ]
    },
    {
     "name": "stderr",
     "output_type": "stream",
     "text": [
      "\n"
     ]
    },
    {
     "name": "stdout",
     "output_type": "stream",
     "text": [
      "\n",
      "      Epoch    GPU_mem   box_loss   cls_loss   dfl_loss  Instances       Size\n"
     ]
    },
    {
     "name": "stderr",
     "output_type": "stream",
     "text": [
      "    136/200       9.8G     0.6173     0.4116     0.9216         54       1024: 100%|██████████| 13/13 [01:31<00:00,  7.\n",
      "                 Class     Images  Instances      Box(P          R      mAP50  mAP50-95): 100%|██████████| 2/2 [00:01<0"
     ]
    },
    {
     "name": "stdout",
     "output_type": "stream",
     "text": [
      "                   all         43        200      0.909      0.895      0.919      0.732\n"
     ]
    },
    {
     "name": "stderr",
     "output_type": "stream",
     "text": [
      "\n"
     ]
    },
    {
     "name": "stdout",
     "output_type": "stream",
     "text": [
      "\n",
      "      Epoch    GPU_mem   box_loss   cls_loss   dfl_loss  Instances       Size\n"
     ]
    },
    {
     "name": "stderr",
     "output_type": "stream",
     "text": [
      "    137/200       9.7G     0.5897     0.4129     0.9229         61       1024: 100%|██████████| 13/13 [01:23<00:00,  6.\n",
      "                 Class     Images  Instances      Box(P          R      mAP50  mAP50-95): 100%|██████████| 2/2 [00:02<0"
     ]
    },
    {
     "name": "stdout",
     "output_type": "stream",
     "text": [
      "                   all         43        200       0.92      0.885      0.915      0.727\n"
     ]
    },
    {
     "name": "stderr",
     "output_type": "stream",
     "text": [
      "\n"
     ]
    },
    {
     "name": "stdout",
     "output_type": "stream",
     "text": [
      "\n",
      "      Epoch    GPU_mem   box_loss   cls_loss   dfl_loss  Instances       Size\n"
     ]
    },
    {
     "name": "stderr",
     "output_type": "stream",
     "text": [
      "    138/200      9.81G     0.6054     0.4085     0.9168         45       1024: 100%|██████████| 13/13 [01:30<00:00,  6.\n",
      "                 Class     Images  Instances      Box(P          R      mAP50  mAP50-95): 100%|██████████| 2/2 [00:02<0"
     ]
    },
    {
     "name": "stdout",
     "output_type": "stream",
     "text": [
      "                   all         43        200      0.931      0.895      0.931      0.733\n"
     ]
    },
    {
     "name": "stderr",
     "output_type": "stream",
     "text": [
      "\n"
     ]
    },
    {
     "name": "stdout",
     "output_type": "stream",
     "text": [
      "\n",
      "      Epoch    GPU_mem   box_loss   cls_loss   dfl_loss  Instances       Size\n"
     ]
    },
    {
     "name": "stderr",
     "output_type": "stream",
     "text": [
      "    139/200      9.84G     0.5857     0.3946     0.9078         45       1024: 100%|██████████| 13/13 [01:29<00:00,  6.\n",
      "                 Class     Images  Instances      Box(P          R      mAP50  mAP50-95): 100%|██████████| 2/2 [00:01<0"
     ]
    },
    {
     "name": "stdout",
     "output_type": "stream",
     "text": [
      "                   all         43        200      0.926       0.92      0.931      0.724\n"
     ]
    },
    {
     "name": "stderr",
     "output_type": "stream",
     "text": [
      "\n"
     ]
    },
    {
     "name": "stdout",
     "output_type": "stream",
     "text": [
      "\n",
      "      Epoch    GPU_mem   box_loss   cls_loss   dfl_loss  Instances       Size\n"
     ]
    },
    {
     "name": "stderr",
     "output_type": "stream",
     "text": [
      "    140/200      9.83G     0.5966     0.4029     0.9183         63       1024: 100%|██████████| 13/13 [01:27<00:00,  6.\n",
      "                 Class     Images  Instances      Box(P          R      mAP50  mAP50-95): 100%|██████████| 2/2 [00:01<0"
     ]
    },
    {
     "name": "stdout",
     "output_type": "stream",
     "text": [
      "                   all         43        200      0.914      0.925      0.925      0.723\n"
     ]
    },
    {
     "name": "stderr",
     "output_type": "stream",
     "text": [
      "\n"
     ]
    },
    {
     "name": "stdout",
     "output_type": "stream",
     "text": [
      "\n",
      "      Epoch    GPU_mem   box_loss   cls_loss   dfl_loss  Instances       Size\n"
     ]
    },
    {
     "name": "stderr",
     "output_type": "stream",
     "text": [
      "    141/200       9.7G     0.5793     0.3978     0.9136         73       1024: 100%|██████████| 13/13 [01:25<00:00,  6.\n",
      "                 Class     Images  Instances      Box(P          R      mAP50  mAP50-95): 100%|██████████| 2/2 [00:02<0"
     ]
    },
    {
     "name": "stdout",
     "output_type": "stream",
     "text": [
      "                   all         43        200      0.919      0.905      0.922      0.713\n"
     ]
    },
    {
     "name": "stderr",
     "output_type": "stream",
     "text": [
      "\n"
     ]
    },
    {
     "name": "stdout",
     "output_type": "stream",
     "text": [
      "\n",
      "      Epoch    GPU_mem   box_loss   cls_loss   dfl_loss  Instances       Size\n"
     ]
    },
    {
     "name": "stderr",
     "output_type": "stream",
     "text": [
      "    142/200      9.72G     0.6071     0.4123     0.9137         64       1024: 100%|██████████| 13/13 [01:28<00:00,  6.\n",
      "                 Class     Images  Instances      Box(P          R      mAP50  mAP50-95): 100%|██████████| 2/2 [00:04<0"
     ]
    },
    {
     "name": "stdout",
     "output_type": "stream",
     "text": [
      "                   all         43        200      0.917       0.89      0.911      0.705\n"
     ]
    },
    {
     "name": "stderr",
     "output_type": "stream",
     "text": [
      "\n"
     ]
    },
    {
     "name": "stdout",
     "output_type": "stream",
     "text": [
      "\n",
      "      Epoch    GPU_mem   box_loss   cls_loss   dfl_loss  Instances       Size\n"
     ]
    },
    {
     "name": "stderr",
     "output_type": "stream",
     "text": [
      "    143/200      9.85G     0.5841     0.4017     0.9194         40       1024: 100%|██████████| 13/13 [01:30<00:00,  6.\n",
      "                 Class     Images  Instances      Box(P          R      mAP50  mAP50-95): 100%|██████████| 2/2 [00:01<0"
     ]
    },
    {
     "name": "stdout",
     "output_type": "stream",
     "text": [
      "                   all         43        200      0.888       0.91      0.916      0.725\n"
     ]
    },
    {
     "name": "stderr",
     "output_type": "stream",
     "text": [
      "\n"
     ]
    },
    {
     "name": "stdout",
     "output_type": "stream",
     "text": [
      "\n",
      "      Epoch    GPU_mem   box_loss   cls_loss   dfl_loss  Instances       Size\n"
     ]
    },
    {
     "name": "stderr",
     "output_type": "stream",
     "text": [
      "    144/200      9.85G      0.593     0.4037     0.9056         54       1024: 100%|██████████| 13/13 [01:29<00:00,  6.\n",
      "                 Class     Images  Instances      Box(P          R      mAP50  mAP50-95): 100%|██████████| 2/2 [00:01<0"
     ]
    },
    {
     "name": "stdout",
     "output_type": "stream",
     "text": [
      "                   all         43        200      0.902      0.905      0.915      0.722\n"
     ]
    },
    {
     "name": "stderr",
     "output_type": "stream",
     "text": [
      "\n"
     ]
    },
    {
     "name": "stdout",
     "output_type": "stream",
     "text": [
      "\n",
      "      Epoch    GPU_mem   box_loss   cls_loss   dfl_loss  Instances       Size\n"
     ]
    },
    {
     "name": "stderr",
     "output_type": "stream",
     "text": [
      "    145/200      9.79G     0.5853     0.3939     0.9102         63       1024: 100%|██████████| 13/13 [01:28<00:00,  6.\n",
      "                 Class     Images  Instances      Box(P          R      mAP50  mAP50-95): 100%|██████████| 2/2 [00:01<0"
     ]
    },
    {
     "name": "stdout",
     "output_type": "stream",
     "text": [
      "                   all         43        200      0.908      0.925      0.921       0.73\n"
     ]
    },
    {
     "name": "stderr",
     "output_type": "stream",
     "text": [
      "\n"
     ]
    },
    {
     "name": "stdout",
     "output_type": "stream",
     "text": [
      "\n",
      "      Epoch    GPU_mem   box_loss   cls_loss   dfl_loss  Instances       Size\n"
     ]
    },
    {
     "name": "stderr",
     "output_type": "stream",
     "text": [
      "    146/200      9.74G     0.5542     0.3778      0.894         60       1024: 100%|██████████| 13/13 [01:15<00:00,  5.\n",
      "                 Class     Images  Instances      Box(P          R      mAP50  mAP50-95): 100%|██████████| 2/2 [00:02<0"
     ]
    },
    {
     "name": "stdout",
     "output_type": "stream",
     "text": [
      "                   all         43        200      0.908        0.9      0.915      0.729\n"
     ]
    },
    {
     "name": "stderr",
     "output_type": "stream",
     "text": [
      "\n"
     ]
    },
    {
     "name": "stdout",
     "output_type": "stream",
     "text": [
      "\n",
      "      Epoch    GPU_mem   box_loss   cls_loss   dfl_loss  Instances       Size\n"
     ]
    },
    {
     "name": "stderr",
     "output_type": "stream",
     "text": [
      "    147/200      9.62G     0.5597     0.3768     0.9015         68       1024: 100%|██████████| 13/13 [01:21<00:00,  6.\n",
      "                 Class     Images  Instances      Box(P          R      mAP50  mAP50-95): 100%|██████████| 2/2 [00:01<0"
     ]
    },
    {
     "name": "stdout",
     "output_type": "stream",
     "text": [
      "                   all         43        200      0.907      0.878      0.911       0.72\n"
     ]
    },
    {
     "name": "stderr",
     "output_type": "stream",
     "text": [
      "\n"
     ]
    },
    {
     "name": "stdout",
     "output_type": "stream",
     "text": [
      "\n",
      "      Epoch    GPU_mem   box_loss   cls_loss   dfl_loss  Instances       Size\n"
     ]
    },
    {
     "name": "stderr",
     "output_type": "stream",
     "text": [
      "    148/200      9.85G     0.5666     0.3861     0.9179         62       1024: 100%|██████████| 13/13 [01:26<00:00,  6.\n",
      "                 Class     Images  Instances      Box(P          R      mAP50  mAP50-95): 100%|██████████| 2/2 [00:01<0"
     ]
    },
    {
     "name": "stdout",
     "output_type": "stream",
     "text": [
      "                   all         43        200        0.9      0.897       0.92      0.727\n"
     ]
    },
    {
     "name": "stderr",
     "output_type": "stream",
     "text": [
      "\n"
     ]
    },
    {
     "name": "stdout",
     "output_type": "stream",
     "text": [
      "\n",
      "      Epoch    GPU_mem   box_loss   cls_loss   dfl_loss  Instances       Size\n"
     ]
    },
    {
     "name": "stderr",
     "output_type": "stream",
     "text": [
      "    149/200      9.83G     0.5537     0.3766      0.896         65       1024: 100%|██████████| 13/13 [01:26<00:00,  6.\n",
      "                 Class     Images  Instances      Box(P          R      mAP50  mAP50-95): 100%|██████████| 2/2 [00:01<0"
     ]
    },
    {
     "name": "stdout",
     "output_type": "stream",
     "text": [
      "                   all         43        200      0.876      0.885      0.909      0.719\n"
     ]
    },
    {
     "name": "stderr",
     "output_type": "stream",
     "text": [
      "\n"
     ]
    },
    {
     "name": "stdout",
     "output_type": "stream",
     "text": [
      "\n",
      "      Epoch    GPU_mem   box_loss   cls_loss   dfl_loss  Instances       Size\n"
     ]
    },
    {
     "name": "stderr",
     "output_type": "stream",
     "text": [
      "    150/200      9.85G      0.553     0.3741      0.902         64       1024: 100%|██████████| 13/13 [01:28<00:00,  6.\n",
      "                 Class     Images  Instances      Box(P          R      mAP50  mAP50-95): 100%|██████████| 2/2 [00:02<0"
     ]
    },
    {
     "name": "stdout",
     "output_type": "stream",
     "text": [
      "                   all         43        200      0.913      0.841      0.913      0.721\n"
     ]
    },
    {
     "name": "stderr",
     "output_type": "stream",
     "text": [
      "\n"
     ]
    },
    {
     "name": "stdout",
     "output_type": "stream",
     "text": [
      "\n",
      "      Epoch    GPU_mem   box_loss   cls_loss   dfl_loss  Instances       Size\n"
     ]
    },
    {
     "name": "stderr",
     "output_type": "stream",
     "text": [
      "    151/200      9.86G     0.5376     0.3801     0.8906         68       1024: 100%|██████████| 13/13 [01:25<00:00,  6.\n",
      "                 Class     Images  Instances      Box(P          R      mAP50  mAP50-95): 100%|██████████| 2/2 [00:02<0"
     ]
    },
    {
     "name": "stdout",
     "output_type": "stream",
     "text": [
      "                   all         43        200      0.887      0.901      0.918      0.734\n"
     ]
    },
    {
     "name": "stderr",
     "output_type": "stream",
     "text": [
      "\n"
     ]
    },
    {
     "name": "stdout",
     "output_type": "stream",
     "text": [
      "\n",
      "      Epoch    GPU_mem   box_loss   cls_loss   dfl_loss  Instances       Size\n"
     ]
    },
    {
     "name": "stderr",
     "output_type": "stream",
     "text": [
      "    152/200      9.79G     0.5402     0.3896     0.9222         35       1024: 100%|██████████| 13/13 [01:20<00:00,  6.\n",
      "                 Class     Images  Instances      Box(P          R      mAP50  mAP50-95): 100%|██████████| 2/2 [00:01<0"
     ]
    },
    {
     "name": "stdout",
     "output_type": "stream",
     "text": [
      "                   all         43        200      0.902        0.9      0.919      0.726\n"
     ]
    },
    {
     "name": "stderr",
     "output_type": "stream",
     "text": [
      "\n"
     ]
    },
    {
     "name": "stdout",
     "output_type": "stream",
     "text": [
      "\n",
      "      Epoch    GPU_mem   box_loss   cls_loss   dfl_loss  Instances       Size\n"
     ]
    },
    {
     "name": "stderr",
     "output_type": "stream",
     "text": [
      "    153/200      9.71G     0.5502     0.3835     0.9011         40       1024: 100%|██████████| 13/13 [01:22<00:00,  6.\n",
      "                 Class     Images  Instances      Box(P          R      mAP50  mAP50-95): 100%|██████████| 2/2 [00:02<0"
     ]
    },
    {
     "name": "stdout",
     "output_type": "stream",
     "text": [
      "                   all         43        200      0.933       0.86      0.913      0.731\n"
     ]
    },
    {
     "name": "stderr",
     "output_type": "stream",
     "text": [
      "\n"
     ]
    },
    {
     "name": "stdout",
     "output_type": "stream",
     "text": [
      "\n",
      "      Epoch    GPU_mem   box_loss   cls_loss   dfl_loss  Instances       Size\n"
     ]
    },
    {
     "name": "stderr",
     "output_type": "stream",
     "text": [
      "    154/200       9.8G     0.5439      0.374     0.8983         66       1024: 100%|██████████| 13/13 [01:27<00:00,  6.\n",
      "                 Class     Images  Instances      Box(P          R      mAP50  mAP50-95): 100%|██████████| 2/2 [00:01<0"
     ]
    },
    {
     "name": "stdout",
     "output_type": "stream",
     "text": [
      "                   all         43        200      0.931       0.88      0.915      0.734\n"
     ]
    },
    {
     "name": "stderr",
     "output_type": "stream",
     "text": [
      "\n"
     ]
    },
    {
     "name": "stdout",
     "output_type": "stream",
     "text": [
      "\n",
      "      Epoch    GPU_mem   box_loss   cls_loss   dfl_loss  Instances       Size\n"
     ]
    },
    {
     "name": "stderr",
     "output_type": "stream",
     "text": [
      "    155/200      9.61G     0.5561     0.3872     0.9058         51       1024: 100%|██████████| 13/13 [01:21<00:00,  6.\n",
      "                 Class     Images  Instances      Box(P          R      mAP50  mAP50-95): 100%|██████████| 2/2 [00:02<0"
     ]
    },
    {
     "name": "stdout",
     "output_type": "stream",
     "text": [
      "                   all         43        200       0.93      0.869      0.913      0.732\n"
     ]
    },
    {
     "name": "stderr",
     "output_type": "stream",
     "text": [
      "\n"
     ]
    },
    {
     "name": "stdout",
     "output_type": "stream",
     "text": [
      "\n",
      "      Epoch    GPU_mem   box_loss   cls_loss   dfl_loss  Instances       Size\n"
     ]
    },
    {
     "name": "stderr",
     "output_type": "stream",
     "text": [
      "    156/200      9.81G     0.5452     0.3775     0.9142         55       1024: 100%|██████████| 13/13 [01:30<00:00,  6.\n",
      "                 Class     Images  Instances      Box(P          R      mAP50  mAP50-95): 100%|██████████| 2/2 [00:01<0"
     ]
    },
    {
     "name": "stdout",
     "output_type": "stream",
     "text": [
      "                   all         43        200      0.887      0.895      0.913       0.73\n"
     ]
    },
    {
     "name": "stderr",
     "output_type": "stream",
     "text": [
      "\n"
     ]
    },
    {
     "name": "stdout",
     "output_type": "stream",
     "text": [
      "\n",
      "      Epoch    GPU_mem   box_loss   cls_loss   dfl_loss  Instances       Size\n"
     ]
    },
    {
     "name": "stderr",
     "output_type": "stream",
     "text": [
      "    157/200      9.48G      0.532     0.3684     0.8955         39       1024: 100%|██████████| 13/13 [01:25<00:00,  6.\n",
      "                 Class     Images  Instances      Box(P          R      mAP50  mAP50-95): 100%|██████████| 2/2 [00:03<0"
     ]
    },
    {
     "name": "stdout",
     "output_type": "stream",
     "text": [
      "                   all         43        200      0.898      0.885      0.918      0.738\n"
     ]
    },
    {
     "name": "stderr",
     "output_type": "stream",
     "text": [
      "\n"
     ]
    },
    {
     "name": "stdout",
     "output_type": "stream",
     "text": [
      "\n",
      "      Epoch    GPU_mem   box_loss   cls_loss   dfl_loss  Instances       Size\n"
     ]
    },
    {
     "name": "stderr",
     "output_type": "stream",
     "text": [
      "    158/200      9.78G      0.547     0.3849      0.912         91       1024: 100%|██████████| 13/13 [01:23<00:00,  6.\n",
      "                 Class     Images  Instances      Box(P          R      mAP50  mAP50-95): 100%|██████████| 2/2 [00:01<0"
     ]
    },
    {
     "name": "stdout",
     "output_type": "stream",
     "text": [
      "                   all         43        200      0.903      0.889      0.921      0.735\n"
     ]
    },
    {
     "name": "stderr",
     "output_type": "stream",
     "text": [
      "\n"
     ]
    },
    {
     "name": "stdout",
     "output_type": "stream",
     "text": [
      "\n",
      "      Epoch    GPU_mem   box_loss   cls_loss   dfl_loss  Instances       Size\n"
     ]
    },
    {
     "name": "stderr",
     "output_type": "stream",
     "text": [
      "    159/200      9.46G     0.5416     0.3721      0.915         41       1024: 100%|██████████| 13/13 [01:21<00:00,  6.\n",
      "                 Class     Images  Instances      Box(P          R      mAP50  mAP50-95): 100%|██████████| 2/2 [00:03<0"
     ]
    },
    {
     "name": "stdout",
     "output_type": "stream",
     "text": [
      "                   all         43        200      0.927      0.888      0.925       0.73\n"
     ]
    },
    {
     "name": "stderr",
     "output_type": "stream",
     "text": [
      "\n"
     ]
    },
    {
     "name": "stdout",
     "output_type": "stream",
     "text": [
      "\n",
      "      Epoch    GPU_mem   box_loss   cls_loss   dfl_loss  Instances       Size\n"
     ]
    },
    {
     "name": "stderr",
     "output_type": "stream",
     "text": [
      "    160/200      9.72G     0.5282     0.3752     0.8949         52       1024: 100%|██████████| 13/13 [01:26<00:00,  6.\n",
      "                 Class     Images  Instances      Box(P          R      mAP50  mAP50-95): 100%|██████████| 2/2 [00:01<0"
     ]
    },
    {
     "name": "stdout",
     "output_type": "stream",
     "text": [
      "                   all         43        200       0.91      0.906      0.926      0.738\n"
     ]
    },
    {
     "name": "stderr",
     "output_type": "stream",
     "text": [
      "\n"
     ]
    },
    {
     "name": "stdout",
     "output_type": "stream",
     "text": [
      "\n",
      "      Epoch    GPU_mem   box_loss   cls_loss   dfl_loss  Instances       Size\n"
     ]
    },
    {
     "name": "stderr",
     "output_type": "stream",
     "text": [
      "    161/200      9.76G      0.558     0.3816      0.893         98       1024: 100%|██████████| 13/13 [01:24<00:00,  6.\n",
      "                 Class     Images  Instances      Box(P          R      mAP50  mAP50-95): 100%|██████████| 2/2 [00:02<0"
     ]
    },
    {
     "name": "stdout",
     "output_type": "stream",
     "text": [
      "                   all         43        200      0.906       0.88      0.924      0.727\n"
     ]
    },
    {
     "name": "stderr",
     "output_type": "stream",
     "text": [
      "\n"
     ]
    },
    {
     "name": "stdout",
     "output_type": "stream",
     "text": [
      "\n",
      "      Epoch    GPU_mem   box_loss   cls_loss   dfl_loss  Instances       Size\n"
     ]
    },
    {
     "name": "stderr",
     "output_type": "stream",
     "text": [
      "    162/200      9.79G     0.5533     0.3779     0.8881         82       1024: 100%|██████████| 13/13 [01:36<00:00,  7.\n",
      "                 Class     Images  Instances      Box(P          R      mAP50  mAP50-95): 100%|██████████| 2/2 [00:02<0"
     ]
    },
    {
     "name": "stdout",
     "output_type": "stream",
     "text": [
      "                   all         43        200      0.913       0.89      0.923      0.715\n"
     ]
    },
    {
     "name": "stderr",
     "output_type": "stream",
     "text": [
      "\n"
     ]
    },
    {
     "name": "stdout",
     "output_type": "stream",
     "text": [
      "\n",
      "      Epoch    GPU_mem   box_loss   cls_loss   dfl_loss  Instances       Size\n"
     ]
    },
    {
     "name": "stderr",
     "output_type": "stream",
     "text": [
      "    163/200      9.47G      0.547     0.3737     0.8991         82       1024: 100%|██████████| 13/13 [01:22<00:00,  6.\n",
      "                 Class     Images  Instances      Box(P          R      mAP50  mAP50-95): 100%|██████████| 2/2 [00:04<0"
     ]
    },
    {
     "name": "stdout",
     "output_type": "stream",
     "text": [
      "                   all         43        200       0.93      0.865      0.915      0.709\n"
     ]
    },
    {
     "name": "stderr",
     "output_type": "stream",
     "text": [
      "\n"
     ]
    },
    {
     "name": "stdout",
     "output_type": "stream",
     "text": [
      "\n",
      "      Epoch    GPU_mem   box_loss   cls_loss   dfl_loss  Instances       Size\n"
     ]
    },
    {
     "name": "stderr",
     "output_type": "stream",
     "text": [
      "    164/200      9.85G     0.5359     0.3658     0.8946         61       1024: 100%|██████████| 13/13 [01:30<00:00,  7.\n",
      "                 Class     Images  Instances      Box(P          R      mAP50  mAP50-95): 100%|██████████| 2/2 [00:01<0"
     ]
    },
    {
     "name": "stdout",
     "output_type": "stream",
     "text": [
      "                   all         43        200      0.936      0.845      0.916      0.724\n"
     ]
    },
    {
     "name": "stderr",
     "output_type": "stream",
     "text": [
      "\n"
     ]
    },
    {
     "name": "stdout",
     "output_type": "stream",
     "text": [
      "\n",
      "      Epoch    GPU_mem   box_loss   cls_loss   dfl_loss  Instances       Size\n"
     ]
    },
    {
     "name": "stderr",
     "output_type": "stream",
     "text": [
      "    165/200      9.79G     0.5216      0.349     0.8928         57       1024: 100%|██████████| 13/13 [01:26<00:00,  6.\n",
      "                 Class     Images  Instances      Box(P          R      mAP50  mAP50-95): 100%|██████████| 2/2 [00:02<0"
     ]
    },
    {
     "name": "stdout",
     "output_type": "stream",
     "text": [
      "                   all         43        200      0.917       0.87      0.919      0.726\n"
     ]
    },
    {
     "name": "stderr",
     "output_type": "stream",
     "text": [
      "\n"
     ]
    },
    {
     "name": "stdout",
     "output_type": "stream",
     "text": [
      "\n",
      "      Epoch    GPU_mem   box_loss   cls_loss   dfl_loss  Instances       Size\n"
     ]
    },
    {
     "name": "stderr",
     "output_type": "stream",
     "text": [
      "    166/200      9.79G     0.5318     0.3709     0.9057         67       1024: 100%|██████████| 13/13 [01:23<00:00,  6.\n",
      "                 Class     Images  Instances      Box(P          R      mAP50  mAP50-95): 100%|██████████| 2/2 [00:02<0"
     ]
    },
    {
     "name": "stdout",
     "output_type": "stream",
     "text": [
      "                   all         43        200      0.895      0.905      0.923      0.732\n"
     ]
    },
    {
     "name": "stderr",
     "output_type": "stream",
     "text": [
      "\n"
     ]
    },
    {
     "name": "stdout",
     "output_type": "stream",
     "text": [
      "\n",
      "      Epoch    GPU_mem   box_loss   cls_loss   dfl_loss  Instances       Size\n"
     ]
    },
    {
     "name": "stderr",
     "output_type": "stream",
     "text": [
      "    167/200      9.81G      0.533     0.3756     0.9005         53       1024: 100%|██████████| 13/13 [01:31<00:00,  7.\n",
      "                 Class     Images  Instances      Box(P          R      mAP50  mAP50-95): 100%|██████████| 2/2 [00:02<0"
     ]
    },
    {
     "name": "stdout",
     "output_type": "stream",
     "text": [
      "                   all         43        200      0.908      0.893      0.922      0.729\n"
     ]
    },
    {
     "name": "stderr",
     "output_type": "stream",
     "text": [
      "\n"
     ]
    },
    {
     "name": "stdout",
     "output_type": "stream",
     "text": [
      "\n",
      "      Epoch    GPU_mem   box_loss   cls_loss   dfl_loss  Instances       Size\n"
     ]
    },
    {
     "name": "stderr",
     "output_type": "stream",
     "text": [
      "    168/200      9.73G     0.5276     0.3592     0.8816         37       1024: 100%|██████████| 13/13 [01:28<00:00,  6.\n",
      "                 Class     Images  Instances      Box(P          R      mAP50  mAP50-95): 100%|██████████| 2/2 [00:01<0"
     ]
    },
    {
     "name": "stdout",
     "output_type": "stream",
     "text": [
      "                   all         43        200      0.905      0.905      0.921      0.728\n"
     ]
    },
    {
     "name": "stderr",
     "output_type": "stream",
     "text": [
      "\n"
     ]
    },
    {
     "name": "stdout",
     "output_type": "stream",
     "text": [
      "\n",
      "      Epoch    GPU_mem   box_loss   cls_loss   dfl_loss  Instances       Size\n"
     ]
    },
    {
     "name": "stderr",
     "output_type": "stream",
     "text": [
      "    169/200      9.75G     0.5264      0.361     0.8831         64       1024: 100%|██████████| 13/13 [01:27<00:00,  6.\n",
      "                 Class     Images  Instances      Box(P          R      mAP50  mAP50-95): 100%|██████████| 2/2 [00:02<0"
     ]
    },
    {
     "name": "stdout",
     "output_type": "stream",
     "text": [
      "                   all         43        200      0.912      0.895      0.918      0.728\n"
     ]
    },
    {
     "name": "stderr",
     "output_type": "stream",
     "text": [
      "\n"
     ]
    },
    {
     "name": "stdout",
     "output_type": "stream",
     "text": [
      "\n",
      "      Epoch    GPU_mem   box_loss   cls_loss   dfl_loss  Instances       Size\n"
     ]
    },
    {
     "name": "stderr",
     "output_type": "stream",
     "text": [
      "    170/200      9.48G     0.5423     0.3568     0.8953        119       1024: 100%|██████████| 13/13 [01:20<00:00,  6.\n",
      "                 Class     Images  Instances      Box(P          R      mAP50  mAP50-95): 100%|██████████| 2/2 [00:02<0"
     ]
    },
    {
     "name": "stdout",
     "output_type": "stream",
     "text": [
      "                   all         43        200       0.92      0.875      0.917      0.732\n"
     ]
    },
    {
     "name": "stderr",
     "output_type": "stream",
     "text": [
      "\n"
     ]
    },
    {
     "name": "stdout",
     "output_type": "stream",
     "text": [
      "\n",
      "      Epoch    GPU_mem   box_loss   cls_loss   dfl_loss  Instances       Size\n"
     ]
    },
    {
     "name": "stderr",
     "output_type": "stream",
     "text": [
      "    171/200       9.8G     0.5211     0.3605     0.8878         56       1024: 100%|██████████| 13/13 [01:25<00:00,  6.\n",
      "                 Class     Images  Instances      Box(P          R      mAP50  mAP50-95): 100%|██████████| 2/2 [00:02<0"
     ]
    },
    {
     "name": "stdout",
     "output_type": "stream",
     "text": [
      "                   all         43        200      0.916      0.895       0.92       0.73\n"
     ]
    },
    {
     "name": "stderr",
     "output_type": "stream",
     "text": [
      "\n"
     ]
    },
    {
     "name": "stdout",
     "output_type": "stream",
     "text": [
      "\n",
      "      Epoch    GPU_mem   box_loss   cls_loss   dfl_loss  Instances       Size\n"
     ]
    },
    {
     "name": "stderr",
     "output_type": "stream",
     "text": [
      "    172/200      9.62G     0.5227      0.361     0.8864         53       1024: 100%|██████████| 13/13 [01:25<00:00,  6.\n",
      "                 Class     Images  Instances      Box(P          R      mAP50  mAP50-95): 100%|██████████| 2/2 [00:01<0"
     ]
    },
    {
     "name": "stdout",
     "output_type": "stream",
     "text": [
      "                   all         43        200      0.913       0.89      0.918       0.73\n"
     ]
    },
    {
     "name": "stderr",
     "output_type": "stream",
     "text": [
      "\n"
     ]
    },
    {
     "name": "stdout",
     "output_type": "stream",
     "text": [
      "\n",
      "      Epoch    GPU_mem   box_loss   cls_loss   dfl_loss  Instances       Size\n"
     ]
    },
    {
     "name": "stderr",
     "output_type": "stream",
     "text": [
      "    173/200      9.44G     0.5121     0.3537     0.8914         51       1024: 100%|██████████| 13/13 [01:29<00:00,  6.\n",
      "                 Class     Images  Instances      Box(P          R      mAP50  mAP50-95): 100%|██████████| 2/2 [00:04<0"
     ]
    },
    {
     "name": "stdout",
     "output_type": "stream",
     "text": [
      "                   all         43        200      0.896      0.907      0.916       0.73\n"
     ]
    },
    {
     "name": "stderr",
     "output_type": "stream",
     "text": [
      "\n"
     ]
    },
    {
     "name": "stdout",
     "output_type": "stream",
     "text": [
      "\n",
      "      Epoch    GPU_mem   box_loss   cls_loss   dfl_loss  Instances       Size\n"
     ]
    },
    {
     "name": "stderr",
     "output_type": "stream",
     "text": [
      "    174/200       9.8G     0.4935     0.3421     0.8794         52       1024: 100%|██████████| 13/13 [01:36<00:00,  7.\n",
      "                 Class     Images  Instances      Box(P          R      mAP50  mAP50-95): 100%|██████████| 2/2 [00:02<0"
     ]
    },
    {
     "name": "stdout",
     "output_type": "stream",
     "text": [
      "                   all         43        200      0.884      0.911      0.915      0.727\n"
     ]
    },
    {
     "name": "stderr",
     "output_type": "stream",
     "text": [
      "\n"
     ]
    },
    {
     "name": "stdout",
     "output_type": "stream",
     "text": [
      "\n",
      "      Epoch    GPU_mem   box_loss   cls_loss   dfl_loss  Instances       Size\n"
     ]
    },
    {
     "name": "stderr",
     "output_type": "stream",
     "text": [
      "    175/200      9.64G     0.5158     0.3503     0.8851         46       1024: 100%|██████████| 13/13 [01:28<00:00,  6.\n",
      "                 Class     Images  Instances      Box(P          R      mAP50  mAP50-95): 100%|██████████| 2/2 [00:02<0"
     ]
    },
    {
     "name": "stdout",
     "output_type": "stream",
     "text": [
      "                   all         43        200      0.894      0.875      0.913      0.722\n"
     ]
    },
    {
     "name": "stderr",
     "output_type": "stream",
     "text": [
      "\n"
     ]
    },
    {
     "name": "stdout",
     "output_type": "stream",
     "text": [
      "\n",
      "      Epoch    GPU_mem   box_loss   cls_loss   dfl_loss  Instances       Size\n"
     ]
    },
    {
     "name": "stderr",
     "output_type": "stream",
     "text": [
      "    176/200      9.73G     0.5002     0.3429     0.8775         52       1024: 100%|██████████| 13/13 [01:51<00:00,  8.\n",
      "                 Class     Images  Instances      Box(P          R      mAP50  mAP50-95): 100%|██████████| 2/2 [00:01<0"
     ]
    },
    {
     "name": "stdout",
     "output_type": "stream",
     "text": [
      "                   all         43        200       0.88      0.895      0.914      0.723\n"
     ]
    },
    {
     "name": "stderr",
     "output_type": "stream",
     "text": [
      "\n"
     ]
    },
    {
     "name": "stdout",
     "output_type": "stream",
     "text": [
      "\n",
      "      Epoch    GPU_mem   box_loss   cls_loss   dfl_loss  Instances       Size\n"
     ]
    },
    {
     "name": "stderr",
     "output_type": "stream",
     "text": [
      "    177/200      9.57G      0.521     0.3533      0.887         83       1024: 100%|██████████| 13/13 [01:30<00:00,  6.\n",
      "                 Class     Images  Instances      Box(P          R      mAP50  mAP50-95): 100%|██████████| 2/2 [00:02<0"
     ]
    },
    {
     "name": "stdout",
     "output_type": "stream",
     "text": [
      "                   all         43        200      0.888      0.907      0.922      0.729\n"
     ]
    },
    {
     "name": "stderr",
     "output_type": "stream",
     "text": [
      "\n"
     ]
    },
    {
     "name": "stdout",
     "output_type": "stream",
     "text": [
      "\n",
      "      Epoch    GPU_mem   box_loss   cls_loss   dfl_loss  Instances       Size\n"
     ]
    },
    {
     "name": "stderr",
     "output_type": "stream",
     "text": [
      "    178/200      9.78G     0.5244     0.3549     0.8995         62       1024: 100%|██████████| 13/13 [01:55<00:00,  8.\n",
      "                 Class     Images  Instances      Box(P          R      mAP50  mAP50-95): 100%|██████████| 2/2 [00:03<0"
     ]
    },
    {
     "name": "stdout",
     "output_type": "stream",
     "text": [
      "                   all         43        200      0.891      0.902      0.924      0.728\n"
     ]
    },
    {
     "name": "stderr",
     "output_type": "stream",
     "text": [
      "\n"
     ]
    },
    {
     "name": "stdout",
     "output_type": "stream",
     "text": [
      "\n",
      "      Epoch    GPU_mem   box_loss   cls_loss   dfl_loss  Instances       Size\n"
     ]
    },
    {
     "name": "stderr",
     "output_type": "stream",
     "text": [
      "    179/200      9.73G     0.5094      0.345     0.8877         48       1024: 100%|██████████| 13/13 [01:47<00:00,  8.\n",
      "                 Class     Images  Instances      Box(P          R      mAP50  mAP50-95): 100%|██████████| 2/2 [00:03<0"
     ]
    },
    {
     "name": "stdout",
     "output_type": "stream",
     "text": [
      "                   all         43        200      0.911      0.885      0.924      0.729\n"
     ]
    },
    {
     "name": "stderr",
     "output_type": "stream",
     "text": [
      "\n"
     ]
    },
    {
     "name": "stdout",
     "output_type": "stream",
     "text": [
      "\n",
      "      Epoch    GPU_mem   box_loss   cls_loss   dfl_loss  Instances       Size\n"
     ]
    },
    {
     "name": "stderr",
     "output_type": "stream",
     "text": [
      "    180/200      9.66G     0.5008      0.349     0.8878         38       1024: 100%|██████████| 13/13 [01:48<00:00,  8.\n",
      "                 Class     Images  Instances      Box(P          R      mAP50  mAP50-95): 100%|██████████| 2/2 [00:02<0"
     ]
    },
    {
     "name": "stdout",
     "output_type": "stream",
     "text": [
      "                   all         43        200      0.877      0.925      0.919      0.726\n"
     ]
    },
    {
     "name": "stderr",
     "output_type": "stream",
     "text": [
      "\n"
     ]
    },
    {
     "name": "stdout",
     "output_type": "stream",
     "text": [
      "\n",
      "      Epoch    GPU_mem   box_loss   cls_loss   dfl_loss  Instances       Size\n"
     ]
    },
    {
     "name": "stderr",
     "output_type": "stream",
     "text": [
      "    181/200      9.81G     0.4972     0.3388     0.8872         45       1024: 100%|██████████| 13/13 [01:43<00:00,  7.\n",
      "                 Class     Images  Instances      Box(P          R      mAP50  mAP50-95): 100%|██████████| 2/2 [00:02<0"
     ]
    },
    {
     "name": "stdout",
     "output_type": "stream",
     "text": [
      "                   all         43        200      0.877      0.923      0.922       0.73\n"
     ]
    },
    {
     "name": "stderr",
     "output_type": "stream",
     "text": [
      "\n"
     ]
    },
    {
     "name": "stdout",
     "output_type": "stream",
     "text": [
      "\n",
      "      Epoch    GPU_mem   box_loss   cls_loss   dfl_loss  Instances       Size\n"
     ]
    },
    {
     "name": "stderr",
     "output_type": "stream",
     "text": [
      "    182/200      9.58G     0.5173     0.3525     0.8908         57       1024: 100%|██████████| 13/13 [01:27<00:00,  6.\n",
      "                 Class     Images  Instances      Box(P          R      mAP50  mAP50-95): 100%|██████████| 2/2 [00:02<0"
     ]
    },
    {
     "name": "stdout",
     "output_type": "stream",
     "text": [
      "                   all         43        200      0.897      0.914      0.922      0.725\n"
     ]
    },
    {
     "name": "stderr",
     "output_type": "stream",
     "text": [
      "\n"
     ]
    },
    {
     "name": "stdout",
     "output_type": "stream",
     "text": [
      "\n",
      "      Epoch    GPU_mem   box_loss   cls_loss   dfl_loss  Instances       Size\n"
     ]
    },
    {
     "name": "stderr",
     "output_type": "stream",
     "text": [
      "    183/200       9.8G     0.4982     0.3446     0.8809         50       1024: 100%|██████████| 13/13 [01:37<00:00,  7.\n",
      "                 Class     Images  Instances      Box(P          R      mAP50  mAP50-95): 100%|██████████| 2/2 [00:02<0"
     ]
    },
    {
     "name": "stdout",
     "output_type": "stream",
     "text": [
      "                   all         43        200      0.897      0.915      0.918      0.724\n"
     ]
    },
    {
     "name": "stderr",
     "output_type": "stream",
     "text": [
      "\n"
     ]
    },
    {
     "name": "stdout",
     "output_type": "stream",
     "text": [
      "\n",
      "      Epoch    GPU_mem   box_loss   cls_loss   dfl_loss  Instances       Size\n"
     ]
    },
    {
     "name": "stderr",
     "output_type": "stream",
     "text": [
      "    184/200       9.8G     0.4932     0.3458     0.8945         62       1024: 100%|██████████| 13/13 [01:41<00:00,  7.\n",
      "                 Class     Images  Instances      Box(P          R      mAP50  mAP50-95): 100%|██████████| 2/2 [00:01<0"
     ]
    },
    {
     "name": "stdout",
     "output_type": "stream",
     "text": [
      "                   all         43        200       0.91      0.905      0.917      0.726\n"
     ]
    },
    {
     "name": "stderr",
     "output_type": "stream",
     "text": [
      "\n"
     ]
    },
    {
     "name": "stdout",
     "output_type": "stream",
     "text": [
      "\n",
      "      Epoch    GPU_mem   box_loss   cls_loss   dfl_loss  Instances       Size\n"
     ]
    },
    {
     "name": "stderr",
     "output_type": "stream",
     "text": [
      "    185/200      9.77G     0.5075     0.3453     0.8766         45       1024: 100%|██████████| 13/13 [01:35<00:00,  7.\n",
      "                 Class     Images  Instances      Box(P          R      mAP50  mAP50-95): 100%|██████████| 2/2 [00:02<0"
     ]
    },
    {
     "name": "stdout",
     "output_type": "stream",
     "text": [
      "                   all         43        200      0.905      0.908      0.917      0.736\n"
     ]
    },
    {
     "name": "stderr",
     "output_type": "stream",
     "text": [
      "\n"
     ]
    },
    {
     "name": "stdout",
     "output_type": "stream",
     "text": [
      "\n",
      "      Epoch    GPU_mem   box_loss   cls_loss   dfl_loss  Instances       Size\n"
     ]
    },
    {
     "name": "stderr",
     "output_type": "stream",
     "text": [
      "    186/200      9.64G     0.4997     0.3368     0.8878         46       1024: 100%|██████████| 13/13 [01:38<00:00,  7.\n",
      "                 Class     Images  Instances      Box(P          R      mAP50  mAP50-95): 100%|██████████| 2/2 [00:04<0"
     ]
    },
    {
     "name": "stdout",
     "output_type": "stream",
     "text": [
      "                   all         43        200      0.901      0.895      0.919      0.731\n"
     ]
    },
    {
     "name": "stderr",
     "output_type": "stream",
     "text": [
      "\n"
     ]
    },
    {
     "name": "stdout",
     "output_type": "stream",
     "text": [
      "\n",
      "      Epoch    GPU_mem   box_loss   cls_loss   dfl_loss  Instances       Size\n"
     ]
    },
    {
     "name": "stderr",
     "output_type": "stream",
     "text": [
      "    187/200      9.86G     0.4602     0.3226     0.8729         54       1024: 100%|██████████| 13/13 [01:50<00:00,  8.\n",
      "                 Class     Images  Instances      Box(P          R      mAP50  mAP50-95): 100%|██████████| 2/2 [00:04<0"
     ]
    },
    {
     "name": "stdout",
     "output_type": "stream",
     "text": [
      "                   all         43        200      0.917      0.884      0.918      0.735\n"
     ]
    },
    {
     "name": "stderr",
     "output_type": "stream",
     "text": [
      "\n"
     ]
    },
    {
     "name": "stdout",
     "output_type": "stream",
     "text": [
      "\n",
      "      Epoch    GPU_mem   box_loss   cls_loss   dfl_loss  Instances       Size\n"
     ]
    },
    {
     "name": "stderr",
     "output_type": "stream",
     "text": [
      "    188/200      9.79G     0.4968     0.3355     0.8876         70       1024: 100%|██████████| 13/13 [01:36<00:00,  7.\n",
      "                 Class     Images  Instances      Box(P          R      mAP50  mAP50-95): 100%|██████████| 2/2 [00:01<0"
     ]
    },
    {
     "name": "stdout",
     "output_type": "stream",
     "text": [
      "                   all         43        200      0.922       0.89      0.918      0.734\n"
     ]
    },
    {
     "name": "stderr",
     "output_type": "stream",
     "text": [
      "\n"
     ]
    },
    {
     "name": "stdout",
     "output_type": "stream",
     "text": [
      "\n",
      "      Epoch    GPU_mem   box_loss   cls_loss   dfl_loss  Instances       Size\n"
     ]
    },
    {
     "name": "stderr",
     "output_type": "stream",
     "text": [
      "    189/200      9.83G     0.4843      0.329     0.8899         60       1024: 100%|██████████| 13/13 [01:43<00:00,  7.\n",
      "                 Class     Images  Instances      Box(P          R      mAP50  mAP50-95): 100%|██████████| 2/2 [00:02<0"
     ]
    },
    {
     "name": "stdout",
     "output_type": "stream",
     "text": [
      "                   all         43        200      0.919       0.89      0.923      0.734\n"
     ]
    },
    {
     "name": "stderr",
     "output_type": "stream",
     "text": [
      "\n"
     ]
    },
    {
     "name": "stdout",
     "output_type": "stream",
     "text": [
      "\n",
      "      Epoch    GPU_mem   box_loss   cls_loss   dfl_loss  Instances       Size\n"
     ]
    },
    {
     "name": "stderr",
     "output_type": "stream",
     "text": [
      "    190/200      9.81G     0.4803     0.3308     0.8667         76       1024: 100%|██████████| 13/13 [01:39<00:00,  7.\n",
      "                 Class     Images  Instances      Box(P          R      mAP50  mAP50-95): 100%|██████████| 2/2 [00:01<0"
     ]
    },
    {
     "name": "stdout",
     "output_type": "stream",
     "text": [
      "                   all         43        200      0.879      0.915      0.923      0.731\n"
     ]
    },
    {
     "name": "stderr",
     "output_type": "stream",
     "text": [
      "\n"
     ]
    },
    {
     "name": "stdout",
     "output_type": "stream",
     "text": [
      "Closing dataloader mosaic\n",
      "\n",
      "      Epoch    GPU_mem   box_loss   cls_loss   dfl_loss  Instances       Size\n"
     ]
    },
    {
     "name": "stderr",
     "output_type": "stream",
     "text": [
      "    191/200      8.86G     0.4694     0.3377     0.8538         53       1024: 100%|██████████| 13/13 [01:31<00:00,  7.\n",
      "                 Class     Images  Instances      Box(P          R      mAP50  mAP50-95): 100%|██████████| 2/2 [00:01<0\n"
     ]
    },
    {
     "name": "stdout",
     "output_type": "stream",
     "text": [
      "                   all         43        200      0.899        0.9      0.923      0.729\n",
      "\n",
      "      Epoch    GPU_mem   box_loss   cls_loss   dfl_loss  Instances       Size\n"
     ]
    },
    {
     "name": "stderr",
     "output_type": "stream",
     "text": [
      "    192/200      8.88G     0.4787      0.336     0.8604         20       1024: 100%|██████████| 13/13 [01:28<00:00,  6.\n",
      "                 Class     Images  Instances      Box(P          R      mAP50  mAP50-95): 100%|██████████| 2/2 [00:02<0"
     ]
    },
    {
     "name": "stdout",
     "output_type": "stream",
     "text": [
      "                   all         43        200      0.917      0.885      0.922      0.722\n"
     ]
    },
    {
     "name": "stderr",
     "output_type": "stream",
     "text": [
      "\n"
     ]
    },
    {
     "name": "stdout",
     "output_type": "stream",
     "text": [
      "\n",
      "      Epoch    GPU_mem   box_loss   cls_loss   dfl_loss  Instances       Size\n"
     ]
    },
    {
     "name": "stderr",
     "output_type": "stream",
     "text": [
      "    193/200       8.9G     0.4617     0.3195     0.8335         16       1024: 100%|██████████| 13/13 [01:37<00:00,  7.\n",
      "                 Class     Images  Instances      Box(P          R      mAP50  mAP50-95): 100%|██████████| 2/2 [00:01<0"
     ]
    },
    {
     "name": "stdout",
     "output_type": "stream",
     "text": [
      "                   all         43        200      0.909      0.896      0.923      0.727\n"
     ]
    },
    {
     "name": "stderr",
     "output_type": "stream",
     "text": [
      "\n"
     ]
    },
    {
     "name": "stdout",
     "output_type": "stream",
     "text": [
      "\n",
      "      Epoch    GPU_mem   box_loss   cls_loss   dfl_loss  Instances       Size\n"
     ]
    },
    {
     "name": "stderr",
     "output_type": "stream",
     "text": [
      "    194/200      8.89G     0.4552     0.3209     0.8541         19       1024: 100%|██████████| 13/13 [01:35<00:00,  7.\n",
      "                 Class     Images  Instances      Box(P          R      mAP50  mAP50-95): 100%|██████████| 2/2 [00:01<0\n"
     ]
    },
    {
     "name": "stdout",
     "output_type": "stream",
     "text": [
      "                   all         43        200      0.913      0.905      0.923      0.729\n",
      "\n",
      "      Epoch    GPU_mem   box_loss   cls_loss   dfl_loss  Instances       Size\n"
     ]
    },
    {
     "name": "stderr",
     "output_type": "stream",
     "text": [
      "    195/200      8.89G     0.4472     0.3158     0.8469         70       1024: 100%|██████████| 13/13 [01:28<00:00,  6.\n",
      "                 Class     Images  Instances      Box(P          R      mAP50  mAP50-95): 100%|██████████| 2/2 [00:01<0"
     ]
    },
    {
     "name": "stdout",
     "output_type": "stream",
     "text": [
      "                   all         43        200      0.916      0.905      0.924      0.731\n"
     ]
    },
    {
     "name": "stderr",
     "output_type": "stream",
     "text": [
      "\n"
     ]
    },
    {
     "name": "stdout",
     "output_type": "stream",
     "text": [
      "\n",
      "      Epoch    GPU_mem   box_loss   cls_loss   dfl_loss  Instances       Size\n"
     ]
    },
    {
     "name": "stderr",
     "output_type": "stream",
     "text": [
      "    196/200      8.92G      0.428     0.3125     0.8609         19       1024: 100%|██████████| 13/13 [01:30<00:00,  6.\n",
      "                 Class     Images  Instances      Box(P          R      mAP50  mAP50-95): 100%|██████████| 2/2 [00:01<0"
     ]
    },
    {
     "name": "stdout",
     "output_type": "stream",
     "text": [
      "                   all         43        200      0.909      0.901      0.925      0.736\n"
     ]
    },
    {
     "name": "stderr",
     "output_type": "stream",
     "text": [
      "\n"
     ]
    },
    {
     "name": "stdout",
     "output_type": "stream",
     "text": [
      "\n",
      "      Epoch    GPU_mem   box_loss   cls_loss   dfl_loss  Instances       Size\n"
     ]
    },
    {
     "name": "stderr",
     "output_type": "stream",
     "text": [
      "    197/200      8.91G     0.4343     0.3111      0.833         35       1024: 100%|██████████| 13/13 [01:37<00:00,  7.\n",
      "                 Class     Images  Instances      Box(P          R      mAP50  mAP50-95): 100%|██████████| 2/2 [00:02<0"
     ]
    },
    {
     "name": "stdout",
     "output_type": "stream",
     "text": [
      "                   all         43        200      0.916      0.895      0.926      0.737\n"
     ]
    },
    {
     "name": "stderr",
     "output_type": "stream",
     "text": [
      "\n"
     ]
    },
    {
     "name": "stdout",
     "output_type": "stream",
     "text": [
      "\n",
      "      Epoch    GPU_mem   box_loss   cls_loss   dfl_loss  Instances       Size\n"
     ]
    },
    {
     "name": "stderr",
     "output_type": "stream",
     "text": [
      "    198/200       8.9G     0.4409     0.3107     0.8585         22       1024: 100%|██████████| 13/13 [01:34<00:00,  7.\n",
      "                 Class     Images  Instances      Box(P          R      mAP50  mAP50-95): 100%|██████████| 2/2 [00:04<0"
     ]
    },
    {
     "name": "stdout",
     "output_type": "stream",
     "text": [
      "                   all         43        200      0.914       0.89      0.926      0.735\n"
     ]
    },
    {
     "name": "stderr",
     "output_type": "stream",
     "text": [
      "\n"
     ]
    },
    {
     "name": "stdout",
     "output_type": "stream",
     "text": [
      "\n",
      "      Epoch    GPU_mem   box_loss   cls_loss   dfl_loss  Instances       Size\n"
     ]
    },
    {
     "name": "stderr",
     "output_type": "stream",
     "text": [
      "    199/200      8.91G     0.4528     0.3239     0.8518         44       1024: 100%|██████████| 13/13 [01:28<00:00,  6.\n",
      "                 Class     Images  Instances      Box(P          R      mAP50  mAP50-95): 100%|██████████| 2/2 [00:02<0"
     ]
    },
    {
     "name": "stdout",
     "output_type": "stream",
     "text": [
      "                   all         43        200      0.909      0.899      0.926      0.734\n"
     ]
    },
    {
     "name": "stderr",
     "output_type": "stream",
     "text": [
      "\n"
     ]
    },
    {
     "name": "stdout",
     "output_type": "stream",
     "text": [
      "\n",
      "      Epoch    GPU_mem   box_loss   cls_loss   dfl_loss  Instances       Size\n"
     ]
    },
    {
     "name": "stderr",
     "output_type": "stream",
     "text": [
      "    200/200      8.94G     0.4346     0.3112     0.8379         56       1024: 100%|██████████| 13/13 [01:19<00:00,  6.\n",
      "                 Class     Images  Instances      Box(P          R      mAP50  mAP50-95): 100%|██████████| 2/2 [00:01<0"
     ]
    },
    {
     "name": "stdout",
     "output_type": "stream",
     "text": [
      "                   all         43        200      0.909      0.898      0.926      0.737\n"
     ]
    },
    {
     "name": "stderr",
     "output_type": "stream",
     "text": [
      "\n"
     ]
    },
    {
     "name": "stdout",
     "output_type": "stream",
     "text": [
      "\n",
      "200 epochs completed in 5.025 hours.\n",
      "Optimizer stripped from C:\\Users\\Admin\\AIO\\OCR_STR(Yolov8+CNN)\\models\\yolov8\\detect\\train\\weights\\last.pt, 22.6MB\n",
      "Optimizer stripped from C:\\Users\\Admin\\AIO\\OCR_STR(Yolov8+CNN)\\models\\yolov8\\detect\\train\\weights\\best.pt, 22.6MB\n",
      "\n",
      "Validating C:\\Users\\Admin\\AIO\\OCR_STR(Yolov8+CNN)\\models\\yolov8\\detect\\train\\weights\\best.pt...\n",
      "Ultralytics YOLOv8.2.5  Python-3.12.2 torch-2.2.2 CUDA:0 (NVIDIA GeForce RTX 2060, 6144MiB)\n",
      "YOLOv8s summary (fused): 168 layers, 11125971 parameters, 0 gradients, 28.4 GFLOPs\n"
     ]
    },
    {
     "name": "stderr",
     "output_type": "stream",
     "text": [
      "                 Class     Images  Instances      Box(P          R      mAP50  mAP50-95): 100%|██████████| 2/2 [00:00<0\n"
     ]
    },
    {
     "name": "stdout",
     "output_type": "stream",
     "text": [
      "                   all         43        200       0.91      0.907      0.926      0.738\n",
      "Speed: 0.4ms preprocess, 8.5ms inference, 0.0ms loss, 1.2ms postprocess per image\n",
      "Results saved to \u001b[1mC:\\Users\\Admin\\AIO\\OCR_STR(Yolov8+CNN)\\models\\yolov8\\detect\\train\u001b[0m\n"
     ]
    }
   ],
   "source": [
    "from ultralytics import YOLO\n",
    "\n",
    "# load a model\n",
    "model = YOLO('yolov8s.yaml').load('yolov8s.pt')\n",
    "#model.to('cuda')\n",
    "\n",
    "# Train the model\n",
    "epochs = 200\n",
    "imgsz = 1024\n",
    "results = model.train(\n",
    "    data = yolo_yaml_path,\n",
    "    epochs = epochs,\n",
    "    imgsz = imgsz,\n",
    "    project = 'C:\\\\Users\\\\Admin\\\\AIO\\\\OCR_STR(Yolov8+CNN)\\\\models',\n",
    "    name = 'yolov8\\\\detect\\\\train'\n",
    ")"
   ]
  },
  {
   "cell_type": "markdown",
   "id": "0e7652b3-9192-4d12-aa57-5adcacdd7f9c",
   "metadata": {},
   "source": [
    "# 8. Evaluation"
   ]
  },
  {
   "cell_type": "code",
   "execution_count": 20,
   "id": "8003e99b-a84d-4495-bdcb-5d035e87d59b",
   "metadata": {},
   "outputs": [
    {
     "name": "stdout",
     "output_type": "stream",
     "text": [
      "Ultralytics YOLOv8.2.5  Python-3.12.2 torch-2.2.2 CUDA:0 (NVIDIA GeForce RTX 2060, 6144MiB)\n",
      "YOLOv8s summary (fused): 168 layers, 11125971 parameters, 0 gradients, 28.4 GFLOPs\n"
     ]
    },
    {
     "name": "stderr",
     "output_type": "stream",
     "text": [
      "\u001b[34m\u001b[1mval: \u001b[0mScanning C:\\Users\\Admin\\AIO\\OCR_STR(Yolov8+CNN)\\icdar2003\\yolo_data\\val\\labels.cache... 43 images, 2 backgrounds, \u001b[0m\n",
      "                 Class     Images  Instances      Box(P          R      mAP50  mAP50-95): 100%|██████████| 3/3 [00:08<0\n"
     ]
    },
    {
     "name": "stdout",
     "output_type": "stream",
     "text": [
      "                   all         43        200       0.91      0.906      0.926      0.736\n",
      "Speed: 2.4ms preprocess, 24.0ms inference, 0.0ms loss, 3.2ms postprocess per image\n",
      "Results saved to \u001b[1mC:\\Users\\Admin\\AIO\\OCR_STR(Yolov8+CNN)\\models\\yolov8\\detect\\val\u001b[0m\n"
     ]
    }
   ],
   "source": [
    "from ultralytics import YOLO\n",
    "\n",
    "model_path = 'C:\\\\Users\\\\Admin\\\\AIO\\\\OCR_STR(Yolov8+CNN)\\\\models\\\\yolov8\\\\detect\\\\train\\\\weights\\\\best.pt'\n",
    "model = YOLO(model_path)\n",
    "\n",
    "metrics = model.val(\n",
    "    project = 'C:\\\\Users\\\\Admin\\\\AIO\\\\OCR_STR(Yolov8+CNN)\\\\models',\n",
    "    name = 'yolov8\\\\detect\\\\val'\n",
    ")"
   ]
  },
  {
   "cell_type": "markdown",
   "id": "4e69f6fd-f13a-436f-9f2b-3bfdb32bf3cd",
   "metadata": {},
   "source": [
    "# 9. Inference"
   ]
  },
  {
   "cell_type": "code",
   "execution_count": 21,
   "id": "1589228f-8842-4087-a8dc-f0cabc54f91a",
   "metadata": {},
   "outputs": [],
   "source": [
    "import cv2\n",
    "import json\n",
    "import matplotlib.pyplot as plt\n",
    "\n",
    "def visualize_bbox(\n",
    "    img_path, predictions,\n",
    "    conf_thres=0.8,\n",
    "    font=cv2.FONT_HERSHEY_SIMPLEX):\n",
    "    img = cv2.imread(img_path)\n",
    "    h, w = img.shape[:2]\n",
    "\n",
    "    for prediction in predictions:\n",
    "        conf_score = prediction['confidence']\n",
    "\n",
    "        if conf_score < conf_thres:\n",
    "            continue\n",
    "\n",
    "        bbox = prediction['box']\n",
    "        xmin = int(bbox['x1'])\n",
    "        ymin = int(bbox['y1'])\n",
    "        xmax = int(bbox['x2'])\n",
    "        ymax = int(bbox['y2'])\n",
    "\n",
    "        cv2.rectangle(img, (xmin, ymin), (xmax, ymax), (0, 255, 0), 3)\n",
    "\n",
    "        text = f'{conf_score:.2f}'\n",
    "        (text_width, text_height), _ = cv2.getTextSize(text, font, 1, 2)\n",
    "\n",
    "        cv2.rectangle(img, (xmin, ymin - text_height - 5), (xmin + text_width, ymin), (0, 255, 0), -1)\n",
    "        cv2.putText(img, text, (xmin, ymin-5), font, 1, (0, 0, 0), 2)\n",
    "\n",
    "    return img"
   ]
  },
  {
   "cell_type": "code",
   "execution_count": 31,
   "id": "4930a925-876f-45c1-91f9-a452cf9acefa",
   "metadata": {
    "scrolled": true
   },
   "outputs": [
    {
     "data": {
      "text/plain": [
       "['IMG_1247.JPG',\n",
       " 'IMG_1252.JPG',\n",
       " 'IMG_1253.JPG',\n",
       " 'IMG_1255.JPG',\n",
       " 'IMG_1259.JPG',\n",
       " 'IMG_1261.JPG',\n",
       " 'IMG_1263.JPG',\n",
       " 'IMG_1265.JPG',\n",
       " 'IMG_1269.JPG',\n",
       " 'IMG_1281.JPG',\n",
       " 'IMG_1282.JPG',\n",
       " 'IMG_1283.JPG',\n",
       " 'IMG_1284.JPG',\n",
       " 'IMG_1285.JPG',\n",
       " 'IMG_1286.JPG',\n",
       " 'IMG_1288.JPG',\n",
       " 'IMG_1289.JPG',\n",
       " 'IMG_1290.JPG',\n",
       " 'IMG_1291.JPG',\n",
       " 'IMG_1292.JPG',\n",
       " 'IMG_1293.JPG',\n",
       " 'IMG_1294.JPG',\n",
       " 'IMG_1298.JPG',\n",
       " 'IMG_1299.JPG',\n",
       " 'IMG_1300.JPG',\n",
       " 'IMG_1301.JPG',\n",
       " 'IMG_1302.JPG',\n",
       " 'IMG_1303.JPG',\n",
       " 'IMG_1304.JPG',\n",
       " 'Img_1305.jpg',\n",
       " 'IMG_1306.JPG',\n",
       " 'IMG_1307.JPG',\n",
       " 'IMG_1308.JPG',\n",
       " 'IMG_1311.JPG',\n",
       " 'IMG_1312.JPG',\n",
       " 'Img_1313.jpg',\n",
       " 'IMG_1315.JPG',\n",
       " 'IMG_1316.JPG',\n",
       " 'IMG_1317.JPG']"
      ]
     },
     "execution_count": 31,
     "metadata": {},
     "output_type": "execute_result"
    }
   ],
   "source": [
    "os.listdir('C:\\\\Users\\\\Admin\\\\AIO\\\\OCR_STR(Yolov8+CNN)\\\\icdar2003\\\\SceneTrialTrain\\\\apanar_06.08.2002')"
   ]
  },
  {
   "cell_type": "code",
   "execution_count": 33,
   "id": "f6046cba-7e4c-475e-a322-1fb6cfce4e08",
   "metadata": {},
   "outputs": [
    {
     "name": "stdout",
     "output_type": "stream",
     "text": [
      "{'name': 'text', 'class': 0, 'confidence': 0.91478, 'box': {'x1': 915.4751, 'y1': 447.74265, 'x2': 1221.60095, 'y2': 512.1958}}\n"
     ]
    },
    {
     "data": {
      "image/png": "[encoded data removed]",
      "text/plain": [
       "<Figure size 640x480 with 1 Axes>"
      ]
     },
     "metadata": {},
     "output_type": "display_data"
    }
   ],
   "source": [
    "from ultralytics import YOLO\n",
    "\n",
    "model_path = 'C:\\\\Users\\\\Admin\\\\AIO\\\\OCR_STR(Yolov8+CNN)\\\\models\\\\yolov8\\\\detect\\\\train\\\\weights\\\\best.pt'\n",
    "img_path = 'C:\\\\Users\\\\Admin\\\\AIO\\\\OCR_STR(Yolov8+CNN)\\\\icdar2003\\\\SceneTrialTrain\\\\apanar_06.08.2002\\\\IMG_1259.JPG'\n",
    "conf_thres = 0.75\n",
    "\n",
    "model = YOLO(model_path)\n",
    "\n",
    "# Run inference\n",
    "results = model(img_path, verbose=False)\n",
    "predictions = json.loads(results[0].tojson())\n",
    "print(predictions[0])\n",
    "visulized_img = visualize_bbox(img_path, predictions, conf_thres)\n",
    "\n",
    "%matplotlib inline\n",
    "plt.imshow(visulized_img)\n",
    "plt.axis('off')\n",
    "plt.show()"
   ]
  },
  {
   "cell_type": "code",
   "execution_count": null,
   "id": "aa145b49-2fe8-48ea-9b16-1fcef9ad4dd5",
   "metadata": {},
   "outputs": [],
   "source": []
  }
 ],
 "metadata": {
  "kernelspec": {
   "display_name": "Python 3 (ipykernel)",
   "language": "python",
   "name": "python3"
  },
  "language_info": {
   "codemirror_mode": {
    "name": "ipython",
    "version": 3
   },
   "file_extension": ".py",
   "mimetype": "text/x-python",
   "name": "python",
   "nbconvert_exporter": "python",
   "pygments_lexer": "ipython3",
   "version": "3.12.2"
  }
 },
 "nbformat": 4,
 "nbformat_minor": 5
}
